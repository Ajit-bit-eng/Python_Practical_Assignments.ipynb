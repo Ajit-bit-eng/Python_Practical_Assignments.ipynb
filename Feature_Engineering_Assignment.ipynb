{
  "nbformat": 4,
  "nbformat_minor": 0,
  "metadata": {
    "colab": {
      "provenance": [],
      "authorship_tag": "ABX9TyOkx5y3Rcg1kJuEJNYyejh9",
      "include_colab_link": true
    },
    "kernelspec": {
      "name": "python3",
      "display_name": "Python 3"
    },
    "language_info": {
      "name": "python"
    }
  },
  "cells": [
    {
      "cell_type": "markdown",
      "metadata": {
        "id": "view-in-github",
        "colab_type": "text"
      },
      "source": [
        "<a href=\"https://colab.research.google.com/github/Ajit-bit-eng/Python_Practical_Assignments.ipynb/blob/main/Feature_Engineering_Assignment.ipynb\" target=\"_parent\"><img src=\"https://colab.research.google.com/assets/colab-badge.svg\" alt=\"Open In Colab\"/></a>"
      ]
    },
    {
      "cell_type": "markdown",
      "source": [
        "# 1] What is a parameter ?"
      ],
      "metadata": {
        "id": "-joT_VwWZKJI"
      }
    },
    {
      "cell_type": "markdown",
      "source": [
        "ANS.\n",
        "\n",
        " A parameter in machine learning refers to a configuration variable internal to the model that is learned during the training process. Parameters define the model's architecture and determine its output. For example, in linear regression, parameters are the coefficients 𝑤 and the intercept 𝑏 These values are adjusted by the learning algorithm to minimize the error between predicted and actual outputs."
      ],
      "metadata": {
        "id": "QHSX0mEcZUOa"
      }
    },
    {
      "cell_type": "markdown",
      "source": [
        "# 2] What is correlation ? What does negative correlation mean ?"
      ],
      "metadata": {
        "id": "aSWxJM_zaKcM"
      }
    },
    {
      "cell_type": "markdown",
      "source": [
        "ANS.\n",
        "\n",
        "Correlation is a statistical measure that expresses the extent to which two variables are linearly related. It quantifies both the strength and direction of the relationship. The value of correlation (denoted by\n",
        "r) ranges from -1 to 1:\n",
        "\n",
        "\n",
        "r = 1: Perfect positive correlation.\n",
        "\n",
        "r = -1: Perfect negative correlation.\n",
        "\n",
        "r = 0: No linear correlation.\n",
        "\n",
        "For example, if the sales of umbrellas increase with rainfall, they have a positive correlation.\n",
        "\n",
        "\n",
        "Negative correlation occurs when one variable increases while the other decreases, indicating an inverse relationship. The correlation coefficient\n",
        "r for negative correlation ranges from 0 to -1. For instance, the demand for heaters decreases as the temperature rises. In this case, an\n",
        "r value close to -1 indicates a strong negative relationship."
      ],
      "metadata": {
        "id": "VX8oS5TwaQ5M"
      }
    },
    {
      "cell_type": "markdown",
      "source": [
        "# 3]  Define Machine Learning. What are the main components in Machine Learning ?"
      ],
      "metadata": {
        "id": "yU_JAh4Gay_M"
      }
    },
    {
      "cell_type": "markdown",
      "source": [
        "ANS.\n",
        "\n",
        "Machine Learning (ML) is a subset of artificial intelligence that enables systems to learn patterns from data and make predictions or decisions without being explicitly programmed.\n",
        "Main components of ML:\n",
        "\n",
        " 1. Data: The raw material for training models.\n",
        "\n",
        " 2. Model: Algorithms used to identify patterns in the data (e.g., Linear Regression, Neural Networks).\n",
        "\n",
        " 3. Training: The process of adjusting parameters using data to minimize error.\n",
        "\n",
        " 4. Evaluation: Testing model performance on unseen data.\n",
        "\n",
        " 5. Prediction: Applying the trained model to make predictions."
      ],
      "metadata": {
        "id": "Pm5NlwAzbFm2"
      }
    },
    {
      "cell_type": "markdown",
      "source": [
        "# 4] How does loss value help in determining whether the model is good or not?"
      ],
      "metadata": {
        "id": "pFrUOpsobfn9"
      }
    },
    {
      "cell_type": "markdown",
      "source": [
        "ANS.\n",
        "\n",
        "Loss value quantifies the difference between the predicted output and the actual target. A lower loss value generally indicates a better-performing model.\n",
        "\n",
        "The loss value is a crucial metric in machine learning and helps assess how well a model is performing during training or evaluation. Here's how it contributes to understanding the model's quality:\n",
        "\n",
        " 1. Indicator of Model Performance\n",
        "\n",
        "The loss function quantifies the difference between the predicted outputs of the model and the actual target values. A lower loss value indicates that the predictions are closer to the true values, suggesting better performance.\n",
        "A high loss value means the model is making significant errors.\n",
        "\n",
        " 2. Optimization Process\n",
        "\n",
        "During training, the loss value guides the optimization process. The optimizer (e.g., Gradient Descent) adjusts the model parameters to minimize the loss function.\n",
        "By monitoring the loss value, you can observe whether the model is learning\n",
        "(loss decreases) or struggling (loss remains constant or increases).\n",
        "\n",
        " 3. Generalization\n",
        "Training Loss vs. Validation Loss: If the training loss is low, but the validation loss is high, it suggests overfitting, where the model performs well on training data but poorly on unseen data.\n",
        "Consistently low validation loss implies that the model is generalizing well to\n",
        "new data.\n",
        "\n",
        " 4. Comparison of Models\n",
        "Loss values allow you to compare different models or configurations. For\n",
        "\n",
        "example:\n",
        "\n",
        "Compare different architectures, hyperparameters, or datasets.\n",
        "A model with a lower validation loss is typically preferred.\n",
        "\n",
        " 5. Limitations\n",
        "\n",
        "Loss value alone does not give the complete picture of model performance. It must be paired with evaluation metrics like accuracy, precision, recall, or F1 score, especially for classification problems.\n",
        "For regression, additional metrics like mean absolute error (MAE) or root mean square error (RMSE) provide more interpretability.\n",
        "\n",
        "Example in Practice:\n",
        "\n",
        "If you're training a regression model with a Mean Squared Error (MSE) loss function:\n",
        "\n",
        "\n",
        "Initial training: Loss starts high (e.g., 10).\n",
        "\n",
        "\n",
        "As training progresses:\n",
        "\n",
        "Loss decreases (e.g., to 0.5), indicating the model is improving.\n",
        "\n",
        "If the loss plateaus or increases after some time, you might need to:\n",
        "\n",
        "Check for overfitting.\n",
        "\n",
        "Adjust the learning rate or try a different model architecture."
      ],
      "metadata": {
        "id": "GKrR7GWYbiw9"
      }
    },
    {
      "cell_type": "markdown",
      "source": [
        "# 5] What are continuous and categorical variables?"
      ],
      "metadata": {
        "id": "Fctl0d02xdt7"
      }
    },
    {
      "cell_type": "markdown",
      "source": [
        "ANS.\n",
        "\n",
        "Continuous variables are numeric variables that can take any value within a given range, and they can be measured with infinite precision. These variables can represent quantities and can be divided into smaller intervals.\n",
        "\n",
        " Examples include:\n",
        "\n",
        "Height (e.g., 5.5 feet, 5.55 feet)\n",
        "Weight (e.g., 70.1 kg, 70.12 kg)\n",
        "Temperature (e.g., 22.5°C, 22.56°C)\n",
        "\n",
        "\n",
        "Categorical variables are variables that represent categories or groups. These variables take a limited, fixed number of possible values, often representing qualitative attributes rather than quantities.\n",
        "\n",
        "Examples include:\n",
        "\n",
        "Gender (e.g., Male, Female)\n",
        "Color (e.g., Red, Blue, Green)\n",
        "Country (e.g., USA, Canada, India)"
      ],
      "metadata": {
        "id": "aXzW8hfUxhBb"
      }
    },
    {
      "cell_type": "markdown",
      "source": [
        "# 6] How do we handle categorical variables in Machine Learning? What are the common techniques ?"
      ],
      "metadata": {
        "id": "GEh0uQq7hJKJ"
      }
    },
    {
      "cell_type": "markdown",
      "source": [
        "ANS.\n",
        "\n",
        "Categorical variables are typically encoded into numerical formats for machine learning models.\n",
        "Common techniques:\n",
        "\n",
        "Label Encoding: Assigns an integer to each category (e.g., Male = 0, Female = 1).\n",
        "\n",
        "One-Hot Encoding: Converts categories into binary columns (e.g., Red = [1, 0, 0], Blue = [0, 1, 0]).\n",
        "\n",
        "Target Encoding: Uses the mean of the target variable for each category.\n",
        "Frequency Encoding: Replaces categories with their frequency count.\n"
      ],
      "metadata": {
        "id": "refbkbSEhWbI"
      }
    },
    {
      "cell_type": "markdown",
      "source": [
        "# 7] What do you mean by training and testing a dataset ?"
      ],
      "metadata": {
        "id": "kmuxtiPzh-QE"
      }
    },
    {
      "cell_type": "markdown",
      "source": [
        "ANS.\n",
        "\n",
        "Training and testing a dataset are two crucial steps in building and evaluating machine learning models :\n",
        "\n",
        " 1. Training a Dataset\n",
        "\n",
        "Purpose:\n",
        "\n",
        "The training dataset is used to teach the machine learning model. It contains input data (features) along with the corresponding output (labels or target values for supervised learning).\n",
        "\n",
        "Process:\n",
        "\n",
        "The model analyzes the patterns and relationships in the training data.\n",
        "It adjusts its internal parameters to minimize error and make better predictions on similar data.\n",
        "\n",
        "Outcome:\n",
        "\n",
        " The model \"learns\" from the training data, but it is specifically tuned for the patterns present in this dataset.\n",
        "\n",
        "\n",
        " 2. Testing a Dataset\n",
        "\n",
        "Purpose:\n",
        "\n",
        " The testing dataset is used to evaluate the model's performance on unseen data. This helps to measure how well the model has generalized its learning.\n",
        "\n",
        "Process:\n",
        "\n",
        "The trained model is given input data from the testing set (features) but does not see the corresponding outputs (labels).\n",
        "The model makes predictions based on the input data.\n",
        "These predictions are compared with the actual labels to assess accuracy, precision, recall, and other metrics.\n",
        "\n",
        "Outcome:\n",
        "\n",
        "The testing phase provides an unbiased evaluation of the model's effectiveness."
      ],
      "metadata": {
        "id": "Gb3DjvT6iG6N"
      }
    },
    {
      "cell_type": "markdown",
      "source": [
        "# 8] What is sklearn.preprocessing ?"
      ],
      "metadata": {
        "id": "j_gqKfXZiPjZ"
      }
    },
    {
      "cell_type": "markdown",
      "source": [
        "ANS.\n",
        "\n",
        "sklearn.preprocessing is a module in the scikit-learn library that provides tools for preprocessing and transforming data before feeding it into machine learning models. Preprocessing is an essential step in the machine learning pipeline to ensure the data is in a suitable format and scale for optimal model performance."
      ],
      "metadata": {
        "id": "pCK1VRcckCHi"
      }
    },
    {
      "cell_type": "markdown",
      "source": [
        "# 9] What is a Test set ?"
      ],
      "metadata": {
        "id": "RTSb6_4zkY_X"
      }
    },
    {
      "cell_type": "markdown",
      "source": [
        "ANS.\n",
        "\n",
        "A test set is a subset of data used to evaluate the performance of a trained machine learning model. It is kept separate from the training data and is used only after the model has been trained to ensure an unbiased assessment of its ability to generalize to unseen data."
      ],
      "metadata": {
        "id": "k-sXT69AkY7t"
      }
    },
    {
      "cell_type": "markdown",
      "source": [
        "# 10] How do we split data for model fitting (training and testing) in Python?\n",
        "\n",
        "How do you approach a Machine Learning problem?"
      ],
      "metadata": {
        "id": "gI-h6qJ1k2Ps"
      }
    },
    {
      "cell_type": "markdown",
      "source": [
        "ANS.\n",
        "\n",
        "The train_test_split function from sklearn.model_selection is commonly used to split data into training and testing sets.\n",
        "\n",
        "Steps for Data Splitting\n",
        "\n",
        "\n",
        " 1. Import Required Libraries:"
      ],
      "metadata": {
        "id": "2SNasLtflFVB"
      }
    },
    {
      "cell_type": "code",
      "source": [
        "from sklearn.model_selection import train_test_split"
      ],
      "metadata": {
        "id": "xoNuxH1-l42G"
      },
      "execution_count": null,
      "outputs": []
    },
    {
      "cell_type": "markdown",
      "source": [
        " 2. Split the Data:"
      ],
      "metadata": {
        "id": "-4sktwIKl8gR"
      }
    },
    {
      "cell_type": "code",
      "source": [
        "# Assuming X is the feature matrix and y is the target variable\n",
        "\n",
        "X_train, X_test, y_train, y_test = train_test_split(X, y, test_size=0.2, random_state=42)\n"
      ],
      "metadata": {
        "id": "pXSosvDhmCvm"
      },
      "execution_count": null,
      "outputs": []
    },
    {
      "cell_type": "markdown",
      "source": [
        "test_size=0.2: Allocates 20% of the data for testing.\n",
        "\n",
        "random_state=42: Ensures reproducibility by setting a seed.\n",
        "\n",
        " 3. Verify Shapes:"
      ],
      "metadata": {
        "id": "kNrEHtUrmIBf"
      }
    },
    {
      "cell_type": "code",
      "source": [
        "print(f\"Training Features Shape: {X_train.shape}\")\n",
        "print(f\"Testing Features Shape: {X_test.shape}\")\n"
      ],
      "metadata": {
        "id": "0zfl_zK2mnOR"
      },
      "execution_count": null,
      "outputs": []
    },
    {
      "cell_type": "markdown",
      "source": [
        "Approach to a Machine Learning Problem\n",
        "\n",
        "\n",
        " 1. Define the Problem\n",
        "\n",
        "Understand the problem domain.\n",
        "\n",
        "Define the objective (e.g., classification, regression, clustering).\n",
        "\n",
        " 2. Collect and Explore the Data\n",
        "\n",
        "Gather data from relevant sources.\n",
        "\n",
        "Perform Exploratory Data Analysis (EDA):\n",
        "\n",
        "Visualize data distributions (e.g., histograms, scatter plots).\n",
        "\n",
        "Identify patterns, trends, or anomalies.\n",
        "\n",
        " 3. Preprocess the Data\n",
        "\n",
        "Handle missing values:\n",
        "\n",
        "Impute with mean/median/mode.\n",
        "\n",
        "Drop rows/columns with excessive missing data.\n",
        "\n",
        "Encode categorical variables:\n",
        "\n",
        "Use OneHotEncoder or LabelEncoder.\n",
        "\n",
        "Scale or normalize features using:\n",
        "\n",
        "StandardScaler for standardization.\n",
        "\n",
        "MinMaxScaler for normalization.\n",
        "\n",
        " 4. Split the Data\n",
        "\n",
        "Split into training and testing sets :"
      ],
      "metadata": {
        "id": "boiCpwySmpmy"
      }
    },
    {
      "cell_type": "code",
      "source": [
        "from sklearn.model_selection import train_test_split\n",
        "X_train, X_test, y_train, y_test = train_test_split(X, y, test_size=0.2, random_state=42)\n"
      ],
      "metadata": {
        "id": "oWHIbbh8mkJ8"
      },
      "execution_count": null,
      "outputs": []
    },
    {
      "cell_type": "markdown",
      "source": [
        " 5. Choose a Model\n",
        "\n",
        "Identify suitable algorithms based on the problem type:\n",
        "\n",
        "Classification: Logistic Regression, Random Forest, SVM.\n",
        "\n",
        "Regression: Linear Regression, Decision Trees, Gradient Boosting.\n",
        "\n",
        "Clustering: K-Means, DBSCAN.\n",
        "\n",
        " 6. Train the Model\n",
        "\n",
        "Train the model using the training set:"
      ],
      "metadata": {
        "id": "ZZgabEAdmnAr"
      }
    },
    {
      "cell_type": "code",
      "source": [
        "model = SomeModel()\n",
        "model.fit(X_train, y_train)\n"
      ],
      "metadata": {
        "id": "rrpnYT1Gm7jp"
      },
      "execution_count": null,
      "outputs": []
    },
    {
      "cell_type": "markdown",
      "source": [
        " 7. Evaluate the Model\n",
        "\n",
        "Use the test set for evaluation :"
      ],
      "metadata": {
        "id": "eCFnPcvnm-Ba"
      }
    },
    {
      "cell_type": "code",
      "source": [
        "predictions = model.predict(X_test)\n"
      ],
      "metadata": {
        "id": "BQt6Ebl7nE2C"
      },
      "execution_count": null,
      "outputs": []
    },
    {
      "cell_type": "markdown",
      "source": [
        "Measure performance using appropriate metrics:\n",
        "\n",
        " 8. Fine-Tune the Model\n",
        "\n",
        "Optimize hyperparameters using:\n",
        "\n",
        "Grid Search (GridSearchCV)\n",
        "\n",
        "Random Search (RandomizedSearchCV)\n",
        "\n",
        "Evaluate using cross-validation.\n",
        "\n",
        " 9. Deploy the Model\n",
        "\n",
        "Save the model:\n",
        "\n"
      ],
      "metadata": {
        "id": "D8YroI8rnHFt"
      }
    },
    {
      "cell_type": "code",
      "source": [
        "import joblib\n",
        "joblib.dump(model, 'model.pkl')"
      ],
      "metadata": {
        "id": "CfDQM-LpNn95"
      },
      "execution_count": null,
      "outputs": []
    },
    {
      "cell_type": "markdown",
      "source": [
        "Deploy in production using APIs (e.g., Flask, FastAPI).\n"
      ],
      "metadata": {
        "id": "JGx_FG_1Y5gr"
      }
    },
    {
      "cell_type": "markdown",
      "source": [
        "# 11] Why do we have to perform EDA before fitting a model to the data?"
      ],
      "metadata": {
        "id": "UbxGXT3ZZdsI"
      }
    },
    {
      "cell_type": "markdown",
      "source": [
        "ANS.\n",
        "\n",
        "Exploratory Data Analysis (EDA) is a critical step before fitting a model to the data. It involves analyzing the dataset to uncover insights, detect issues, and prepare the data for modeling. Here’s why EDA is essential:\n",
        "\n",
        "\n",
        " 1. Understand the Data\n",
        "\n",
        " To know the dataset’s structure, content, and statistical properties.\n",
        "\n",
        "Examine data types, dimensions, and basic statistics.\n",
        "\n",
        "Example: Using data.info() or data.describe() in Python.\n",
        "\n",
        " 2.  Detect and Handle Missing Values\n",
        "\n",
        "\n",
        " Missing values can lead to errors or biased results in model training.\n",
        "\n",
        "Identify missing data patterns (data.isnull().sum()).\n",
        "\n",
        "Handle them by imputation (mean/median/mode) or removal.\n",
        "\n",
        " 3. Identify Outliers\n",
        "\n",
        " Outliers can distort model performance, especially in sensitive algorithms like linear regression.\n",
        "\n",
        "Use box plots or statistical methods (e.g., Z-score or IQR).\n",
        "\n",
        "Decide whether to remove or transform outliers.\n",
        "\n",
        " 4. Check Feature Distributions\n",
        "\n",
        " Many algorithms assume specific distributions (e.g., normal distribution for linear models).\n",
        "\n",
        "Visualize distributions using histograms or density plots.\n",
        "\n",
        "Transform features if necessary (e.g., log transformation).\n",
        "\n",
        " 5. Analyze Relationships Between Features\n",
        "\n",
        " To understand correlations and dependencies that affect the model.\n",
        "\n",
        "Use scatter plots, correlation heatmaps (sns.heatmap()).\n",
        "\n",
        "Drop redundant features with high correlations.\n",
        "\n",
        " 6. Understand the Target Variable\n",
        "\n",
        " To understand its distribution and relationship with features.\n",
        "\n",
        "Visualize the target variable using histograms or bar charts.\n",
        "\n",
        "For classification, check class imbalance and consider resampling techniques.\n",
        "\n",
        " 7. Detect Data Quality Issues\n",
        "\n",
        " Data errors (e.g., duplicate rows, incorrect entries) can mislead the model.\n",
        "\n",
        "Identify duplicates or inconsistencies.\n",
        "\n",
        "Correct or remove problematic entries.\n",
        "\n",
        " 8. Select and Engineer Features\n",
        "\n",
        " Not all features contribute equally to the model’s performance.\n",
        "\n",
        "Identify irrelevant or weak features.\n",
        "\n",
        "Engineer new features using domain knowledge or techniques like PCA.\n",
        "\n",
        " 9. Assess Data Suitability for Modeling\n",
        "\n",
        " To ensure the data aligns with the chosen algorithm’s requirements.\n",
        "\n",
        "Check for categorical variables needing encoding.\n",
        "\n",
        "Ensure numerical features are scaled appropriately.\n",
        "\n",
        " 10. Gain Intuition and Hypotheses\n",
        "\n",
        " To understand the problem and develop hypotheses that inform model selection and evaluation.\n",
        "\n",
        "Analyze trends and patterns.\n",
        "\n",
        "Test initial hypotheses to refine the modeling approach.\n",
        "\n",
        "Key Outcomes of EDA\n",
        "\n",
        "Cleaner Data: Improved data quality and structure.\n",
        "\n",
        "Feature Insights: Better understanding of which features are important.\n",
        "\n",
        "Informed Decisions: Choice of models, transformations, and hyperparameters is guided by data insights.\n",
        "\n",
        "Skipping EDA can lead to poor model performance, misinterpretation of results, and wasted time debugging issues that could have been addressed earlier."
      ],
      "metadata": {
        "id": "A-WIWPVcY_AS"
      }
    },
    {
      "cell_type": "markdown",
      "source": [
        "# 12] What is correlation?"
      ],
      "metadata": {
        "id": "Qu3kHFEDbTE4"
      }
    },
    {
      "cell_type": "markdown",
      "source": [
        "Repeatition of Question no. 2"
      ],
      "metadata": {
        "id": "NHhEY7CvdLdZ"
      }
    },
    {
      "cell_type": "markdown",
      "source": [
        "# 13] What does negative correlation mean?"
      ],
      "metadata": {
        "id": "JK3Y_N1Adc9i"
      }
    },
    {
      "cell_type": "markdown",
      "source": [
        "Repeatition of Question no. 2"
      ],
      "metadata": {
        "id": "fot5pjnDdjwx"
      }
    },
    {
      "cell_type": "markdown",
      "source": [
        "# 14]  How can you find correlation between variables in Python?"
      ],
      "metadata": {
        "id": "eJV8QQ_5dpeE"
      }
    },
    {
      "cell_type": "markdown",
      "source": [
        "ANS.\n",
        "\n",
        "In Python, you can find the correlation between variables using libraries like pandas, numpy, or by visualizing the relationships using seaborn or matplotlib. Here's how you can do it :\n",
        "\n",
        " 1. Using pandas\n",
        "\n",
        "The corr() method in pandas computes the correlation matrix for numerical columns in a DataFrame.\n",
        "\n",
        "Example"
      ],
      "metadata": {
        "id": "hbdGbyE4d1Lx"
      }
    },
    {
      "cell_type": "code",
      "source": [
        "import pandas as pd\n",
        "\n",
        "# Sample dataset\n",
        "data = {\n",
        "    'Variable1': [1, 2, 3, 4, 5],\n",
        "    'Variable2': [2, 4, 6, 8, 10],\n",
        "    'Variable3': [10, 8, 6, 4, 2]\n",
        "}\n",
        "\n",
        "df = pd.DataFrame(data)\n",
        "\n",
        "# Compute correlation matrix\n",
        "correlation_matrix = df.corr()\n",
        "print(correlation_matrix)\n"
      ],
      "metadata": {
        "colab": {
          "base_uri": "https://localhost:8080/"
        },
        "id": "ZpbOetvveTHY",
        "outputId": "6497eea4-316b-4a2c-ff57-be84f18363b3"
      },
      "execution_count": null,
      "outputs": [
        {
          "output_type": "stream",
          "name": "stdout",
          "text": [
            "           Variable1  Variable2  Variable3\n",
            "Variable1        1.0        1.0       -1.0\n",
            "Variable2        1.0        1.0       -1.0\n",
            "Variable3       -1.0       -1.0        1.0\n"
          ]
        }
      ]
    },
    {
      "cell_type": "markdown",
      "source": [
        "The values indicate the Pearson correlation coefficient by default.\n",
        "\n",
        " 2. Using numpy\n",
        "The numpy.corrcoef() function computes the correlation between two variables.\n",
        "\n",
        "Example"
      ],
      "metadata": {
        "id": "G736HFi9ekfY"
      }
    },
    {
      "cell_type": "code",
      "source": [
        "import numpy as np\n",
        "\n",
        "# Two variables\n",
        "x = [1, 2, 3, 4, 5]\n",
        "y = [2, 4, 6, 8, 10]\n",
        "\n",
        "# Compute correlation coefficient matrix\n",
        "correlation = np.corrcoef(x, y)\n",
        "print(correlation)\n"
      ],
      "metadata": {
        "colab": {
          "base_uri": "https://localhost:8080/"
        },
        "id": "K9xeS6EZetIM",
        "outputId": "aca32cfb-3f79-4f17-fa53-2a733a99eb9c"
      },
      "execution_count": null,
      "outputs": [
        {
          "output_type": "stream",
          "name": "stdout",
          "text": [
            "[[1. 1.]\n",
            " [1. 1.]]\n"
          ]
        }
      ]
    },
    {
      "cell_type": "markdown",
      "source": [
        " 3. Visualizing Correlation\n",
        "\n",
        "Using Seaborn Heatmap\n",
        "\n",
        "A heatmap is a visual representation of the correlation matrix."
      ],
      "metadata": {
        "id": "P8LJ6CQAfBmx"
      }
    },
    {
      "cell_type": "code",
      "source": [
        "import seaborn as sns\n",
        "import matplotlib.pyplot as plt\n",
        "\n",
        "# Create heatmap\n",
        "sns.heatmap(df.corr(), annot=True, cmap=\"coolwarm\")\n",
        "plt.title(\"Correlation Matrix\")\n",
        "plt.show()\n"
      ],
      "metadata": {
        "colab": {
          "base_uri": "https://localhost:8080/",
          "height": 452
        },
        "id": "s7oKtsRXfIbV",
        "outputId": "339edd6e-8d2d-431d-db15-8376352ac0e5"
      },
      "execution_count": null,
      "outputs": [
        {
          "output_type": "display_data",
          "data": {
            "text/plain": [
              "<Figure size 640x480 with 2 Axes>"
            ],
            "image/png": "[encoded data removed]"
          },
          "metadata": {}
        }
      ]
    },
    {
      "cell_type": "markdown",
      "source": [
        "The annot=True adds correlation values on the heatmap.\n",
        "\n",
        "The cmap=\"coolwarm\" specifies the color scheme.\n",
        "\n",
        "Using Scatter Plots\n",
        "\n",
        "Scatter plots help visualize relationships between two variables."
      ],
      "metadata": {
        "id": "W91Gi3oKfO77"
      }
    },
    {
      "cell_type": "code",
      "source": [
        "sns.scatterplot(x=df['Variable1'], y=df['Variable2'])\n",
        "plt.title(\"Scatter Plot of Variable1 vs Variable2\")\n",
        "plt.show()\n"
      ],
      "metadata": {
        "colab": {
          "base_uri": "https://localhost:8080/",
          "height": 472
        },
        "id": "Bg5kwIEIfcYi",
        "outputId": "c64a25c2-a178-4044-a20d-77c65a714146"
      },
      "execution_count": null,
      "outputs": [
        {
          "output_type": "display_data",
          "data": {
            "text/plain": [
              "<Figure size 640x480 with 1 Axes>"
            ],
            "image/png": "[encoded data removed]"
          },
          "metadata": {}
        }
      ]
    },
    {
      "cell_type": "markdown",
      "source": [
        " 4. Handling Non-Linear Relationships\n",
        "\n",
        "Spearman Correlation\n",
        "\n",
        "For monotonic relationships (not linear):"
      ],
      "metadata": {
        "id": "kh9QYKxtfqu2"
      }
    },
    {
      "cell_type": "code",
      "source": [
        "spearman_corr = df.corr(method='spearman')\n",
        "print(spearman_corr)\n"
      ],
      "metadata": {
        "colab": {
          "base_uri": "https://localhost:8080/"
        },
        "id": "WDL8k9MQfvnv",
        "outputId": "7722c825-17a3-4fb1-908d-e0e2f9493991"
      },
      "execution_count": null,
      "outputs": [
        {
          "output_type": "stream",
          "name": "stdout",
          "text": [
            "           Variable1  Variable2  Variable3\n",
            "Variable1        1.0        1.0       -1.0\n",
            "Variable2        1.0        1.0       -1.0\n",
            "Variable3       -1.0       -1.0        1.0\n"
          ]
        }
      ]
    },
    {
      "cell_type": "markdown",
      "source": [
        "# 15] What is causation? Explain difference between correlation and causation with an example."
      ],
      "metadata": {
        "id": "jkVGiUhtgPi5"
      }
    },
    {
      "cell_type": "markdown",
      "source": [
        "ANS.\n",
        "\n",
        "Causation\n",
        "\n",
        "Causation refers to a situation where one event or variable directly affects another. In other words, causation implies that changes in one variable are responsible for changes in another.\n",
        "\n",
        "Key Difference Between Correlation and Causation\n",
        "\n",
        "Correlation :\n",
        "\n",
        "Measures the relationship (association) between two variables.\n",
        "\n",
        "Can be positive, negative, or zero.\n",
        "\n",
        "Does not imply causation.\n",
        "\n",
        "Example - Ice cream sales and drowning incidents are correlated.\n",
        "\n",
        "\n",
        "Causation :\n",
        "\n",
        "Indicates that one variable directly causes a change in another.\n",
        "\n",
        "Has a clear cause-and-effect relationship.\n",
        "\n",
        "Implies a direct link or mechanism.\n",
        "\n",
        "Example - High-calorie intake causes weight gain.\n",
        "\n",
        "\n"
      ],
      "metadata": {
        "id": "emxF68plgPej"
      }
    },
    {
      "cell_type": "markdown",
      "source": [
        "# 16] What is an Optimizer? What are different types of optimizers? Explain each with an example."
      ],
      "metadata": {
        "id": "G7zVLoFmiEL0"
      }
    },
    {
      "cell_type": "markdown",
      "source": [
        "ANS.\n",
        "\n",
        "An optimizer is an algorithm or method used to update the parameters (e.g., weights) of a machine learning model to minimize the loss function. The goal of an optimizer is to find the best set of parameters that results in the lowest possible error on the training data.\n",
        "\n",
        "Types of Optimizers\n",
        "\n",
        "Optimizers can be broadly categorized into two types:\n",
        "\n",
        "First-Order Optimizers:\n",
        "\n",
        "Use only the gradient of the loss function.\n",
        "\n",
        "Second-Order Optimizers:\n",
        "\n",
        "Use both the gradient and second derivatives (Hessian matrix).\n",
        "\n",
        "\n",
        " 1. Gradient Descent (GD)\n",
        "\n",
        "Description:\n",
        "\n",
        "Updates parameters by calculating the gradient of the loss function with respect to the parameters and moving in the opposite direction of the gradient.\n",
        "\n",
        "Variants:\n",
        "\n",
        "Batch Gradient Descent:\n",
        "\n",
        "Uses the entire dataset to compute gradients.\n",
        "\n",
        "Stochastic Gradient Descent (SGD):\n",
        "\n",
        "Updates parameters for each data point.\n",
        "\n",
        "Mini-Batch Gradient Descent:\n",
        "\n",
        "Updates parameters using small batches of data.\n",
        "\n",
        "Example"
      ],
      "metadata": {
        "id": "NYRu9wwpiQ2K"
      }
    },
    {
      "cell_type": "code",
      "source": [
        "from sklearn.linear_model import SGDRegressor\n",
        "\n",
        "# Example dataset\n",
        "X = [[0.5], [2.0], [3.0]]\n",
        "y = [1.0, 4.0, 6.0]\n",
        "\n",
        "# Stochastic Gradient Descent\n",
        "model = SGDRegressor(max_iter=1000, learning_rate='constant', eta0=0.01)\n",
        "model.fit(X, y)\n"
      ],
      "metadata": {
        "colab": {
          "base_uri": "https://localhost:8080/",
          "height": 80
        },
        "id": "e7ZsVIynjqFP",
        "outputId": "fe427de4-226d-499e-d93c-10bad0d9d98e"
      },
      "execution_count": null,
      "outputs": [
        {
          "output_type": "execute_result",
          "data": {
            "text/plain": [
              "SGDRegressor(learning_rate='constant')"
            ],
            "text/html": [
              "<style>#sk-container-id-1 {\n",
              "  /* Definition of color scheme common for light and dark mode */\n",
              "  --sklearn-color-text: #000;\n",
              "  --sklearn-color-text-muted: #666;\n",
              "  --sklearn-color-line: gray;\n",
              "  /* Definition of color scheme for unfitted estimators */\n",
              "  --sklearn-color-unfitted-level-0: #fff5e6;\n",
              "  --sklearn-color-unfitted-level-1: #f6e4d2;\n",
              "  --sklearn-color-unfitted-level-2: #ffe0b3;\n",
              "  --sklearn-color-unfitted-level-3: chocolate;\n",
              "  /* Definition of color scheme for fitted estimators */\n",
              "  --sklearn-color-fitted-level-0: #f0f8ff;\n",
              "  --sklearn-color-fitted-level-1: #d4ebff;\n",
              "  --sklearn-color-fitted-level-2: #b3dbfd;\n",
              "  --sklearn-color-fitted-level-3: cornflowerblue;\n",
              "\n",
              "  /* Specific color for light theme */\n",
              "  --sklearn-color-text-on-default-background: var(--sg-text-color, var(--theme-code-foreground, var(--jp-content-font-color1, black)));\n",
              "  --sklearn-color-background: var(--sg-background-color, var(--theme-background, var(--jp-layout-color0, white)));\n",
              "  --sklearn-color-border-box: var(--sg-text-color, var(--theme-code-foreground, var(--jp-content-font-color1, black)));\n",
              "  --sklearn-color-icon: #696969;\n",
              "\n",
              "  @media (prefers-color-scheme: dark) {\n",
              "    /* Redefinition of color scheme for dark theme */\n",
              "    --sklearn-color-text-on-default-background: var(--sg-text-color, var(--theme-code-foreground, var(--jp-content-font-color1, white)));\n",
              "    --sklearn-color-background: var(--sg-background-color, var(--theme-background, var(--jp-layout-color0, #111)));\n",
              "    --sklearn-color-border-box: var(--sg-text-color, var(--theme-code-foreground, var(--jp-content-font-color1, white)));\n",
              "    --sklearn-color-icon: #878787;\n",
              "  }\n",
              "}\n",
              "\n",
              "#sk-container-id-1 {\n",
              "  color: var(--sklearn-color-text);\n",
              "}\n",
              "\n",
              "#sk-container-id-1 pre {\n",
              "  padding: 0;\n",
              "}\n",
              "\n",
              "#sk-container-id-1 input.sk-hidden--visually {\n",
              "  border: 0;\n",
              "  clip: rect(1px 1px 1px 1px);\n",
              "  clip: rect(1px, 1px, 1px, 1px);\n",
              "  height: 1px;\n",
              "  margin: -1px;\n",
              "  overflow: hidden;\n",
              "  padding: 0;\n",
              "  position: absolute;\n",
              "  width: 1px;\n",
              "}\n",
              "\n",
              "#sk-container-id-1 div.sk-dashed-wrapped {\n",
              "  border: 1px dashed var(--sklearn-color-line);\n",
              "  margin: 0 0.4em 0.5em 0.4em;\n",
              "  box-sizing: border-box;\n",
              "  padding-bottom: 0.4em;\n",
              "  background-color: var(--sklearn-color-background);\n",
              "}\n",
              "\n",
              "#sk-container-id-1 div.sk-container {\n",
              "  /* jupyter's `normalize.less` sets `[hidden] { display: none; }`\n",
              "     but bootstrap.min.css set `[hidden] { display: none !important; }`\n",
              "     so we also need the `!important` here to be able to override the\n",
              "     default hidden behavior on the sphinx rendered scikit-learn.org.\n",
              "     See: https://github.com/scikit-learn/scikit-learn/issues/21755 */\n",
              "  display: inline-block !important;\n",
              "  position: relative;\n",
              "}\n",
              "\n",
              "#sk-container-id-1 div.sk-text-repr-fallback {\n",
              "  display: none;\n",
              "}\n",
              "\n",
              "div.sk-parallel-item,\n",
              "div.sk-serial,\n",
              "div.sk-item {\n",
              "  /* draw centered vertical line to link estimators */\n",
              "  background-image: linear-gradient(var(--sklearn-color-text-on-default-background), var(--sklearn-color-text-on-default-background));\n",
              "  background-size: 2px 100%;\n",
              "  background-repeat: no-repeat;\n",
              "  background-position: center center;\n",
              "}\n",
              "\n",
              "/* Parallel-specific style estimator block */\n",
              "\n",
              "#sk-container-id-1 div.sk-parallel-item::after {\n",
              "  content: \"\";\n",
              "  width: 100%;\n",
              "  border-bottom: 2px solid var(--sklearn-color-text-on-default-background);\n",
              "  flex-grow: 1;\n",
              "}\n",
              "\n",
              "#sk-container-id-1 div.sk-parallel {\n",
              "  display: flex;\n",
              "  align-items: stretch;\n",
              "  justify-content: center;\n",
              "  background-color: var(--sklearn-color-background);\n",
              "  position: relative;\n",
              "}\n",
              "\n",
              "#sk-container-id-1 div.sk-parallel-item {\n",
              "  display: flex;\n",
              "  flex-direction: column;\n",
              "}\n",
              "\n",
              "#sk-container-id-1 div.sk-parallel-item:first-child::after {\n",
              "  align-self: flex-end;\n",
              "  width: 50%;\n",
              "}\n",
              "\n",
              "#sk-container-id-1 div.sk-parallel-item:last-child::after {\n",
              "  align-self: flex-start;\n",
              "  width: 50%;\n",
              "}\n",
              "\n",
              "#sk-container-id-1 div.sk-parallel-item:only-child::after {\n",
              "  width: 0;\n",
              "}\n",
              "\n",
              "/* Serial-specific style estimator block */\n",
              "\n",
              "#sk-container-id-1 div.sk-serial {\n",
              "  display: flex;\n",
              "  flex-direction: column;\n",
              "  align-items: center;\n",
              "  background-color: var(--sklearn-color-background);\n",
              "  padding-right: 1em;\n",
              "  padding-left: 1em;\n",
              "}\n",
              "\n",
              "\n",
              "/* Toggleable style: style used for estimator/Pipeline/ColumnTransformer box that is\n",
              "clickable and can be expanded/collapsed.\n",
              "- Pipeline and ColumnTransformer use this feature and define the default style\n",
              "- Estimators will overwrite some part of the style using the `sk-estimator` class\n",
              "*/\n",
              "\n",
              "/* Pipeline and ColumnTransformer style (default) */\n",
              "\n",
              "#sk-container-id-1 div.sk-toggleable {\n",
              "  /* Default theme specific background. It is overwritten whether we have a\n",
              "  specific estimator or a Pipeline/ColumnTransformer */\n",
              "  background-color: var(--sklearn-color-background);\n",
              "}\n",
              "\n",
              "/* Toggleable label */\n",
              "#sk-container-id-1 label.sk-toggleable__label {\n",
              "  cursor: pointer;\n",
              "  display: flex;\n",
              "  width: 100%;\n",
              "  margin-bottom: 0;\n",
              "  padding: 0.5em;\n",
              "  box-sizing: border-box;\n",
              "  text-align: center;\n",
              "  align-items: start;\n",
              "  justify-content: space-between;\n",
              "  gap: 0.5em;\n",
              "}\n",
              "\n",
              "#sk-container-id-1 label.sk-toggleable__label .caption {\n",
              "  font-size: 0.6rem;\n",
              "  font-weight: lighter;\n",
              "  color: var(--sklearn-color-text-muted);\n",
              "}\n",
              "\n",
              "#sk-container-id-1 label.sk-toggleable__label-arrow:before {\n",
              "  /* Arrow on the left of the label */\n",
              "  content: \"▸\";\n",
              "  float: left;\n",
              "  margin-right: 0.25em;\n",
              "  color: var(--sklearn-color-icon);\n",
              "}\n",
              "\n",
              "#sk-container-id-1 label.sk-toggleable__label-arrow:hover:before {\n",
              "  color: var(--sklearn-color-text);\n",
              "}\n",
              "\n",
              "/* Toggleable content - dropdown */\n",
              "\n",
              "#sk-container-id-1 div.sk-toggleable__content {\n",
              "  max-height: 0;\n",
              "  max-width: 0;\n",
              "  overflow: hidden;\n",
              "  text-align: left;\n",
              "  /* unfitted */\n",
              "  background-color: var(--sklearn-color-unfitted-level-0);\n",
              "}\n",
              "\n",
              "#sk-container-id-1 div.sk-toggleable__content.fitted {\n",
              "  /* fitted */\n",
              "  background-color: var(--sklearn-color-fitted-level-0);\n",
              "}\n",
              "\n",
              "#sk-container-id-1 div.sk-toggleable__content pre {\n",
              "  margin: 0.2em;\n",
              "  border-radius: 0.25em;\n",
              "  color: var(--sklearn-color-text);\n",
              "  /* unfitted */\n",
              "  background-color: var(--sklearn-color-unfitted-level-0);\n",
              "}\n",
              "\n",
              "#sk-container-id-1 div.sk-toggleable__content.fitted pre {\n",
              "  /* unfitted */\n",
              "  background-color: var(--sklearn-color-fitted-level-0);\n",
              "}\n",
              "\n",
              "#sk-container-id-1 input.sk-toggleable__control:checked~div.sk-toggleable__content {\n",
              "  /* Expand drop-down */\n",
              "  max-height: 200px;\n",
              "  max-width: 100%;\n",
              "  overflow: auto;\n",
              "}\n",
              "\n",
              "#sk-container-id-1 input.sk-toggleable__control:checked~label.sk-toggleable__label-arrow:before {\n",
              "  content: \"▾\";\n",
              "}\n",
              "\n",
              "/* Pipeline/ColumnTransformer-specific style */\n",
              "\n",
              "#sk-container-id-1 div.sk-label input.sk-toggleable__control:checked~label.sk-toggleable__label {\n",
              "  color: var(--sklearn-color-text);\n",
              "  background-color: var(--sklearn-color-unfitted-level-2);\n",
              "}\n",
              "\n",
              "#sk-container-id-1 div.sk-label.fitted input.sk-toggleable__control:checked~label.sk-toggleable__label {\n",
              "  background-color: var(--sklearn-color-fitted-level-2);\n",
              "}\n",
              "\n",
              "/* Estimator-specific style */\n",
              "\n",
              "/* Colorize estimator box */\n",
              "#sk-container-id-1 div.sk-estimator input.sk-toggleable__control:checked~label.sk-toggleable__label {\n",
              "  /* unfitted */\n",
              "  background-color: var(--sklearn-color-unfitted-level-2);\n",
              "}\n",
              "\n",
              "#sk-container-id-1 div.sk-estimator.fitted input.sk-toggleable__control:checked~label.sk-toggleable__label {\n",
              "  /* fitted */\n",
              "  background-color: var(--sklearn-color-fitted-level-2);\n",
              "}\n",
              "\n",
              "#sk-container-id-1 div.sk-label label.sk-toggleable__label,\n",
              "#sk-container-id-1 div.sk-label label {\n",
              "  /* The background is the default theme color */\n",
              "  color: var(--sklearn-color-text-on-default-background);\n",
              "}\n",
              "\n",
              "/* On hover, darken the color of the background */\n",
              "#sk-container-id-1 div.sk-label:hover label.sk-toggleable__label {\n",
              "  color: var(--sklearn-color-text);\n",
              "  background-color: var(--sklearn-color-unfitted-level-2);\n",
              "}\n",
              "\n",
              "/* Label box, darken color on hover, fitted */\n",
              "#sk-container-id-1 div.sk-label.fitted:hover label.sk-toggleable__label.fitted {\n",
              "  color: var(--sklearn-color-text);\n",
              "  background-color: var(--sklearn-color-fitted-level-2);\n",
              "}\n",
              "\n",
              "/* Estimator label */\n",
              "\n",
              "#sk-container-id-1 div.sk-label label {\n",
              "  font-family: monospace;\n",
              "  font-weight: bold;\n",
              "  display: inline-block;\n",
              "  line-height: 1.2em;\n",
              "}\n",
              "\n",
              "#sk-container-id-1 div.sk-label-container {\n",
              "  text-align: center;\n",
              "}\n",
              "\n",
              "/* Estimator-specific */\n",
              "#sk-container-id-1 div.sk-estimator {\n",
              "  font-family: monospace;\n",
              "  border: 1px dotted var(--sklearn-color-border-box);\n",
              "  border-radius: 0.25em;\n",
              "  box-sizing: border-box;\n",
              "  margin-bottom: 0.5em;\n",
              "  /* unfitted */\n",
              "  background-color: var(--sklearn-color-unfitted-level-0);\n",
              "}\n",
              "\n",
              "#sk-container-id-1 div.sk-estimator.fitted {\n",
              "  /* fitted */\n",
              "  background-color: var(--sklearn-color-fitted-level-0);\n",
              "}\n",
              "\n",
              "/* on hover */\n",
              "#sk-container-id-1 div.sk-estimator:hover {\n",
              "  /* unfitted */\n",
              "  background-color: var(--sklearn-color-unfitted-level-2);\n",
              "}\n",
              "\n",
              "#sk-container-id-1 div.sk-estimator.fitted:hover {\n",
              "  /* fitted */\n",
              "  background-color: var(--sklearn-color-fitted-level-2);\n",
              "}\n",
              "\n",
              "/* Specification for estimator info (e.g. \"i\" and \"?\") */\n",
              "\n",
              "/* Common style for \"i\" and \"?\" */\n",
              "\n",
              ".sk-estimator-doc-link,\n",
              "a:link.sk-estimator-doc-link,\n",
              "a:visited.sk-estimator-doc-link {\n",
              "  float: right;\n",
              "  font-size: smaller;\n",
              "  line-height: 1em;\n",
              "  font-family: monospace;\n",
              "  background-color: var(--sklearn-color-background);\n",
              "  border-radius: 1em;\n",
              "  height: 1em;\n",
              "  width: 1em;\n",
              "  text-decoration: none !important;\n",
              "  margin-left: 0.5em;\n",
              "  text-align: center;\n",
              "  /* unfitted */\n",
              "  border: var(--sklearn-color-unfitted-level-1) 1pt solid;\n",
              "  color: var(--sklearn-color-unfitted-level-1);\n",
              "}\n",
              "\n",
              ".sk-estimator-doc-link.fitted,\n",
              "a:link.sk-estimator-doc-link.fitted,\n",
              "a:visited.sk-estimator-doc-link.fitted {\n",
              "  /* fitted */\n",
              "  border: var(--sklearn-color-fitted-level-1) 1pt solid;\n",
              "  color: var(--sklearn-color-fitted-level-1);\n",
              "}\n",
              "\n",
              "/* On hover */\n",
              "div.sk-estimator:hover .sk-estimator-doc-link:hover,\n",
              ".sk-estimator-doc-link:hover,\n",
              "div.sk-label-container:hover .sk-estimator-doc-link:hover,\n",
              ".sk-estimator-doc-link:hover {\n",
              "  /* unfitted */\n",
              "  background-color: var(--sklearn-color-unfitted-level-3);\n",
              "  color: var(--sklearn-color-background);\n",
              "  text-decoration: none;\n",
              "}\n",
              "\n",
              "div.sk-estimator.fitted:hover .sk-estimator-doc-link.fitted:hover,\n",
              ".sk-estimator-doc-link.fitted:hover,\n",
              "div.sk-label-container:hover .sk-estimator-doc-link.fitted:hover,\n",
              ".sk-estimator-doc-link.fitted:hover {\n",
              "  /* fitted */\n",
              "  background-color: var(--sklearn-color-fitted-level-3);\n",
              "  color: var(--sklearn-color-background);\n",
              "  text-decoration: none;\n",
              "}\n",
              "\n",
              "/* Span, style for the box shown on hovering the info icon */\n",
              ".sk-estimator-doc-link span {\n",
              "  display: none;\n",
              "  z-index: 9999;\n",
              "  position: relative;\n",
              "  font-weight: normal;\n",
              "  right: .2ex;\n",
              "  padding: .5ex;\n",
              "  margin: .5ex;\n",
              "  width: min-content;\n",
              "  min-width: 20ex;\n",
              "  max-width: 50ex;\n",
              "  color: var(--sklearn-color-text);\n",
              "  box-shadow: 2pt 2pt 4pt #999;\n",
              "  /* unfitted */\n",
              "  background: var(--sklearn-color-unfitted-level-0);\n",
              "  border: .5pt solid var(--sklearn-color-unfitted-level-3);\n",
              "}\n",
              "\n",
              ".sk-estimator-doc-link.fitted span {\n",
              "  /* fitted */\n",
              "  background: var(--sklearn-color-fitted-level-0);\n",
              "  border: var(--sklearn-color-fitted-level-3);\n",
              "}\n",
              "\n",
              ".sk-estimator-doc-link:hover span {\n",
              "  display: block;\n",
              "}\n",
              "\n",
              "/* \"?\"-specific style due to the `<a>` HTML tag */\n",
              "\n",
              "#sk-container-id-1 a.estimator_doc_link {\n",
              "  float: right;\n",
              "  font-size: 1rem;\n",
              "  line-height: 1em;\n",
              "  font-family: monospace;\n",
              "  background-color: var(--sklearn-color-background);\n",
              "  border-radius: 1rem;\n",
              "  height: 1rem;\n",
              "  width: 1rem;\n",
              "  text-decoration: none;\n",
              "  /* unfitted */\n",
              "  color: var(--sklearn-color-unfitted-level-1);\n",
              "  border: var(--sklearn-color-unfitted-level-1) 1pt solid;\n",
              "}\n",
              "\n",
              "#sk-container-id-1 a.estimator_doc_link.fitted {\n",
              "  /* fitted */\n",
              "  border: var(--sklearn-color-fitted-level-1) 1pt solid;\n",
              "  color: var(--sklearn-color-fitted-level-1);\n",
              "}\n",
              "\n",
              "/* On hover */\n",
              "#sk-container-id-1 a.estimator_doc_link:hover {\n",
              "  /* unfitted */\n",
              "  background-color: var(--sklearn-color-unfitted-level-3);\n",
              "  color: var(--sklearn-color-background);\n",
              "  text-decoration: none;\n",
              "}\n",
              "\n",
              "#sk-container-id-1 a.estimator_doc_link.fitted:hover {\n",
              "  /* fitted */\n",
              "  background-color: var(--sklearn-color-fitted-level-3);\n",
              "}\n",
              "</style><div id=\"sk-container-id-1\" class=\"sk-top-container\"><div class=\"sk-text-repr-fallback\"><pre>SGDRegressor(learning_rate=&#x27;constant&#x27;)</pre><b>In a Jupyter environment, please rerun this cell to show the HTML representation or trust the notebook. <br />On GitHub, the HTML representation is unable to render, please try loading this page with nbviewer.org.</b></div><div class=\"sk-container\" hidden><div class=\"sk-item\"><div class=\"sk-estimator fitted sk-toggleable\"><input class=\"sk-toggleable__control sk-hidden--visually\" id=\"sk-estimator-id-1\" type=\"checkbox\" checked><label for=\"sk-estimator-id-1\" class=\"sk-toggleable__label fitted sk-toggleable__label-arrow\"><div><div>SGDRegressor</div></div><div><a class=\"sk-estimator-doc-link fitted\" rel=\"noreferrer\" target=\"_blank\" href=\"https://scikit-learn.org/1.6/modules/generated/sklearn.linear_model.SGDRegressor.html\">?<span>Documentation for SGDRegressor</span></a><span class=\"sk-estimator-doc-link fitted\">i<span>Fitted</span></span></div></label><div class=\"sk-toggleable__content fitted\"><pre>SGDRegressor(learning_rate=&#x27;constant&#x27;)</pre></div> </div></div></div></div>"
            ]
          },
          "metadata": {},
          "execution_count": 6
        }
      ]
    },
    {
      "cell_type": "markdown",
      "source": [
        " 2. Momentum\n",
        "\n",
        "Description:\n",
        "\n",
        " Enhances SGD by adding a fraction of the previous update to the current update to accelerate convergence.\n",
        "\n",
        " Example\n",
        "\n",
        "Momentum is often implemented within frameworks like TensorFlow/Keras.\n",
        "\n",
        "\n",
        "\n",
        " 3. AdaGrad (Adaptive Gradient Algorithm)\n",
        "\n",
        "Description:\n",
        "\n",
        "Adjusts the learning rate for each parameter based on the magnitude of past gradients, making smaller updates for frequently updated parameters.\n",
        "\n",
        "Example"
      ],
      "metadata": {
        "id": "hapyQtZ9jzZM"
      }
    },
    {
      "cell_type": "code",
      "source": [
        "import tensorflow as tf\n",
        "\n",
        "optimizer = tf.keras.optimizers.Adagrad(learning_rate=0.01)\n"
      ],
      "metadata": {
        "id": "O2jKiIJeYPSM"
      },
      "execution_count": 1,
      "outputs": []
    },
    {
      "cell_type": "markdown",
      "source": [
        " 4.  RMSProp (Root Mean Square Propagation)\n",
        "\n",
        "Description:\n",
        "\n",
        " Modifies AdaGrad by using an exponentially weighted moving average of squared gradients.\n",
        "\n",
        "Example"
      ],
      "metadata": {
        "id": "Z5FD0cTQYZ5z"
      }
    },
    {
      "cell_type": "code",
      "source": [
        "optimizer = tf.keras.optimizers.RMSprop(learning_rate=0.001)\n"
      ],
      "metadata": {
        "id": "rDcMHeCiYkLx"
      },
      "execution_count": null,
      "outputs": []
    },
    {
      "cell_type": "markdown",
      "source": [
        "  5. Adam (Adaptive Moment Estimation)\n",
        "\n",
        "Description:\n",
        "\n",
        " Combines the benefits of Momentum and RMSProp by maintaining exponentially decaying averages of past gradients and squared gradients."
      ],
      "metadata": {
        "id": "kXP8aFPZYpAZ"
      }
    },
    {
      "cell_type": "code",
      "source": [
        "optimizer = tf.keras.optimizers.Adam(learning_rate=0.001)\n"
      ],
      "metadata": {
        "id": "hjPQRyxyY2Xj"
      },
      "execution_count": null,
      "outputs": []
    },
    {
      "cell_type": "markdown",
      "source": [
        "# 17] What is sklearn.linear_model ?"
      ],
      "metadata": {
        "id": "Kik2C2bzY3u5"
      }
    },
    {
      "cell_type": "markdown",
      "source": [
        "ANS.\n",
        "\n",
        "sklearn.linear_model is a module in scikit-learn that provides tools and methods for linear models. Linear models are statistical models that assume a linear relationship between the input variables (features) and the output (target)."
      ],
      "metadata": {
        "id": "rp324ys3Y-ae"
      }
    },
    {
      "cell_type": "markdown",
      "source": [
        "# 18] What does model.fit() do? What arguments must be given?"
      ],
      "metadata": {
        "id": "CZI9Xf_nY3rd"
      }
    },
    {
      "cell_type": "markdown",
      "source": [
        "ANS.\n",
        "\n",
        "The model.fit() method in machine learning is used to train a model on a given dataset. It adjusts the model's parameters (e.g., weights in a linear regression or decision tree splits) based on the input data to minimize the error or loss function.\n",
        "\n",
        " 1. Accepts Input Data: Takes the training data (X) and target labels (y).\n",
        "\n",
        " 2. Initializes Model Parameters: If not already initialized, the model sets up\n",
        "\n",
        " 3. parameters like weights or biases.\n",
        "\n",
        " 4. Optimizes Parameters: Iteratively updates the model's parameters by minimizing\n",
        "the error/loss function.\n",
        "\n",
        " 5. Stores the Trained Model: Saves the learned parameters internally, so they can be used for predictions (model.predict()).\n",
        "\n",
        "\n",
        "\n",
        "Arguments Required by model.fit()\n",
        "The specific arguments depend on the model, but generally, it requires:\n",
        "\n",
        " 1. Training Data (Features): X\n",
        "\n",
        "A 2D array-like structure (e.g., list, numpy array, pandas DataFrame) of shape\n",
        "(n_samples,n_features).\n",
        "Each row corresponds to one training example.\n",
        "\n",
        " 2. Target Labels (Output): y\n",
        "\n",
        "A 1D array-like structure (e.g., list, numpy array, pandas Series) of shape\n",
        "(n_samples,) for regression or classification.\n",
        "Represents the expected output (e.g., continuous value for regression, class label for classification)\n",
        "\n"
      ],
      "metadata": {
        "id": "fwfaeAxfZNxI"
      }
    },
    {
      "cell_type": "markdown",
      "source": [
        "# 19] What does model.predict() do? What arguments must be given?"
      ],
      "metadata": {
        "id": "h8lm8L3Kanrc"
      }
    },
    {
      "cell_type": "markdown",
      "source": [
        "ANS.\n",
        "\n",
        "The model.predict() method in machine learning is used to make predictions based on the model that has already been trained using model.fit(). It takes new data as input and produces the predicted output based on the learned parameters of the model.\n",
        "\n",
        " 1.  Accepts New Input Data: Takes the input features (X) for which predictions are required.\n",
        "\n",
        " 2.  Applies the Trained Model: Uses the parameters learned during training (e.g., weights, biases, decision rules).\n",
        "\n",
        " 3.  Generates Predictions: Produces the predicted outputs (e.g., target values or class labels)\n",
        "\n",
        "\n",
        "Arguments Required by model.predict()\n",
        "\n",
        "The method requires:\n",
        "\n",
        "Feature Data (X): A 2D array-like structure of shape (n_samples,n_features),\n",
        "\n",
        "where:\n",
        "\n",
        "n_samples is the number of instances to predict for.\n",
        "\n",
        "n_features is the number of features used during training.\n",
        "\n",
        "The input X must match the feature format and shape used in the training data.\n",
        "\n"
      ],
      "metadata": {
        "id": "xkGQsVVDazxc"
      }
    },
    {
      "cell_type": "markdown",
      "source": [
        "# 20] What are continuous and categorical variables?"
      ],
      "metadata": {
        "id": "gJojcZArcaJZ"
      }
    },
    {
      "cell_type": "markdown",
      "source": [
        "Repetition of question no. 5"
      ],
      "metadata": {
        "id": "flfqGbvmcl6p"
      }
    },
    {
      "cell_type": "markdown",
      "source": [
        "# 21] What is feature scaling? How does it help in Machine Learning?"
      ],
      "metadata": {
        "id": "Bw_Qkz2KcuwS"
      }
    },
    {
      "cell_type": "markdown",
      "source": [
        "ANS.\n",
        "\n",
        "Feature scaling is the process of transforming the values of features (independent variables) in a dataset so that they are on a similar scale. This ensures that no feature dominates the others due to differences in magnitude, units, or range.\n",
        "\n",
        "How Does Feature Scaling Help in Machine Learning?\n",
        "\n",
        " 1. Improves Algorithm Performance:\n",
        "\n",
        "Distance-based algorithms (e.g., k-Nearest Neighbors, SVM, K-Means) rely on feature magnitudes. Without scaling, the results may be skewed.\n",
        "\n",
        "Gradient-based algorithms (e.g., Logistic Regression, Neural Networks) converge faster with scaled features.\n",
        "\n",
        " 2.  Prevents Bias:\n",
        "\n",
        "Features with larger ranges won’t dominate models, ensuring balanced learning.\n",
        "\n",
        " 3. Improves Model Accuracy:\n",
        "\n",
        "For PCA (Principal Component Analysis), scaling ensures that variance is properly captured across all features.\n",
        "\n",
        " 4. Essential for Some Models:\n",
        "\n",
        "Linear regression, logistic regression, and SVM perform better with scaled data."
      ],
      "metadata": {
        "id": "ZVR5_kdRdAgN"
      }
    },
    {
      "cell_type": "markdown",
      "source": [
        "# 22] How do we perform scaling in Python?"
      ],
      "metadata": {
        "id": "s1BSNUebeRlP"
      }
    },
    {
      "cell_type": "markdown",
      "source": [
        "ANS.\n",
        "\n",
        "To perform scaling in Python, you can use the sklearn.preprocessing module, which provides a variety of scaling techniques such as standardization, normalization, and more.\n",
        "\n",
        "\n",
        "  1. Using StandardScaler (Z-Score Scaling)\n",
        "Scales features to have a mean of 0 and standard deviation of 1."
      ],
      "metadata": {
        "id": "dP8qWAbNeTNt"
      }
    },
    {
      "cell_type": "code",
      "source": [
        "from sklearn.preprocessing import StandardScaler\n",
        "import numpy as np\n",
        "\n",
        "# Sample data\n",
        "X = np.array([[1, 200], [2, 400], [3, 600], [4, 800]])\n",
        "\n",
        "# Initialize scaler\n",
        "scaler = StandardScaler()\n",
        "\n",
        "# Fit and transform the data\n",
        "X_scaled = scaler.fit_transform(X)\n",
        "\n",
        "print(\"Standardized Data:\\n\", X_scaled)\n"
      ],
      "metadata": {
        "colab": {
          "base_uri": "https://localhost:8080/"
        },
        "id": "30MrJjmPemLR",
        "outputId": "2ef77be8-ccb0-4724-c77b-a5451b6373a0"
      },
      "execution_count": 2,
      "outputs": [
        {
          "output_type": "stream",
          "name": "stdout",
          "text": [
            "Standardized Data:\n",
            " [[-1.34164079 -1.34164079]\n",
            " [-0.4472136  -0.4472136 ]\n",
            " [ 0.4472136   0.4472136 ]\n",
            " [ 1.34164079  1.34164079]]\n"
          ]
        }
      ]
    },
    {
      "cell_type": "markdown",
      "source": [
        "  2.  Using MinMaxScaler (Normalization)\n",
        "\n",
        "Scales features to a specified range, typically [0, 1]."
      ],
      "metadata": {
        "id": "zl1U9__HeqR7"
      }
    },
    {
      "cell_type": "code",
      "source": [
        "from sklearn.preprocessing import MinMaxScaler\n",
        "\n",
        "# Sample data\n",
        "X = [[1, 200], [2, 400], [3, 600], [4, 800]]\n",
        "\n",
        "# Initialize scaler\n",
        "scaler = MinMaxScaler()\n",
        "\n",
        "# Fit and transform the data\n",
        "X_scaled = scaler.fit_transform(X)\n",
        "\n",
        "print(\"Normalized Data (0-1 range):\\n\", X_scaled)\n"
      ],
      "metadata": {
        "colab": {
          "base_uri": "https://localhost:8080/"
        },
        "id": "f8oqzrTpe9Cg",
        "outputId": "8919225f-a23a-47c1-c54c-531e16e983b2"
      },
      "execution_count": 3,
      "outputs": [
        {
          "output_type": "stream",
          "name": "stdout",
          "text": [
            "Normalized Data (0-1 range):\n",
            " [[0.         0.        ]\n",
            " [0.33333333 0.33333333]\n",
            " [0.66666667 0.66666667]\n",
            " [1.         1.        ]]\n"
          ]
        }
      ]
    },
    {
      "cell_type": "markdown",
      "source": [
        "   3. Using RobustScaler (Scaling with Robust Statistics)\n",
        "\n",
        "Scales features using the median and interquartile range (IQR), which is robust to outliers."
      ],
      "metadata": {
        "id": "H3hfIJZzfBHE"
      }
    },
    {
      "cell_type": "code",
      "source": [
        "from sklearn.preprocessing import RobustScaler\n",
        "\n",
        "# Sample data with outliers\n",
        "X = [[1, 200], [2, 400], [3, 600], [100, 800]]\n",
        "\n",
        "# Initialize scaler\n",
        "scaler = RobustScaler()\n",
        "\n",
        "# Fit and transform the data\n",
        "X_scaled = scaler.fit_transform(X)\n",
        "\n",
        "print(\"Robust Scaled Data:\\n\", X_scaled)\n"
      ],
      "metadata": {
        "colab": {
          "base_uri": "https://localhost:8080/"
        },
        "id": "RAyfziAXfHbB",
        "outputId": "27cfb0cb-fec5-4add-af1d-41ce2ee1469a"
      },
      "execution_count": 4,
      "outputs": [
        {
          "output_type": "stream",
          "name": "stdout",
          "text": [
            "Robust Scaled Data:\n",
            " [[-0.05882353 -1.        ]\n",
            " [-0.01960784 -0.33333333]\n",
            " [ 0.01960784  0.33333333]\n",
            " [ 3.82352941  1.        ]]\n"
          ]
        }
      ]
    },
    {
      "cell_type": "markdown",
      "source": [
        "   4. Using MaxAbsScaler (Absolute Maximum Scaling)\n",
        "\n",
        "Scales features by dividing by the maximum absolute value. Keeps sparse data sparse."
      ],
      "metadata": {
        "id": "xGzmMkS0fYsx"
      }
    },
    {
      "cell_type": "code",
      "source": [
        "from sklearn.preprocessing import MaxAbsScaler\n",
        "\n",
        "# Sample data\n",
        "X = [[1, 200], [2, 400], [3, 600], [4, 800]]\n",
        "\n",
        "# Initialize scaler\n",
        "scaler = MaxAbsScaler()\n",
        "\n",
        "# Fit and transform the data\n",
        "X_scaled = scaler.fit_transform(X)\n",
        "\n",
        "print(\"Max Absolute Scaled Data:\\n\", X_scaled)\n"
      ],
      "metadata": {
        "colab": {
          "base_uri": "https://localhost:8080/"
        },
        "id": "vuZkpSMAfcBO",
        "outputId": "e687e464-4472-4b98-bf56-2e608c391d1e"
      },
      "execution_count": 5,
      "outputs": [
        {
          "output_type": "stream",
          "name": "stdout",
          "text": [
            "Max Absolute Scaled Data:\n",
            " [[0.25 0.25]\n",
            " [0.5  0.5 ]\n",
            " [0.75 0.75]\n",
            " [1.   1.  ]]\n"
          ]
        }
      ]
    },
    {
      "cell_type": "markdown",
      "source": [
        "  5. Scaling a Subset of Features\n",
        "\n",
        "ColumnTransformer."
      ],
      "metadata": {
        "id": "EOmQqcarfj8K"
      }
    },
    {
      "cell_type": "code",
      "source": [
        "from sklearn.compose import ColumnTransformer\n",
        "from sklearn.preprocessing import StandardScaler, MinMaxScaler\n",
        "\n",
        "# Sample data (two features)\n",
        "X = [[1, 200], [2, 400], [3, 600], [4, 800]]\n",
        "\n",
        "# Apply StandardScaler to the first column and MinMaxScaler to the second column\n",
        "\n",
        "scaler = ColumnTransformer([\n",
        "    ('standard', StandardScaler(), [0]),   # StandardScaler for column 0\n",
        "    ('minmax', MinMaxScaler(), [1])        # MinMaxScaler for column 1\n",
        "])\n",
        "\n",
        "# Fit and transform\n",
        "X_scaled = scaler.fit_transform(X)\n",
        "\n",
        "print(\"Column-Specific Scaled Data:\\n\", X_scaled)\n"
      ],
      "metadata": {
        "colab": {
          "base_uri": "https://localhost:8080/"
        },
        "id": "1vyArjVWfo3S",
        "outputId": "6e218fed-a672-43a6-d58c-3d8107990024"
      },
      "execution_count": 6,
      "outputs": [
        {
          "output_type": "stream",
          "name": "stdout",
          "text": [
            "Column-Specific Scaled Data:\n",
            " [[-1.34164079  0.        ]\n",
            " [-0.4472136   0.33333333]\n",
            " [ 0.4472136   0.66666667]\n",
            " [ 1.34164079  1.        ]]\n"
          ]
        }
      ]
    },
    {
      "cell_type": "markdown",
      "source": [
        "  6. Scaling with Pandas DataFrames"
      ],
      "metadata": {
        "id": "QKdODZpffslV"
      }
    },
    {
      "cell_type": "code",
      "source": [
        "import pandas as pd\n",
        "from sklearn.preprocessing import StandardScaler\n",
        "\n",
        "# Sample DataFrame\n",
        "df = pd.DataFrame({\n",
        "    'Feature1': [1, 2, 3, 4],\n",
        "    'Feature2': [200, 400, 600, 800]\n",
        "})\n",
        "\n",
        "# Initialize scaler\n",
        "scaler = StandardScaler()\n",
        "\n",
        "# Fit and transform\n",
        "scaled_df = pd.DataFrame(scaler.fit_transform(df), columns=df.columns)\n",
        "\n",
        "print(\"Scaled DataFrame:\\n\", scaled_df)\n"
      ],
      "metadata": {
        "colab": {
          "base_uri": "https://localhost:8080/"
        },
        "id": "asZ1FMRJf0kR",
        "outputId": "9073b604-1dfa-47c5-d08c-083538d1e967"
      },
      "execution_count": 7,
      "outputs": [
        {
          "output_type": "stream",
          "name": "stdout",
          "text": [
            "Scaled DataFrame:\n",
            "    Feature1  Feature2\n",
            "0 -1.341641 -1.341641\n",
            "1 -0.447214 -0.447214\n",
            "2  0.447214  0.447214\n",
            "3  1.341641  1.341641\n"
          ]
        }
      ]
    },
    {
      "cell_type": "markdown",
      "source": [
        " 7. Transforming Train and Test Data"
      ],
      "metadata": {
        "id": "BSX-enojgZ7P"
      }
    },
    {
      "cell_type": "code",
      "source": [
        "from sklearn.preprocessing import StandardScaler\n",
        "from sklearn.model_selection import train_test_split\n",
        "\n",
        "# Sample data\n",
        "X = [[1, 200], [2, 400], [3, 600], [4, 800]]\n",
        "y = [0, 1, 0, 1]\n",
        "\n",
        "# Split into train and test\n",
        "X_train, X_test, y_train, y_test = train_test_split(X, y, test_size=0.2)\n",
        "\n",
        "# Initialize scaler\n",
        "scaler = StandardScaler()\n",
        "\n",
        "# Fit on training data and transform\n",
        "X_train_scaled = scaler.fit_transform(X_train)\n",
        "\n",
        "# Transform test data (use training data's scaling)\n",
        "X_test_scaled = scaler.transform(X_test)\n",
        "\n",
        "print(\"Scaled Train Data:\\n\", X_train_scaled)\n",
        "print(\"Scaled Test Data:\\n\", X_test_scaled)\n"
      ],
      "metadata": {
        "colab": {
          "base_uri": "https://localhost:8080/"
        },
        "id": "c4sIj-aGgfj0",
        "outputId": "ec4987d2-c19f-4bdb-e7f7-726977e64443"
      },
      "execution_count": 8,
      "outputs": [
        {
          "output_type": "stream",
          "name": "stdout",
          "text": [
            "Scaled Train Data:\n",
            " [[ 1.22474487  1.22474487]\n",
            " [-1.22474487 -1.22474487]\n",
            " [ 0.          0.        ]]\n",
            "Scaled Test Data:\n",
            " [[2.44948974 2.44948974]]\n"
          ]
        }
      ]
    },
    {
      "cell_type": "markdown",
      "source": [
        "# 23] What is sklearn.preprocessing?"
      ],
      "metadata": {
        "id": "MjJu7rSmglL1"
      }
    },
    {
      "cell_type": "markdown",
      "source": [
        "ANS.\n",
        "\n",
        "sklearn.preprocessing is a module in the Scikit-learn library that provides a wide range of tools and methods for data preprocessing. These tools are used to transform raw data into a suitable format for machine learning algorithms by normalizing, scaling, encoding, or transforming features. Preprocessing is essential to improve model performance, ensure data consistency, and handle challenges like varying feature scales or categorical variables."
      ],
      "metadata": {
        "id": "VtqcC0j7gqZO"
      }
    },
    {
      "cell_type": "markdown",
      "source": [
        "# 24] How do we split data for model fitting (training and testing) in Python?"
      ],
      "metadata": {
        "id": "rJBPQhyqhMJh"
      }
    },
    {
      "cell_type": "markdown",
      "source": [
        "Repetition of question no. 10"
      ],
      "metadata": {
        "id": "yxcOC1CIhNcN"
      }
    },
    {
      "cell_type": "markdown",
      "source": [
        "# 25] Explain data encoding?"
      ],
      "metadata": {
        "id": "8-op5tCuhbhQ"
      }
    },
    {
      "cell_type": "markdown",
      "source": [
        "ANS.\n",
        "\n",
        "Data encoding is the process of converting data, especially categorical data, into a format that can be understood and processed by machine learning algorithms. Most machine learning algorithms require numeric input; therefore, non-numeric (categorical) features need to be encoded into numerical values before being fed into the model.\n",
        "\n",
        "Types of Categorical Data\n",
        "\n",
        "Nominal Data:\n",
        "\n",
        "Categories without any inherent order.\n",
        "\n",
        "Example: ['Red', 'Blue', 'Green']\n",
        "\n",
        "Ordinal Data:\n",
        "\n",
        "Categories with a defined order.\n",
        "\n",
        "Example: ['Low', 'Medium', 'High']\n",
        "\n",
        "Why is Encoding Important?\n",
        "\n",
        " 1. Compatibility with Algorithms:\n",
        "\n",
        "Many machine learning models (e.g., Linear Regression, Logistic Regression) cannot work with categorical data directly.\n",
        "\n",
        " 2. Preserving Relationships:\n",
        "\n",
        " Encoding ensures that the relationships between categorical features are preserved for algorithms to interpret correctly.\n",
        "Enhancing Model Accuracy: Proper encoding can lead to better model performance a\n",
        "and generalization.\n",
        "\n",
        "Types of Encoding\n",
        "\n",
        " 1. Label Encoding\n",
        "Converts categories into numerical labels.\n",
        "Each category is assigned a unique integer value.\n",
        "Suitable for ordinal data where order matters.\n",
        "\n",
        "Example:"
      ],
      "metadata": {
        "id": "78johVPmheQt"
      }
    },
    {
      "cell_type": "code",
      "source": [
        "from sklearn.preprocessing import LabelEncoder\n",
        "\n",
        "# Data\n",
        "data = ['Red', 'Blue', 'Green', 'Blue']\n",
        "\n",
        "# Label Encoding\n",
        "encoder = LabelEncoder()\n",
        "encoded_data = encoder.fit_transform(data)\n",
        "print(encoded_data)\n"
      ],
      "metadata": {
        "colab": {
          "base_uri": "https://localhost:8080/"
        },
        "id": "RxeyiKvZjGXW",
        "outputId": "59b94524-ad02-4145-9a4b-be5a2cb8a1e7"
      },
      "execution_count": 9,
      "outputs": [
        {
          "output_type": "stream",
          "name": "stdout",
          "text": [
            "[2 0 1 0]\n"
          ]
        }
      ]
    },
    {
      "cell_type": "markdown",
      "source": [
        " 2. One-Hot Encoding\n",
        "\n",
        "Converts categories into a binary (0/1) representation, creating separate columns for each category.\n",
        "\n",
        "Suitable for nominal data where order doesn't matter.\n",
        "\n",
        "Example:"
      ],
      "metadata": {
        "id": "RGO5i1QojQbO"
      }
    },
    {
      "cell_type": "code",
      "source": [
        "from sklearn.preprocessing import OneHotEncoder\n",
        "\n",
        "# Data\n",
        "data = [['Red'], ['Blue'], ['Green'], ['Blue']]\n",
        "\n",
        "# One-Hot Encoding\n",
        "encoder = OneHotEncoder()\n",
        "encoded_data = encoder.fit_transform(data).toarray()\n",
        "print(encoded_data)"
      ],
      "metadata": {
        "colab": {
          "base_uri": "https://localhost:8080/"
        },
        "id": "5MPW-uiRjje4",
        "outputId": "a6c8780a-48b4-490d-fcb3-3a2ffed1a20d"
      },
      "execution_count": 10,
      "outputs": [
        {
          "output_type": "stream",
          "name": "stdout",
          "text": [
            "[[0. 0. 1.]\n",
            " [1. 0. 0.]\n",
            " [0. 1. 0.]\n",
            " [1. 0. 0.]]\n"
          ]
        }
      ]
    },
    {
      "cell_type": "markdown",
      "source": [
        " 3. Ordinal Encoding\n",
        "\n",
        "Assigns numeric values to categories while preserving their order.\n",
        "\n",
        "Suitable for ordinal data.\n",
        "\n",
        "Example:"
      ],
      "metadata": {
        "id": "PY19gbAcjllh"
      }
    },
    {
      "cell_type": "code",
      "source": [
        "from sklearn.preprocessing import OrdinalEncoder\n",
        "\n",
        "# Data\n",
        "data = [['Low'], ['Medium'], ['High']]\n",
        "\n",
        "# Ordinal Encoding\n",
        "encoder = OrdinalEncoder(categories=[['Low', 'Medium', 'High']])\n",
        "encoded_data = encoder.fit_transform(data)\n",
        "print(encoded_data)"
      ],
      "metadata": {
        "colab": {
          "base_uri": "https://localhost:8080/"
        },
        "id": "j6EJDy20jud3",
        "outputId": "d6e607c1-e946-4ec3-ba28-ba9fb1182f0e"
      },
      "execution_count": 11,
      "outputs": [
        {
          "output_type": "stream",
          "name": "stdout",
          "text": [
            "[[0.]\n",
            " [1.]\n",
            " [2.]]\n"
          ]
        }
      ]
    },
    {
      "cell_type": "markdown",
      "source": [
        " 4. Binary Encoding\n",
        "\n",
        "Combines label encoding and binary representation.\n",
        "\n",
        "Reduces dimensionality compared to One-Hot Encoding for high-cardinality data.\n",
        "\n",
        "Example: For categories ['Red', 'Blue', 'Green', 'Yellow']:\n",
        "\n",
        "\n",
        "Assign label: Red=0, Blue=1, Green=2, Yellow=3\n",
        "\n",
        "Convert to binary: 0 → 00, 1 → 01, 2 → 10, 3 → 11\n",
        "\n",
        " 5. Frequency/Count Encoding\n",
        "\n",
        "Encodes categories based on their frequency or count in the dataset.\n",
        "\n",
        "Useful when category occurrence is significant.\n",
        "\n",
        "Example:"
      ],
      "metadata": {
        "id": "38ycx5Y-j25-"
      }
    },
    {
      "cell_type": "code",
      "source": [
        "import pandas as pd\n",
        "\n",
        "# Data\n",
        "data = pd.DataFrame({'Color': ['Red', 'Blue', 'Green', 'Blue', 'Red', 'Red']})\n",
        "\n",
        "# Frequency Encoding\n",
        "encoded_data = data['Color'].value_counts().to_dict()\n",
        "data['Color_Encoded'] = data['Color'].map(encoded_data)\n",
        "print(data)"
      ],
      "metadata": {
        "colab": {
          "base_uri": "https://localhost:8080/"
        },
        "id": "3cQru44QkQwx",
        "outputId": "ac9036a2-5c96-41e4-b677-8cd4960a036f"
      },
      "execution_count": 12,
      "outputs": [
        {
          "output_type": "stream",
          "name": "stdout",
          "text": [
            "   Color  Color_Encoded\n",
            "0    Red              3\n",
            "1   Blue              2\n",
            "2  Green              1\n",
            "3   Blue              2\n",
            "4    Red              3\n",
            "5    Red              3\n"
          ]
        }
      ]
    },
    {
      "cell_type": "markdown",
      "source": [
        " 6. Target Encoding\n",
        "\n",
        "Encodes categories based on the mean of the target variable for each category.\n",
        "\n",
        "Commonly used for categorical features in regression problems.\n",
        "\n",
        "Example:"
      ],
      "metadata": {
        "id": "IoOT8KQ-nfZ0"
      }
    },
    {
      "cell_type": "code",
      "source": [
        "import pandas as pd\n",
        "\n",
        "# Data\n",
        "data = pd.DataFrame({'Color': ['Red', 'Blue', 'Green', 'Red', 'Blue'],\n",
        "                     'Target': [1, 0, 1, 1, 0]})\n",
        "\n",
        "# Calculate mean target value for each category\n",
        "encoded_data = data.groupby('Color')['Target'].mean().to_dict()\n",
        "data['Color_Encoded'] = data['Color'].map(encoded_data)\n",
        "print(data)"
      ],
      "metadata": {
        "colab": {
          "base_uri": "https://localhost:8080/"
        },
        "id": "EOtAk2_enn1p",
        "outputId": "60a502fa-e729-44ae-bb49-fb3394651cb1"
      },
      "execution_count": 13,
      "outputs": [
        {
          "output_type": "stream",
          "name": "stdout",
          "text": [
            "   Color  Target  Color_Encoded\n",
            "0    Red       1            1.0\n",
            "1   Blue       0            0.0\n",
            "2  Green       1            1.0\n",
            "3    Red       1            1.0\n",
            "4   Blue       0            0.0\n"
          ]
        }
      ]
    }
  ]
}