{
 "cells": [
  {
   "cell_type": "code",
   "execution_count": 5,
   "id": "f010712c-215a-40e3-8f85-3f1c480b8bd1",
   "metadata": {},
   "outputs": [
    {
     "data": {
      "text/plain": [
       "(5000, 760000)"
      ]
     },
     "execution_count": 5,
     "metadata": {},
     "output_type": "execute_result"
    }
   ],
   "source": [
    "import pandas as pd\n",
    "import numpy as np\n",
    "import matplotlib.pyplot as plt\n",
    "import seaborn as sns\n",
    "\n",
    "# Load dataset\n",
    "bike_data = pd.read_csv('BIKE_DETAILS.csv')\n",
    "\n",
    "# Q1: Range of selling prices\n",
    "selling_price_range = (bike_data['selling_price'].min(), bike_data['selling_price'].max())\n",
    "selling_price_range "
   ]
  },
  {
   "cell_type": "code",
   "execution_count": null,
   "id": "c7255bf5-dc7c-4cbb-b85f-727d6b520729",
   "metadata": {},
   "outputs": [],
   "source": []
  }
 ],
 "metadata": {
  "kernelspec": {
   "display_name": "Python 3 (ipykernel)",
   "language": "python",
   "name": "python3"
  },
  "language_info": {
   "codemirror_mode": {
    "name": "ipython",
    "version": 3
   },
   "file_extension": ".py",
   "mimetype": "text/x-python",
   "name": "python",
   "nbconvert_exporter": "python",
   "pygments_lexer": "ipython3",
   "version": "3.10.11"
  },
  "widgets": {
   "application/vnd.jupyter.widget-state+json": {
    "state": {},
    "version_major": 2,
    "version_minor": 0
   }
  }
 },
 "nbformat": 4,
 "nbformat_minor": 5
}
