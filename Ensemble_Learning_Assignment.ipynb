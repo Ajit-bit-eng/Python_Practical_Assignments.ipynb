{
  "nbformat": 4,
  "nbformat_minor": 0,
  "metadata": {
    "colab": {
      "provenance": [],
      "authorship_tag": "ABX9TyNC/tH4id1buSzKNJvLfcIT",
      "include_colab_link": true
    },
    "kernelspec": {
      "name": "python3",
      "display_name": "Python 3"
    },
    "language_info": {
      "name": "python"
    }
  },
  "cells": [
    {
      "cell_type": "markdown",
      "metadata": {
        "id": "view-in-github",
        "colab_type": "text"
      },
      "source": [
        "<a href=\"https://colab.research.google.com/github/Ajit-bit-eng/Python_Practical_Assignments.ipynb/blob/main/Ensemble_Learning_Assignment.ipynb\" target=\"_parent\"><img src=\"https://colab.research.google.com/assets/colab-badge.svg\" alt=\"Open In Colab\"/></a>"
      ]
    },
    {
      "cell_type": "markdown",
      "source": [
        "#**Ensemble Learning**"
      ],
      "metadata": {
        "id": "HWKDEeG70ZYi"
      }
    },
    {
      "cell_type": "markdown",
      "source": [
        "# 1. Can we use Bagging for regression problems ?"
      ],
      "metadata": {
        "id": "IHkzlXlc0Rf7"
      }
    },
    {
      "cell_type": "markdown",
      "source": [
        "Ans.\n",
        "\n",
        "Bagging (Bootstrap Aggregating) can be used for regression problems. In such cases, models like Decision Tree Regressors are used as base learners, and their predictions are averaged to get the final output."
      ],
      "metadata": {
        "id": "DYV7D2wL0u07"
      }
    },
    {
      "cell_type": "markdown",
      "source": [
        "# 2.What is the difference between multiple model training and single model training ?"
      ],
      "metadata": {
        "id": "kRAubyZB03m4"
      }
    },
    {
      "cell_type": "markdown",
      "source": [
        "Single model training: Uses one model to learn from data and make predictions.\n",
        "\n",
        "Multiple model training (ensemble methods): Combines multiple models to improve accuracy, robustness, and generalization. Examples include Bagging, Boosting, and Stacking."
      ],
      "metadata": {
        "id": "k7pGvvyc08gK"
      }
    },
    {
      "cell_type": "markdown",
      "source": [
        "# 3.  Explain the concept of feature randomness in Random Forest."
      ],
      "metadata": {
        "id": "kjSLn2Ch1EqA"
      }
    },
    {
      "cell_type": "markdown",
      "source": [
        "Ans.\n",
        "\n",
        "In Random Forest, feature randomness means that each tree is trained on a random subset of features instead of using all features. This helps in reducing correlation between trees and improving the overall model's performance."
      ],
      "metadata": {
        "id": "4V81Yvn71Iv-"
      }
    },
    {
      "cell_type": "markdown",
      "source": [
        "# 4. What is OOB (Out-of-Bag) Score ?"
      ],
      "metadata": {
        "id": "NP0XEeCA1Niw"
      }
    },
    {
      "cell_type": "markdown",
      "source": [
        "Ans.\n",
        "\n",
        "OOB Score is an internal validation technique used in Bagging-based models. Since each tree is trained on a bootstrap sample, the remaining (out-of-bag) data can be used to estimate model performance without needing a separate validation set."
      ],
      "metadata": {
        "id": "jjKe5CcZ1SJF"
      }
    },
    {
      "cell_type": "markdown",
      "source": [
        "# 5. How can you measure the importance of features in a Random Forest model ?"
      ],
      "metadata": {
        "id": "82kkqiJp1XBU"
      }
    },
    {
      "cell_type": "markdown",
      "source": [
        "Ans.\n",
        "\n",
        "Feature importance in Random Forest can be measured using:\n",
        "\n",
        "Mean decrease in impurity (Gini importance): Measures how much each feature reduces the impurity in decision trees.\n",
        "\n",
        "Permutation importance: Measures how much the model’s performance drops when a feature’s values are randomly shuffled."
      ],
      "metadata": {
        "id": "5SWbIFw31bOD"
      }
    },
    {
      "cell_type": "markdown",
      "source": [
        "# 6. Explain the working principle of a Bagging Classifier."
      ],
      "metadata": {
        "id": "D7EgwMFG1iie"
      }
    },
    {
      "cell_type": "markdown",
      "source": [
        "Ans.\n",
        "\n",
        "A Bagging Classifier trains multiple base models (e.g., Decision Trees) on different bootstrap samples of the dataset. Each model gives its prediction, and the final prediction is made using majority voting."
      ],
      "metadata": {
        "id": "rnSV6m9A1mXS"
      }
    },
    {
      "cell_type": "markdown",
      "source": [
        "# 7.  How do you evaluate a Bagging Classifier’s performance ?"
      ],
      "metadata": {
        "id": "JaC7Oqtq1q91"
      }
    },
    {
      "cell_type": "markdown",
      "source": [
        "Ans.\n",
        "\n",
        "Accuracy/Precision/Recall/F1-score (for classification)\n",
        "\n",
        "ROC-AUC Score (for classification)\n",
        "\n",
        "Cross-validation (to check model stability)\n",
        "\n",
        "OOB Score (to estimate performance without a separate validation set)"
      ],
      "metadata": {
        "id": "toIDyULi1zU-"
      }
    },
    {
      "cell_type": "markdown",
      "source": [
        "# 8. How does a Bagging Regressor work ?"
      ],
      "metadata": {
        "id": "41zr3LTH16Hm"
      }
    },
    {
      "cell_type": "markdown",
      "source": [
        "Ans.\n",
        "\n",
        "A Bagging Regressor works similarly to a Bagging Classifier, but instead of majority voting, it averages the predictions from multiple base regressors to make the final prediction."
      ],
      "metadata": {
        "id": "XyQrgzDd2A5s"
      }
    },
    {
      "cell_type": "markdown",
      "source": [
        "# 9. What is the main advantage of ensemble techniques ?"
      ],
      "metadata": {
        "id": "Gmx807122Fd5"
      }
    },
    {
      "cell_type": "markdown",
      "source": [
        "Ans.\n",
        "\n",
        "Ensemble techniques improve model accuracy, stability, and generalization by reducing variance and bias."
      ],
      "metadata": {
        "id": "o-yEMxSo2LZg"
      }
    },
    {
      "cell_type": "markdown",
      "source": [
        "# 10. What is the main challenge of ensemble methods ?"
      ],
      "metadata": {
        "id": "BX-sRWCc2RPJ"
      }
    },
    {
      "cell_type": "markdown",
      "source": [
        "Ans.\n",
        "\n",
        "Computational cost: Training multiple models requires more resources.\n",
        "\n",
        "Complexity: Interpretation and debugging can be harder compared to single models."
      ],
      "metadata": {
        "id": "Su1mfRnK2XIF"
      }
    },
    {
      "cell_type": "markdown",
      "source": [
        "# 11. Explain the key idea behind ensemble techniques."
      ],
      "metadata": {
        "id": "p-13oIcI2eKU"
      }
    },
    {
      "cell_type": "markdown",
      "source": [
        "Ans.\n",
        "\n",
        "The key idea is to combine multiple weak learners to create a strong learner that performs better than individual models."
      ],
      "metadata": {
        "id": "wt_w3-002huf"
      }
    },
    {
      "cell_type": "markdown",
      "source": [
        "# 12.  What is a Random Forest Classifier ?"
      ],
      "metadata": {
        "id": "Drszzy6Z2lQy"
      }
    },
    {
      "cell_type": "markdown",
      "source": [
        "Ans.\n",
        "\n",
        "A Random Forest Classifier is an ensemble model that consists of multiple Decision Trees trained on random subsets of data and features, making predictions through majority voting."
      ],
      "metadata": {
        "id": "VymdEENJ2pO8"
      }
    },
    {
      "cell_type": "markdown",
      "source": [
        "# 13. What are the main types of ensemble techniques ?"
      ],
      "metadata": {
        "id": "5ol3wnQ12sdr"
      }
    },
    {
      "cell_type": "markdown",
      "source": [
        "Ans.\n",
        "\n",
        "Bagging: Reduces variance by averaging predictions (e.g., Random Forest).\n",
        "\n",
        "Boosting: Reduces bias by training models sequentially (e.g., AdaBoost, XGBoost).\n",
        "\n",
        "Stacking: Combines multiple models using a meta-learner."
      ],
      "metadata": {
        "id": "g_5QXPBT2xNl"
      }
    },
    {
      "cell_type": "markdown",
      "source": [
        "# 14. What is ensemble learning in machine learning ?"
      ],
      "metadata": {
        "id": "b74iMQOb22D_"
      }
    },
    {
      "cell_type": "markdown",
      "source": [
        "Ans.\n",
        "\n",
        "Ensemble learning is a technique where multiple models are combined to improve accuracy and generalization."
      ],
      "metadata": {
        "id": "mpVzV_3R26Zm"
      }
    },
    {
      "cell_type": "markdown",
      "source": [
        "# 15. When should we avoid using ensemble methods ?"
      ],
      "metadata": {
        "id": "xMkmz_v82-V7"
      }
    },
    {
      "cell_type": "markdown",
      "source": [
        "Ans.\n",
        "\n",
        "When interpretability is critical.\n",
        "\n",
        "When a simple model performs well enough.\n",
        "\n",
        "When computational resources are limited."
      ],
      "metadata": {
        "id": "NpQ8b5Lb3Bkt"
      }
    },
    {
      "cell_type": "markdown",
      "source": [
        "# 16. How does Bagging help in reducing overfitting ?"
      ],
      "metadata": {
        "id": "NO_ECAP63F-d"
      }
    },
    {
      "cell_type": "markdown",
      "source": [
        "Ans.\n",
        "\n",
        "Bagging reduces overfitting by training multiple models on different bootstrap samples and averaging their predictions, reducing model variance."
      ],
      "metadata": {
        "id": "oBs5HoOz3J12"
      }
    },
    {
      "cell_type": "markdown",
      "source": [
        "# 17. Why is Random Forest better than a single Decision Tree ?"
      ],
      "metadata": {
        "id": "eyAeprjc3OND"
      }
    },
    {
      "cell_type": "markdown",
      "source": [
        "Ans.\n",
        "\n",
        "Random Forest reduces overfitting, increases accuracy, and is more robust to noise compared to a single Decision Tree."
      ],
      "metadata": {
        "id": "ayJfLi-73UoO"
      }
    },
    {
      "cell_type": "markdown",
      "source": [
        "# 18. What is the role of bootstrap sampling in Bagging ?"
      ],
      "metadata": {
        "id": "hg2F92YO3YXU"
      }
    },
    {
      "cell_type": "markdown",
      "source": [
        "Ans.\n",
        "\n",
        "Bootstrap sampling allows each model to train on a slightly different dataset, leading to diverse models that reduce variance."
      ],
      "metadata": {
        "id": "1tCQ_h-t3czq"
      }
    },
    {
      "cell_type": "markdown",
      "source": [
        "# 19. What are some real-world applications of ensemble techniques ?"
      ],
      "metadata": {
        "id": "G-ZdKvg23ftT"
      }
    },
    {
      "cell_type": "markdown",
      "source": [
        "Ans.\n",
        "\n",
        "Finance: Fraud detection, risk prediction\n",
        "\n",
        "Healthcare: Disease prediction, medical image analysis\n",
        "\n",
        "E-commerce: Recommendation systems\n",
        "\n",
        "Cybersecurity: Anomaly detection"
      ],
      "metadata": {
        "id": "sk-5TBTm3pYU"
      }
    },
    {
      "cell_type": "markdown",
      "source": [
        "# 20. What is the difference between Bagging and Boosting ?"
      ],
      "metadata": {
        "id": "DOueWn193vkh"
      }
    },
    {
      "cell_type": "markdown",
      "source": [
        "Ans.\n",
        "\n",
        "Bagging: Trains models independently in parallel on different subsets, reducing variance.\n",
        "\n",
        "Boosting: Trains models sequentially, where each model corrects the errors of the previous one, reducing bias."
      ],
      "metadata": {
        "id": "jgtt4u1R30pb"
      }
    },
    {
      "cell_type": "markdown",
      "source": [
        "# **Practical Questions**"
      ],
      "metadata": {
        "id": "3uoUqh2W34VF"
      }
    },
    {
      "cell_type": "markdown",
      "source": [
        "# 21.  Train a Bagging Classifier using Decision Trees on a sample dataset and print model accuracy."
      ],
      "metadata": {
        "id": "1Fyq1Mpg3_W1"
      }
    },
    {
      "cell_type": "code",
      "source": [
        "from sklearn.datasets import load_iris\n",
        "from sklearn.model_selection import train_test_split\n",
        "from sklearn.ensemble import BaggingClassifier\n",
        "from sklearn.tree import DecisionTreeClassifier\n",
        "from sklearn.metrics import accuracy_score\n",
        "\n",
        "# Load dataset\n",
        "iris = load_iris()\n",
        "X, y = iris.data, iris.target\n",
        "\n",
        "# Split dataset into training and testing sets\n",
        "X_train, X_test, y_train, y_test = train_test_split(X, y, test_size=0.2, random_state=42)\n",
        "\n",
        "# Create Bagging Classifier using Decision Trees\n",
        "bagging_clf = BaggingClassifier(estimator=DecisionTreeClassifier(), n_estimators=10, random_state=42)\n",
        "\n",
        "# Train the model\n",
        "bagging_clf.fit(X_train, y_train)\n",
        "\n",
        "# Make predictions\n",
        "y_pred = bagging_clf.predict(X_test)\n",
        "\n",
        "# Calculate and print model accuracy\n",
        "accuracy = accuracy_score(y_test, y_pred)\n",
        "print(f\"Model Accuracy: {accuracy:.2f}\")\n"
      ],
      "metadata": {
        "colab": {
          "base_uri": "https://localhost:8080/"
        },
        "id": "63Gih__y6u8s",
        "outputId": "e9505fe4-2245-47ca-cf84-b03c8431deaf"
      },
      "execution_count": 2,
      "outputs": [
        {
          "output_type": "stream",
          "name": "stdout",
          "text": [
            "Model Accuracy: 1.00\n"
          ]
        }
      ]
    },
    {
      "cell_type": "markdown",
      "source": [
        "# 22. Train a Bagging Regressor using Decision Trees and evaluate using Mean Squared Error (MSE)."
      ],
      "metadata": {
        "id": "OA7_aYUs6yxf"
      }
    },
    {
      "cell_type": "code",
      "source": [
        "from sklearn.datasets import make_regression\n",
        "from sklearn.model_selection import train_test_split\n",
        "from sklearn.ensemble import BaggingRegressor\n",
        "from sklearn.tree import DecisionTreeRegressor\n",
        "from sklearn.metrics import mean_squared_error\n",
        "\n",
        "# Generate synthetic dataset\n",
        "X, y = make_regression(n_samples=100, n_features=2, noise=0.1, random_state=42)\n",
        "\n",
        "# Split dataset into training and testing sets\n",
        "X_train, X_test, y_train, y_test = train_test_split(X, y, test_size=0.2, random_state=42)\n",
        "\n",
        "# Create Bagging Regressor using Decision Trees\n",
        "bagging_reg = BaggingRegressor(estimator=DecisionTreeRegressor(), n_estimators=10, random_state=42)\n",
        "\n",
        "# Train the model\n",
        "bagging_reg.fit(X_train, y_train)\n",
        "\n",
        "# Make predictions\n",
        "y_pred = bagging_reg.predict(X_test)\n",
        "\n",
        "# Calculate and print Mean Squared Error\n",
        "mse = mean_squared_error(y_test, y_pred)\n",
        "print(f\"Mean Squared Error: {mse:.2f}\")\n"
      ],
      "metadata": {
        "colab": {
          "base_uri": "https://localhost:8080/"
        },
        "id": "HbZ70OnU65Nt",
        "outputId": "d2272ba6-80d7-4f4e-c13b-911177a7be54"
      },
      "execution_count": 3,
      "outputs": [
        {
          "output_type": "stream",
          "name": "stdout",
          "text": [
            "Mean Squared Error: 592.01\n"
          ]
        }
      ]
    },
    {
      "cell_type": "markdown",
      "source": [
        "# 23. Train a Random Forest Classifier on the Breast Cancer dataset and print feature importance scores."
      ],
      "metadata": {
        "id": "jNQ_68Kz7IHn"
      }
    },
    {
      "cell_type": "code",
      "source": [
        "from sklearn.datasets import load_breast_cancer\n",
        "from sklearn.model_selection import train_test_split\n",
        "from sklearn.ensemble import RandomForestClassifier\n",
        "from sklearn.metrics import accuracy_score\n",
        "import numpy as np\n",
        "\n",
        "# Load Breast Cancer dataset\n",
        "cancer = load_breast_cancer()\n",
        "X, y = cancer.data, cancer.target\n",
        "\n",
        "# Split dataset into training and testing sets\n",
        "X_train, X_test, y_train, y_test = train_test_split(X, y, test_size=0.2, random_state=42)\n",
        "\n",
        "# Create Random Forest Classifier\n",
        "rf_clf = RandomForestClassifier(n_estimators=100, random_state=42)\n",
        "\n",
        "# Train the model\n",
        "rf_clf.fit(X_train, y_train)\n",
        "\n",
        "# Make predictions\n",
        "y_pred = rf_clf.predict(X_test)\n",
        "\n",
        "# Calculate and print model accuracy\n",
        "accuracy = accuracy_score(y_test, y_pred)\n",
        "print(f\"Model Accuracy: {accuracy:.2f}\")\n",
        "\n",
        "# Print feature importance scores\n",
        "feature_importances = rf_clf.feature_importances_\n",
        "for feature, importance in zip(cancer.feature_names, feature_importances):\n",
        "    print(f\"{feature}: {importance:.4f}\")\n"
      ],
      "metadata": {
        "colab": {
          "base_uri": "https://localhost:8080/"
        },
        "id": "0yUFqeiV7MxQ",
        "outputId": "b54a4252-7f97-435e-ef70-85d41823a10e"
      },
      "execution_count": 4,
      "outputs": [
        {
          "output_type": "stream",
          "name": "stdout",
          "text": [
            "Model Accuracy: 0.96\n",
            "mean radius: 0.0487\n",
            "mean texture: 0.0136\n",
            "mean perimeter: 0.0533\n",
            "mean area: 0.0476\n",
            "mean smoothness: 0.0073\n",
            "mean compactness: 0.0139\n",
            "mean concavity: 0.0680\n",
            "mean concave points: 0.1062\n",
            "mean symmetry: 0.0038\n",
            "mean fractal dimension: 0.0039\n",
            "radius error: 0.0201\n",
            "texture error: 0.0047\n",
            "perimeter error: 0.0113\n",
            "area error: 0.0224\n",
            "smoothness error: 0.0043\n",
            "compactness error: 0.0053\n",
            "concavity error: 0.0094\n",
            "concave points error: 0.0035\n",
            "symmetry error: 0.0040\n",
            "fractal dimension error: 0.0053\n",
            "worst radius: 0.0780\n",
            "worst texture: 0.0217\n",
            "worst perimeter: 0.0671\n",
            "worst area: 0.1539\n",
            "worst smoothness: 0.0106\n",
            "worst compactness: 0.0203\n",
            "worst concavity: 0.0318\n",
            "worst concave points: 0.1447\n",
            "worst symmetry: 0.0101\n",
            "worst fractal dimension: 0.0052\n"
          ]
        }
      ]
    },
    {
      "cell_type": "markdown",
      "source": [
        "# 24. Train a Random Forest Regressor and compare its performance with a single Decision Tree."
      ],
      "metadata": {
        "id": "wUvjElZy7Xol"
      }
    },
    {
      "cell_type": "code",
      "source": [
        "import numpy as np\n",
        "import matplotlib.pyplot as plt\n",
        "from sklearn.model_selection import train_test_split\n",
        "from sklearn.tree import DecisionTreeRegressor\n",
        "from sklearn.ensemble import RandomForestRegressor\n",
        "from sklearn.metrics import mean_squared_error\n",
        "from sklearn.datasets import make_regression\n",
        "\n",
        "# Generate a dataset (50 samples, 3 features)\n",
        "X, y = make_regression(n_samples=50, n_features=3, noise=10, random_state=42)\n",
        "\n",
        "# Split dataset into training (80%) and testing (20%) sets\n",
        "X_train, X_test, y_train, y_test = train_test_split(X, y, test_size=0.2, random_state=42)\n",
        "\n",
        "# Train Decision Tree Regressor\n",
        "dt = DecisionTreeRegressor(random_state=42)\n",
        "dt.fit(X_train, y_train)\n",
        "y_pred_dt = dt.predict(X_test)\n",
        "\n",
        "# Train Random Forest Regressor\n",
        "rf = RandomForestRegressor(n_estimators=10, random_state=42)  # Fewer trees for small data\n",
        "rf.fit(X_train, y_train)\n",
        "y_pred_rf = rf.predict(X_test)\n",
        "\n",
        "# Compute Mean Squared Error\n",
        "mse_dt = mean_squared_error(y_test, y_pred_dt)\n",
        "mse_rf = mean_squared_error(y_test, y_pred_rf)\n",
        "\n",
        "# Print results\n",
        "print(f\"Decision Tree MSE: {mse_dt:.4f}\")\n",
        "print(f\"Random Forest MSE: {mse_rf:.4f}\")\n",
        "\n",
        "# Plot predictions\n",
        "plt.figure(figsize=(7, 5))\n",
        "plt.scatter(y_test, y_pred_dt, label=\"Decision Tree\", color='red', alpha=0.6)\n",
        "plt.scatter(y_test, y_pred_rf, label=\"Random Forest\", color='blue', alpha=0.6)\n",
        "plt.plot([-100, 100], [-100, 100], \"--\", color=\"black\")  # Reference line\n",
        "plt.xlabel(\"True Values\")\n",
        "plt.ylabel(\"Predicted Values\")\n",
        "plt.title(\"Decision Tree vs. Random Forest Predictions\")\n",
        "plt.legend()\n",
        "plt.show()\n"
      ],
      "metadata": {
        "colab": {
          "base_uri": "https://localhost:8080/",
          "height": 522
        },
        "id": "b4y0f7sT7cbn",
        "outputId": "f7dd6d14-839f-443a-a2a7-ee484bf174c6"
      },
      "execution_count": 5,
      "outputs": [
        {
          "output_type": "stream",
          "name": "stdout",
          "text": [
            "Decision Tree MSE: 7765.7318\n",
            "Random Forest MSE: 753.3127\n"
          ]
        },
        {
          "output_type": "display_data",
          "data": {
            "text/plain": [
              "<Figure size 700x500 with 1 Axes>"
            ],
            "image/png": "[encoded data removed]"
          },
          "metadata": {}
        }
      ]
    },
    {
      "cell_type": "markdown",
      "source": [
        "# 25. Compute the Out-of-Bag (OOB) Score for a Random Forest Classifier."
      ],
      "metadata": {
        "id": "0monsu8c8BK5"
      }
    },
    {
      "cell_type": "code",
      "source": [
        "from sklearn.ensemble import RandomForestClassifier\n",
        "from sklearn.datasets import load_iris\n",
        "from sklearn.model_selection import train_test_split\n",
        "from sklearn.metrics import accuracy_score\n",
        "\n",
        "# Load a dataset (Iris)\n",
        "data = load_iris()\n",
        "X, y = data.data, data.target\n",
        "\n",
        "# Split dataset (though OOB does not require a test set)\n",
        "X_train, X_test, y_train, y_test = train_test_split(X, y, test_size=0.2, random_state=42)\n",
        "\n",
        "# Train Random Forest Classifier with OOB Score\n",
        "rf = RandomForestClassifier(n_estimators=50, oob_score=True, random_state=42, bootstrap=True)\n",
        "rf.fit(X_train, y_train)\n",
        "\n",
        "# Get OOB Score\n",
        "oob_score = rf.oob_score_\n",
        "\n",
        "# Compute Test Accuracy\n",
        "y_pred = rf.predict(X_test)\n",
        "test_accuracy = accuracy_score(y_test, y_pred)\n",
        "\n",
        "# Print results\n",
        "print(f\"OOB Score: {oob_score:.4f}\")\n",
        "print(f\"Test Accuracy: {test_accuracy:.4f}\")\n"
      ],
      "metadata": {
        "colab": {
          "base_uri": "https://localhost:8080/"
        },
        "id": "-J57ersU9AWV",
        "outputId": "9cee51d1-ecef-495f-beff-c75d24b6008c"
      },
      "execution_count": 6,
      "outputs": [
        {
          "output_type": "stream",
          "name": "stdout",
          "text": [
            "OOB Score: 0.9167\n",
            "Test Accuracy: 1.0000\n"
          ]
        }
      ]
    },
    {
      "cell_type": "markdown",
      "source": [
        "# 26.  Train a Bagging Classifier using SVM as a base estimator and print accuracy."
      ],
      "metadata": {
        "id": "51kdY9eE9E47"
      }
    },
    {
      "cell_type": "code",
      "source": [
        "from sklearn.ensemble import BaggingClassifier\n",
        "from sklearn.svm import SVC\n",
        "from sklearn.datasets import load_iris\n",
        "from sklearn.model_selection import train_test_split\n",
        "from sklearn.metrics import accuracy_score\n",
        "\n",
        "# Load a dataset (Iris)\n",
        "data = load_iris()\n",
        "X, y = data.data, data.target\n",
        "\n",
        "# Split dataset into training (80%) and testing (20%) sets\n",
        "X_train, X_test, y_train, y_test = train_test_split(X, y, test_size=0.2, random_state=42)\n",
        "\n",
        "# Define the base estimator (Support Vector Machine)\n",
        "base_estimator = SVC(probability=True)  # Needed for better ensemble learning\n",
        "\n",
        "# Train Bagging Classifier with SVM as the base estimator\n",
        "bagging_clf = BaggingClassifier(estimator=base_estimator, n_estimators=10, random_state=42)\n",
        "bagging_clf.fit(X_train, y_train)\n",
        "\n",
        "# Predict on test data\n",
        "y_pred = bagging_clf.predict(X_test)\n",
        "\n",
        "# Compute accuracy\n",
        "accuracy2 = accuracy_score(y_test, y_pred)\n",
        "\n",
        "# Print accuracy\n",
        "print(f\"Accuracy2: {accuracy2:.4f}\")\n"
      ],
      "metadata": {
        "colab": {
          "base_uri": "https://localhost:8080/"
        },
        "id": "Ty0LO8eb9Zii",
        "outputId": "e18e6263-fbbd-49b0-d575-297382547889"
      },
      "execution_count": 8,
      "outputs": [
        {
          "output_type": "stream",
          "name": "stdout",
          "text": [
            "Accuracy2: 1.0000\n"
          ]
        }
      ]
    },
    {
      "cell_type": "markdown",
      "source": [
        "# 27. Train a Random Forest Classifier with different numbers of trees and compare accuracy."
      ],
      "metadata": {
        "id": "map8qEyo9b1b"
      }
    },
    {
      "cell_type": "code",
      "source": [
        "import numpy as np\n",
        "import matplotlib.pyplot as plt\n",
        "from sklearn.ensemble import RandomForestClassifier\n",
        "from sklearn.datasets import load_iris\n",
        "from sklearn.model_selection import train_test_split\n",
        "from sklearn.metrics import accuracy_score\n",
        "\n",
        "# Load a dataset (Iris)\n",
        "data = load_iris()\n",
        "X, y = data.data, data.target\n",
        "\n",
        "# Split dataset into training (80%) and testing (20%) sets\n",
        "X_train, X_test, y_train, y_test = train_test_split(X, y, test_size=0.2, random_state=42)\n",
        "\n",
        "# Different numbers of trees to test\n",
        "n_trees = [1, 5, 10, 20, 50, 100]\n",
        "\n",
        "accuracy_scores = []\n",
        "\n",
        "# Train Random Forest with different numbers of trees\n",
        "for n in n_trees:\n",
        "    rf = RandomForestClassifier(n_estimators=n, random_state=42)\n",
        "    rf.fit(X_train, y_train)\n",
        "    y_pred = rf.predict(X_test)\n",
        "\n",
        "    accuracy2 = accuracy_score(y_test, y_pred)\n",
        "    accuracy_scores.append(accuracy2)\n",
        "\n",
        "    print(f\"n_estimators={n}, Accuracy2={accuracy2:.4f}\")\n",
        "\n",
        "# Plot accuracy vs number of trees\n",
        "plt.figure(figsize=(8, 5))\n",
        "plt.plot(n_trees, accuracy_scores, marker='o', linestyle='--', color='b')\n",
        "plt.xlabel(\"Number of Trees (n_estimators)\")\n",
        "plt.ylabel(\"Accuracy2\")\n",
        "plt.title(\"Random Forest Accuracy vs. Number of Trees\")\n",
        "plt.grid(True)\n",
        "plt.show()\n"
      ],
      "metadata": {
        "colab": {
          "base_uri": "https://localhost:8080/",
          "height": 591
        },
        "id": "g1ThJM5t9hVN",
        "outputId": "4ea362b3-54a6-4556-b1c1-94f8670b048f"
      },
      "execution_count": 9,
      "outputs": [
        {
          "output_type": "stream",
          "name": "stdout",
          "text": [
            "n_estimators=1, Accuracy2=1.0000\n",
            "n_estimators=5, Accuracy2=0.9667\n",
            "n_estimators=10, Accuracy2=1.0000\n",
            "n_estimators=20, Accuracy2=1.0000\n",
            "n_estimators=50, Accuracy2=1.0000\n",
            "n_estimators=100, Accuracy2=1.0000\n"
          ]
        },
        {
          "output_type": "display_data",
          "data": {
            "text/plain": [
              "<Figure size 800x500 with 1 Axes>"
            ],
            "image/png": "[encoded data removed]"
          },
          "metadata": {}
        }
      ]
    },
    {
      "cell_type": "markdown",
      "source": [
        "# 28. Train a Bagging Classifier using Logistic Regression as a base estimator and print AUC score."
      ],
      "metadata": {
        "id": "o_hnMpgm9v5f"
      }
    },
    {
      "cell_type": "code",
      "source": [
        "from sklearn.ensemble import BaggingClassifier\n",
        "from sklearn.linear_model import LogisticRegression\n",
        "from sklearn.datasets import load_breast_cancer\n",
        "from sklearn.model_selection import train_test_split\n",
        "from sklearn.metrics import roc_auc_score\n",
        "\n",
        "# Load a dataset (Breast Cancer)\n",
        "data = load_breast_cancer()\n",
        "X, y = data.data, data.target  # Binary classification (0 or 1)\n",
        "\n",
        "# Split dataset into training (80%) and testing (20%) sets\n",
        "X_train, X_test, y_train, y_test = train_test_split(X, y, test_size=0.2, random_state=42)\n",
        "\n",
        "# Define the base estimator (Logistic Regression)\n",
        "base_estimator = LogisticRegression(solver='liblinear')  # Suitable for small datasets\n",
        "\n",
        "# Train Bagging Classifier with Logistic Regression as the base estimator\n",
        "bagging_clf = BaggingClassifier(estimator=base_estimator, n_estimators=10, random_state=42)\n",
        "bagging_clf.fit(X_train, y_train)\n",
        "\n",
        "# Predict probabilities for AUC calculation\n",
        "y_prob = bagging_clf.predict_proba(X_test)[:, 1]  # Get probability of class 1\n",
        "\n",
        "# Compute AUC Score\n",
        "auc_score = roc_auc_score(y_test, y_prob)\n",
        "\n",
        "# Print AUC Score\n",
        "print(f\"AUC Score: {auc_score:.4f}\")\n"
      ],
      "metadata": {
        "colab": {
          "base_uri": "https://localhost:8080/"
        },
        "id": "AwK-cJjq93Sa",
        "outputId": "4847e0c2-0925-45d3-fd51-44415d610ad5"
      },
      "execution_count": 10,
      "outputs": [
        {
          "output_type": "stream",
          "name": "stdout",
          "text": [
            "AUC Score: 0.9974\n"
          ]
        }
      ]
    },
    {
      "cell_type": "markdown",
      "source": [
        "# 29. Train a Random Forest Regressor and analyze feature importance scores."
      ],
      "metadata": {
        "id": "Ds37N-BT-FJo"
      }
    },
    {
      "cell_type": "code",
      "source": [
        "import numpy as np\n",
        "import matplotlib.pyplot as plt\n",
        "from sklearn.ensemble import RandomForestRegressor\n",
        "from sklearn.datasets import fetch_california_housing\n",
        "from sklearn.model_selection import train_test_split\n",
        "\n",
        "# Load a regression dataset (California Housing - alternative to Boston Housing)\n",
        "data = fetch_california_housing()\n",
        "X, y = data.data, data.target  # Features and target variable\n",
        "\n",
        "# Split dataset into training (80%) and testing (20%) sets\n",
        "X_train, X_test, y_train, y_test = train_test_split(X, y, test_size=0.2, random_state=42)\n",
        "\n",
        "# Train Random Forest Regressor\n",
        "rf = RandomForestRegressor(n_estimators=100, random_state=42)\n",
        "rf.fit(X_train, y_train)\n",
        "\n",
        "# Get feature importance scores\n",
        "feature_importance = rf.feature_importances_\n",
        "feature_names = data.feature_names  # Column names\n",
        "\n",
        "# Sort feature importance in descending order\n",
        "sorted_idx = np.argsort(feature_importance)[::-1]\n",
        "\n",
        "# Print feature importance scores\n",
        "print(\"Feature Importance Scores:\")\n",
        "for i in sorted_idx:\n",
        "    print(f\"{feature_names[i]}: {feature_importance[i]:.4f}\")\n",
        "\n",
        "# Plot feature importance\n",
        "plt.figure(figsize=(8, 5))\n",
        "plt.barh([feature_names[i] for i in sorted_idx], [feature_importance[i] for i in sorted_idx], color='blue')\n",
        "plt.xlabel(\"Feature Importance Score\")\n",
        "plt.ylabel(\"Features\")\n",
        "plt.title(\"Feature Importance in Random Forest Regressor\")\n",
        "plt.gca().invert_yaxis()  # Highest importance at top\n",
        "plt.show()\n"
      ],
      "metadata": {
        "colab": {
          "base_uri": "https://localhost:8080/",
          "height": 643
        },
        "id": "ukYmR_qN-KkR",
        "outputId": "68f41cb4-b44c-4213-b3a9-af770da74c54"
      },
      "execution_count": 11,
      "outputs": [
        {
          "output_type": "stream",
          "name": "stdout",
          "text": [
            "Feature Importance Scores:\n",
            "MedInc: 0.5249\n",
            "AveOccup: 0.1384\n",
            "Latitude: 0.0889\n",
            "Longitude: 0.0886\n",
            "HouseAge: 0.0546\n",
            "AveRooms: 0.0443\n",
            "Population: 0.0306\n",
            "AveBedrms: 0.0296\n"
          ]
        },
        {
          "output_type": "display_data",
          "data": {
            "text/plain": [
              "<Figure size 800x500 with 1 Axes>"
            ],
            "image/png": "[encoded data removed]"
          },
          "metadata": {}
        }
      ]
    },
    {
      "cell_type": "markdown",
      "source": [
        "# 30. Train an ensemble model using both Bagging and Random Forest and compare accuracy."
      ],
      "metadata": {
        "id": "XxdLZ7S8-bjv"
      }
    },
    {
      "cell_type": "code",
      "source": [
        "from sklearn.ensemble import BaggingClassifier, RandomForestClassifier\n",
        "from sklearn.tree import DecisionTreeClassifier\n",
        "from sklearn.datasets import load_iris\n",
        "from sklearn.model_selection import train_test_split\n",
        "from sklearn.metrics import accuracy_score\n",
        "\n",
        "# Load a dataset (Iris)\n",
        "data = load_iris()\n",
        "X, y = data.data, data.target\n",
        "\n",
        "# Split dataset into training (80%) and testing (20%) sets\n",
        "X_train, X_test, y_train, y_test = train_test_split(X, y, test_size=0.2, random_state=42)\n",
        "\n",
        "# Train Bagging Classifier (with Decision Tree as base estimator)\n",
        "bagging_clf = BaggingClassifier(estimator=DecisionTreeClassifier(), n_estimators=50, random_state=42)\n",
        "bagging_clf.fit(X_train, y_train)\n",
        "bagging_pred = bagging_clf.predict(X_test)\n",
        "bagging_accuracy = accuracy_score(y_test, bagging_pred)\n",
        "\n",
        "# Train Random Forest Classifier\n",
        "rf_clf = RandomForestClassifier(n_estimators=50, random_state=42)\n",
        "rf_clf.fit(X_train, y_train)\n",
        "rf_pred = rf_clf.predict(X_test)\n",
        "rf_accuracy = accuracy_score(y_test, rf_pred)\n",
        "\n",
        "# Print accuracy comparison\n",
        "print(f\"Bagging Classifier Accuracy: {bagging_accuracy:.4f}\")\n",
        "print(f\"Random Forest Classifier Accuracy: {rf_accuracy:.4f}\")\n"
      ],
      "metadata": {
        "colab": {
          "base_uri": "https://localhost:8080/"
        },
        "id": "NBeHjB3_-gMF",
        "outputId": "e322e7ae-8a4d-4f64-95ee-462b91264df5"
      },
      "execution_count": 12,
      "outputs": [
        {
          "output_type": "stream",
          "name": "stdout",
          "text": [
            "Bagging Classifier Accuracy: 1.0000\n",
            "Random Forest Classifier Accuracy: 1.0000\n"
          ]
        }
      ]
    },
    {
      "cell_type": "markdown",
      "source": [
        "# 31. Train a Random Forest Classifier and tune hyperparameters using GridSearchCV"
      ],
      "metadata": {
        "id": "ocyYGen2-nI1"
      }
    },
    {
      "cell_type": "code",
      "source": [
        "from sklearn.ensemble import RandomForestClassifier\n",
        "from sklearn.datasets import load_iris\n",
        "from sklearn.model_selection import train_test_split, GridSearchCV\n",
        "from sklearn.metrics import accuracy_score\n",
        "\n",
        "# Load a dataset (Iris)\n",
        "data = load_iris()\n",
        "X, y = data.data, data.target\n",
        "\n",
        "# Split dataset into training (80%) and testing (20%) sets\n",
        "X_train, X_test, y_train, y_test = train_test_split(X, y, test_size=0.2, random_state=42)\n",
        "\n",
        "# Define Random Forest Classifier\n",
        "rf = RandomForestClassifier(random_state=42)\n",
        "\n",
        "# Define hyperparameters to tune\n",
        "param_grid = {\n",
        "    'n_estimators': [10, 50, 100],  # Number of trees\n",
        "    'max_depth': [None, 5, 10],  # Maximum depth of trees\n",
        "    'min_samples_split': [2, 5, 10]  # Minimum samples to split\n",
        "}\n",
        "\n",
        "# Use GridSearchCV for hyperparameter tuning\n",
        "grid_search = GridSearchCV(estimator=rf, param_grid=param_grid, cv=5, scoring='accuracy', n_jobs=-1)\n",
        "grid_search.fit(X_train, y_train)\n",
        "\n",
        "# Get the best model\n",
        "best_rf = grid_search.best_estimator_\n",
        "\n",
        "# Predict on test data\n",
        "y_pred = best_rf.predict(X_test)\n",
        "\n",
        "# Compute accuracy\n",
        "best_accuracy = accuracy_score(y_test, y_pred)\n",
        "\n",
        "# Print best parameters and accuracy\n",
        "print(\"Best Hyperparameters:\", grid_search.best_params_)\n",
        "print(f\"Best Accuracy: {best_accuracy:.4f}\")\n"
      ],
      "metadata": {
        "colab": {
          "base_uri": "https://localhost:8080/"
        },
        "id": "yaDv9vhQ-yLX",
        "outputId": "908c16a1-2949-46c0-a974-0b0bb535a929"
      },
      "execution_count": 13,
      "outputs": [
        {
          "output_type": "stream",
          "name": "stdout",
          "text": [
            "Best Hyperparameters: {'max_depth': None, 'min_samples_split': 2, 'n_estimators': 10}\n",
            "Best Accuracy: 1.0000\n"
          ]
        }
      ]
    },
    {
      "cell_type": "markdown",
      "source": [
        "# 32. Train a Bagging Regressor with different numbers of base estimators and compare performance."
      ],
      "metadata": {
        "id": "U0eQ8_0WBnMq"
      }
    },
    {
      "cell_type": "code",
      "source": [
        "import numpy as np\n",
        "import matplotlib.pyplot as plt\n",
        "from sklearn.ensemble import BaggingRegressor\n",
        "from sklearn.tree import DecisionTreeRegressor\n",
        "from sklearn.datasets import fetch_california_housing\n",
        "from sklearn.model_selection import train_test_split\n",
        "from sklearn.metrics import mean_squared_error\n",
        "\n",
        "# Load a regression dataset (California Housing)\n",
        "data = fetch_california_housing()\n",
        "X, y = data.data, data.target  # Features and target variable\n",
        "\n",
        "# Split dataset into training (80%) and testing (20%) sets\n",
        "X_train, X_test, y_train, y_test = train_test_split(X, y, test_size=0.2, random_state=42)\n",
        "\n",
        "# Different numbers of base estimators to test\n",
        "n_estimators_list = [1, 5, 10, 20, 50, 100]\n",
        "\n",
        "mse_scores = []\n",
        "\n",
        "# Train Bagging Regressor with different numbers of base estimators\n",
        "for n in n_estimators_list:\n",
        "    bagging_reg = BaggingRegressor(estimator=DecisionTreeRegressor(), n_estimators=n, random_state=42)\n",
        "    bagging_reg.fit(X_train, y_train)\n",
        "    y_pred = bagging_reg.predict(X_test)\n",
        "\n",
        "    mse = mean_squared_error(y_test, y_pred)\n",
        "    mse_scores.append(mse)\n",
        "\n",
        "    print(f\"n_estimators={n}, MSE={mse:.4f}\")\n",
        "\n",
        "# Plot MSE vs Number of Base Estimators\n",
        "plt.figure(figsize=(8, 5))\n",
        "plt.plot(n_estimators_list, mse_scores, marker='o', linestyle='--', color='b')\n",
        "plt.xlabel(\"Number of Base Estimators (n_estimators)\")\n",
        "plt.ylabel(\"Mean Squared Error (MSE)\")\n",
        "plt.title(\"Bagging Regressor Performance vs. Number of Estimators\")\n",
        "plt.grid(True)\n",
        "plt.show()\n"
      ],
      "metadata": {
        "colab": {
          "base_uri": "https://localhost:8080/",
          "height": 591
        },
        "id": "_N_3oEt17DaW",
        "outputId": "9dce72a1-472c-4749-ec9a-d5f0a803ee5c"
      },
      "execution_count": 1,
      "outputs": [
        {
          "output_type": "stream",
          "name": "stdout",
          "text": [
            "n_estimators=1, MSE=0.5501\n",
            "n_estimators=5, MSE=0.3060\n",
            "n_estimators=10, MSE=0.2824\n",
            "n_estimators=20, MSE=0.2643\n",
            "n_estimators=50, MSE=0.2573\n",
            "n_estimators=100, MSE=0.2559\n"
          ]
        },
        {
          "output_type": "display_data",
          "data": {
            "text/plain": [
              "<Figure size 800x500 with 1 Axes>"
            ],
            "image/png": "[encoded data removed]"
          },
          "metadata": {}
        }
      ]
    },
    {
      "cell_type": "markdown",
      "source": [
        "# 33. Train a Random Forest Classifier and analyze misclassified samples."
      ],
      "metadata": {
        "id": "TaO0X_Fx7oiG"
      }
    },
    {
      "cell_type": "code",
      "source": [
        "import numpy as np\n",
        "import pandas as pd\n",
        "from sklearn.ensemble import RandomForestClassifier\n",
        "from sklearn.datasets import load_iris\n",
        "from sklearn.model_selection import train_test_split\n",
        "from sklearn.metrics import accuracy_score\n",
        "\n",
        "# Load a classification dataset (Iris)\n",
        "data = load_iris()\n",
        "X, y = data.data, data.target\n",
        "target_names = data.target_names  # Class names\n",
        "\n",
        "# Split dataset into training (80%) and testing (20%) sets\n",
        "X_train, X_test, y_train, y_test = train_test_split(X, y, test_size=0.2, random_state=42)\n",
        "\n",
        "# Train Random Forest Classifier\n",
        "rf = RandomForestClassifier(n_estimators=100, random_state=42)\n",
        "rf.fit(X_train, y_train)\n",
        "\n",
        "# Predict on test data\n",
        "y_pred = rf.predict(X_test)\n",
        "\n",
        "# Compute accuracy\n",
        "accuracy = accuracy_score(y_test, y_pred)\n",
        "print(f\"Accuracy: {accuracy:.4f}\")\n",
        "\n",
        "# Identify misclassified samples\n",
        "misclassified_idx = np.where(y_test != y_pred)[0]\n",
        "\n",
        "if len(misclassified_idx) == 0:\n",
        "    print(\"No misclassified samples found.\")\n",
        "else:\n",
        "    print(\"\\nMisclassified Samples:\")\n",
        "    misclassified_df = pd.DataFrame(X_test[misclassified_idx], columns=data.feature_names)\n",
        "    misclassified_df[\"True Label\"] = [target_names[i] for i in y_test[misclassified_idx]]\n",
        "    misclassified_df[\"Predicted Label\"] = [target_names[i] for i in y_pred[misclassified_idx]]\n",
        "    print(misclassified_df)\n"
      ],
      "metadata": {
        "colab": {
          "base_uri": "https://localhost:8080/"
        },
        "id": "aGkDqlPw7tGO",
        "outputId": "21263cb6-c4b1-4f8c-e2c2-00a24224bf67"
      },
      "execution_count": 2,
      "outputs": [
        {
          "output_type": "stream",
          "name": "stdout",
          "text": [
            "Accuracy: 1.0000\n",
            "No misclassified samples found.\n"
          ]
        }
      ]
    },
    {
      "cell_type": "markdown",
      "source": [
        "# 34.  Train a Bagging Classifier and compare its performance with a single Decision Tree Classifier."
      ],
      "metadata": {
        "id": "Zj39GIGr75FK"
      }
    },
    {
      "cell_type": "code",
      "source": [
        "from sklearn.ensemble import BaggingClassifier\n",
        "from sklearn.tree import DecisionTreeClassifier\n",
        "from sklearn.datasets import load_iris\n",
        "from sklearn.model_selection import train_test_split\n",
        "from sklearn.metrics import accuracy_score\n",
        "\n",
        "# Load a dataset (Iris)\n",
        "data = load_iris()\n",
        "X, y = data.data, data.target\n",
        "\n",
        "# Split dataset into training (80%) and testing (20%) sets\n",
        "X_train, X_test, y_train, y_test = train_test_split(X, y, test_size=0.2, random_state=42)\n",
        "\n",
        "# Train a single Decision Tree Classifier\n",
        "tree_clf = DecisionTreeClassifier(random_state=42)\n",
        "tree_clf.fit(X_train, y_train)\n",
        "tree_pred = tree_clf.predict(X_test)\n",
        "tree_accuracy = accuracy_score(y_test, tree_pred)\n",
        "\n",
        "# Train a Bagging Classifier (with Decision Tree as base estimator)\n",
        "bagging_clf = BaggingClassifier(estimator=DecisionTreeClassifier(), n_estimators=50, random_state=42)\n",
        "bagging_clf.fit(X_train, y_train)\n",
        "bagging_pred = bagging_clf.predict(X_test)\n",
        "bagging_accuracy = accuracy_score(y_test, bagging_pred)\n",
        "\n",
        "# Print accuracy comparison\n",
        "print(f\"Decision Tree Accuracy: {tree_accuracy:.4f}\")\n",
        "print(f\"Bagging Classifier Accuracy: {bagging_accuracy:.4f}\")\n"
      ],
      "metadata": {
        "colab": {
          "base_uri": "https://localhost:8080/"
        },
        "id": "koorUQ8I7-k_",
        "outputId": "a0f851cf-2ec3-4dc8-f3b7-ab3eb8eacb78"
      },
      "execution_count": 3,
      "outputs": [
        {
          "output_type": "stream",
          "name": "stdout",
          "text": [
            "Decision Tree Accuracy: 1.0000\n",
            "Bagging Classifier Accuracy: 1.0000\n"
          ]
        }
      ]
    },
    {
      "cell_type": "markdown",
      "source": [
        "# 35. Train a Random Forest Classifier and visualize the confusion matrix."
      ],
      "metadata": {
        "id": "JtS54ScR8HuX"
      }
    },
    {
      "cell_type": "code",
      "source": [
        "import numpy as np\n",
        "import matplotlib.pyplot as plt\n",
        "import seaborn as sns\n",
        "from sklearn.ensemble import RandomForestClassifier\n",
        "from sklearn.datasets import load_iris\n",
        "from sklearn.model_selection import train_test_split\n",
        "from sklearn.metrics import confusion_matrix, accuracy_score\n",
        "\n",
        "# Load a dataset (Iris)\n",
        "data = load_iris()\n",
        "X, y = data.data, data.target\n",
        "class_names = data.target_names  # Class labels\n",
        "\n",
        "# Split dataset into training (80%) and testing (20%) sets\n",
        "X_train, X_test, y_train, y_test = train_test_split(X, y, test_size=0.2, random_state=42)\n",
        "\n",
        "# Train a Random Forest Classifier\n",
        "rf_clf = RandomForestClassifier(n_estimators=100, random_state=42)\n",
        "rf_clf.fit(X_train, y_train)\n",
        "\n",
        "# Predict on test data\n",
        "y_pred = rf_clf.predict(X_test)\n",
        "\n",
        "# Compute accuracy\n",
        "accuracy = accuracy_score(y_test, y_pred)\n",
        "print(f\"Accuracy: {accuracy:.4f}\")\n",
        "\n",
        "# Compute confusion matrix\n",
        "conf_matrix = confusion_matrix(y_test, y_pred)\n",
        "\n",
        "# Visualize confusion matrix using Seaborn heatmap\n",
        "plt.figure(figsize=(6, 5))\n",
        "sns.heatmap(conf_matrix, annot=True, cmap=\"Blues\", fmt=\"d\",\n",
        "            xticklabels=class_names, yticklabels=class_names)\n",
        "plt.xlabel(\"Predicted Label\")\n",
        "plt.ylabel(\"True Label\")\n",
        "plt.title(\"Confusion Matrix - Random Forest Classifier\")\n",
        "plt.show()\n"
      ],
      "metadata": {
        "colab": {
          "base_uri": "https://localhost:8080/",
          "height": 504
        },
        "id": "c2SEgOFn8MHZ",
        "outputId": "91e7181a-eacb-4946-f4e0-a6771281dd75"
      },
      "execution_count": 4,
      "outputs": [
        {
          "output_type": "stream",
          "name": "stdout",
          "text": [
            "Accuracy: 1.0000\n"
          ]
        },
        {
          "output_type": "display_data",
          "data": {
            "text/plain": [
              "<Figure size 600x500 with 2 Axes>"
            ],
            "image/png": "[encoded data removed]"
          },
          "metadata": {}
        }
      ]
    },
    {
      "cell_type": "markdown",
      "source": [
        "# 36. Train a Stacking Classifier using Decision Trees, SVM, and Logistic Regression, and compare accuracy."
      ],
      "metadata": {
        "id": "PhtuEJhn8Xjr"
      }
    },
    {
      "cell_type": "code",
      "source": [
        "from sklearn.ensemble import StackingClassifier\n",
        "from sklearn.tree import DecisionTreeClassifier\n",
        "from sklearn.svm import SVC\n",
        "from sklearn.linear_model import LogisticRegression\n",
        "from sklearn.datasets import load_iris\n",
        "from sklearn.model_selection import train_test_split\n",
        "from sklearn.metrics import accuracy_score\n",
        "\n",
        "# Load a dataset (Iris)\n",
        "data = load_iris()\n",
        "X, y = data.data, data.target\n",
        "\n",
        "# Split dataset into training (80%) and testing (20%) sets\n",
        "X_train, X_test, y_train, y_test = train_test_split(X, y, test_size=0.2, random_state=42)\n",
        "\n",
        "# Define base estimators\n",
        "base_estimators = [\n",
        "    ('dt', DecisionTreeClassifier(random_state=42)),\n",
        "    ('svm', SVC(probability=True, random_state=42)),  # SVM needs probability=True for stacking\n",
        "    ('lr', LogisticRegression(max_iter=200, random_state=42))\n",
        "]\n",
        "\n",
        "# Define Stacking Classifier (Final Estimator: Logistic Regression)\n",
        "stacking_clf = StackingClassifier(estimators=base_estimators, final_estimator=LogisticRegression())\n",
        "\n",
        "# Train individual classifiers\n",
        "dt_clf = DecisionTreeClassifier(random_state=42)\n",
        "svm_clf = SVC(random_state=42)\n",
        "lr_clf = LogisticRegression(max_iter=200, random_state=42)\n",
        "\n",
        "dt_clf.fit(X_train, y_train)\n",
        "svm_clf.fit(X_train, y_train)\n",
        "lr_clf.fit(X_train, y_train)\n",
        "\n",
        "# Train Stacking Classifier\n",
        "stacking_clf.fit(X_train, y_train)\n",
        "\n",
        "# Make predictions\n",
        "dt_pred = dt_clf.predict(X_test)\n",
        "svm_pred = svm_clf.predict(X_test)\n",
        "lr_pred = lr_clf.predict(X_test)\n",
        "stacking_pred = stacking_clf.predict(X_test)\n",
        "\n",
        "# Compute accuracy\n",
        "dt_acc = accuracy_score(y_test, dt_pred)\n",
        "svm_acc = accuracy_score(y_test, svm_pred)\n",
        "lr_acc = accuracy_score(y_test, lr_pred)\n",
        "stacking_acc = accuracy_score(y_test, stacking_pred)\n",
        "\n",
        "# Print accuracy comparison\n",
        "print(f\"Decision Tree Accuracy: {dt_acc:.4f}\")\n",
        "print(f\"SVM Accuracy: {svm_acc:.4f}\")\n",
        "print(f\"Logistic Regression Accuracy: {lr_acc:.4f}\")\n",
        "print(f\"Stacking Classifier Accuracy: {stacking_acc:.4f}\")\n"
      ],
      "metadata": {
        "colab": {
          "base_uri": "https://localhost:8080/"
        },
        "id": "prQdUa6G8cWM",
        "outputId": "96933e49-8a75-42c6-e29d-944c7e7ba970"
      },
      "execution_count": 5,
      "outputs": [
        {
          "output_type": "stream",
          "name": "stdout",
          "text": [
            "Decision Tree Accuracy: 1.0000\n",
            "SVM Accuracy: 1.0000\n",
            "Logistic Regression Accuracy: 1.0000\n",
            "Stacking Classifier Accuracy: 1.0000\n"
          ]
        }
      ]
    },
    {
      "cell_type": "markdown",
      "source": [
        "# 37. Train a Random Forest Classifier and print the top 5 most important features."
      ],
      "metadata": {
        "id": "EbUFYJKC80rO"
      }
    },
    {
      "cell_type": "code",
      "source": [
        "import numpy as np\n",
        "import pandas as pd\n",
        "from sklearn.ensemble import RandomForestClassifier\n",
        "from sklearn.datasets import load_iris\n",
        "from sklearn.model_selection import train_test_split\n",
        "\n",
        "# Load a dataset (Iris)\n",
        "data = load_iris()\n",
        "X, y = data.data, data.target\n",
        "feature_names = data.feature_names  # Feature labels\n",
        "\n",
        "# Split dataset into training (80%) and testing (20%) sets\n",
        "X_train, X_test, y_train, y_test = train_test_split(X, y, test_size=0.2, random_state=42)\n",
        "\n",
        "# Train a Random Forest Classifier\n",
        "rf_clf = RandomForestClassifier(n_estimators=100, random_state=42)\n",
        "rf_clf.fit(X_train, y_train)\n",
        "\n",
        "# Extract feature importance scores\n",
        "feature_importances = rf_clf.feature_importances_\n",
        "\n",
        "# Create a DataFrame for better visualization\n",
        "importance_df = pd.DataFrame({'Feature': feature_names, 'Importance': feature_importances})\n",
        "importance_df = importance_df.sort_values(by='Importance', ascending=False)\n",
        "\n",
        "# Print top 5 most important features\n",
        "print(\"Top 5 Most Important Features:\")\n",
        "print(importance_df.head(5))\n"
      ],
      "metadata": {
        "id": "j1N80lRT83W2"
      },
      "execution_count": null,
      "outputs": []
    },
    {
      "cell_type": "markdown",
      "source": [
        "# 38. Train a Bagging Classifier and evaluate performance using Precision, Recall, and F1-score."
      ],
      "metadata": {
        "id": "LUNNpGYF9xrg"
      }
    },
    {
      "cell_type": "code",
      "source": [
        "from sklearn.ensemble import BaggingClassifier\n",
        "from sklearn.tree import DecisionTreeClassifier\n",
        "from sklearn.datasets import load_iris\n",
        "from sklearn.model_selection import train_test_split\n",
        "from sklearn.metrics import precision_score, recall_score, f1_score\n",
        "\n",
        "# Load a dataset (Iris)\n",
        "data = load_iris()\n",
        "X, y = data.data, data.target\n",
        "\n",
        "# Split dataset into training (80%) and testing (20%) sets\n",
        "X_train, X_test, y_train, y_test = train_test_split(X, y, test_size=0.2, random_state=42)\n",
        "\n",
        "# Train a Bagging Classifier (with Decision Tree as base estimator)\n",
        "bagging_clf = BaggingClassifier(estimator=DecisionTreeClassifier(), n_estimators=50, random_state=42)\n",
        "bagging_clf.fit(X_train, y_train)\n",
        "\n",
        "# Predict on test data\n",
        "y_pred = bagging_clf.predict(X_test)\n",
        "\n",
        "# Compute Precision, Recall, and F1-score\n",
        "precision = precision_score(y_test, y_pred, average=\"weighted\")\n",
        "recall = recall_score(y_test, y_pred, average=\"weighted\")\n",
        "f1 = f1_score(y_test, y_pred, average=\"weighted\")\n",
        "\n",
        "# Print evaluation metrics\n",
        "print(f\"Precision: {precision:.4f}\")\n",
        "print(f\"Recall: {recall:.4f}\")\n",
        "print(f\"F1-score: {f1:.4f}\")\n"
      ],
      "metadata": {
        "colab": {
          "base_uri": "https://localhost:8080/"
        },
        "id": "VGWNW_0292ko",
        "outputId": "6a75d551-9402-430d-ff50-b4e173943b68"
      },
      "execution_count": 6,
      "outputs": [
        {
          "output_type": "stream",
          "name": "stdout",
          "text": [
            "Precision: 1.0000\n",
            "Recall: 1.0000\n",
            "F1-score: 1.0000\n"
          ]
        }
      ]
    },
    {
      "cell_type": "markdown",
      "source": [
        "# 39.  Train a Random Forest Classifier and analyze the effect of max_depth on accuracy."
      ],
      "metadata": {
        "id": "xlTU6zAA-Exv"
      }
    },
    {
      "cell_type": "code",
      "source": [
        "import numpy as np\n",
        "import matplotlib.pyplot as plt\n",
        "from sklearn.ensemble import RandomForestClassifier\n",
        "from sklearn.datasets import load_iris\n",
        "from sklearn.model_selection import train_test_split\n",
        "from sklearn.metrics import accuracy_score\n",
        "\n",
        "# Load a dataset (Iris)\n",
        "data = load_iris()\n",
        "X, y = data.data, data.target\n",
        "\n",
        "# Split dataset into training (80%) and testing (20%) sets\n",
        "X_train, X_test, y_train, y_test = train_test_split(X, y, test_size=0.2, random_state=42)\n",
        "\n",
        "# Vary max_depth from 1 to 10 and analyze accuracy\n",
        "max_depth_values = range(1, 11)\n",
        "accuracy_scores = []\n",
        "\n",
        "for depth in max_depth_values:\n",
        "    rf_clf = RandomForestClassifier(n_estimators=100, max_depth=depth, random_state=42)\n",
        "    rf_clf.fit(X_train, y_train)\n",
        "    y_pred = rf_clf.predict(X_test)\n",
        "    accuracy = accuracy_score(y_test, y_pred)\n",
        "    accuracy_scores.append(accuracy)\n",
        "\n",
        "# Plot the effect of max_depth on accuracy\n",
        "plt.figure(figsize=(8, 5))\n",
        "plt.plot(max_depth_values, accuracy_scores, marker='o', linestyle='-', color='b')\n",
        "plt.xlabel(\"Max Depth\")\n",
        "plt.ylabel(\"Accuracy\")\n",
        "plt.title(\"Effect of Max Depth on Accuracy (Random Forest)\")\n",
        "plt.xticks(max_depth_values)\n",
        "plt.grid()\n",
        "plt.show()\n"
      ],
      "metadata": {
        "colab": {
          "base_uri": "https://localhost:8080/",
          "height": 487
        },
        "id": "7lnkZP4g-IDn",
        "outputId": "a9132c6a-329b-4644-d6a7-4422a82ea6c3"
      },
      "execution_count": 7,
      "outputs": [
        {
          "output_type": "display_data",
          "data": {
            "text/plain": [
              "<Figure size 800x500 with 1 Axes>"
            ],
            "image/png": "[encoded data removed]"
          },
          "metadata": {}
        }
      ]
    },
    {
      "cell_type": "markdown",
      "source": [
        "# 40. Train a Bagging Regressor using different base estimators (DecisionTree and KNeighbors) and compare performance"
      ],
      "metadata": {
        "id": "n4aUIebc-XUu"
      }
    },
    {
      "cell_type": "code",
      "source": [
        "import numpy as np\n",
        "import matplotlib.pyplot as plt\n",
        "from sklearn.ensemble import BaggingRegressor\n",
        "from sklearn.tree import DecisionTreeRegressor\n",
        "from sklearn.neighbors import KNeighborsRegressor\n",
        "from sklearn.datasets import load_diabetes\n",
        "from sklearn.model_selection import train_test_split\n",
        "from sklearn.metrics import mean_squared_error, r2_score\n",
        "\n",
        "# Load a regression dataset (Diabetes dataset)\n",
        "data = load_diabetes()\n",
        "X, y = data.data, data.target\n",
        "\n",
        "# Split dataset into training (80%) and testing (20%) sets\n",
        "X_train, X_test, y_train, y_test = train_test_split(X, y, test_size=0.2, random_state=42)\n",
        "\n",
        "# Define base estimators\n",
        "dt_regressor = DecisionTreeRegressor(random_state=42)\n",
        "knn_regressor = KNeighborsRegressor()\n",
        "\n",
        "# Train Bagging Regressor with Decision Tree\n",
        "bagging_dt = BaggingRegressor(estimator=dt_regressor, n_estimators=50, random_state=42)\n",
        "bagging_dt.fit(X_train, y_train)\n",
        "\n",
        "# Train Bagging Regressor with KNN\n",
        "bagging_knn = BaggingRegressor(estimator=knn_regressor, n_estimators=50, random_state=42)\n",
        "bagging_knn.fit(X_train, y_train)\n",
        "\n",
        "# Predict on test data\n",
        "y_pred_dt = bagging_dt.predict(X_test)\n",
        "y_pred_knn = bagging_knn.predict(X_test)\n",
        "\n",
        "# Compute performance metrics\n",
        "mse_dt = mean_squared_error(y_test, y_pred_dt)\n",
        "r2_dt = r2_score(y_test, y_pred_dt)\n",
        "\n",
        "mse_knn = mean_squared_error(y_test, y_pred_knn)\n",
        "r2_knn = r2_score(y_test, y_pred_knn)\n",
        "\n",
        "# Print comparison\n",
        "print(f\"Bagging Regressor (Decision Tree) -> MSE: {mse_dt:.4f}, R²: {r2_dt:.4f}\")\n",
        "print(f\"Bagging Regressor (KNN) -> MSE: {mse_knn:.4f}, R²: {r2_knn:.4f}\")\n"
      ],
      "metadata": {
        "colab": {
          "base_uri": "https://localhost:8080/"
        },
        "id": "5B4r7zjX-byd",
        "outputId": "90f323e1-d1d3-4dd7-b9d3-ddce274bf808"
      },
      "execution_count": 8,
      "outputs": [
        {
          "output_type": "stream",
          "name": "stdout",
          "text": [
            "Bagging Regressor (Decision Tree) -> MSE: 3056.4946, R²: 0.4231\n",
            "Bagging Regressor (KNN) -> MSE: 2918.7795, R²: 0.4491\n"
          ]
        }
      ]
    },
    {
      "cell_type": "markdown",
      "source": [
        "# 41.  Train a Random Forest Classifier and evaluate its performance using ROC-AUC Score."
      ],
      "metadata": {
        "id": "gGCqzL9h-m1R"
      }
    },
    {
      "cell_type": "code",
      "source": [
        "import numpy as np\n",
        "from sklearn.ensemble import RandomForestClassifier\n",
        "from sklearn.datasets import load_iris\n",
        "from sklearn.model_selection import train_test_split\n",
        "from sklearn.metrics import roc_auc_score\n",
        "from sklearn.preprocessing import label_binarize\n",
        "\n",
        "# Load a dataset (Iris)\n",
        "data = load_iris()\n",
        "X, y = data.data, data.target\n",
        "n_classes = len(set(y))  # Number of unique classes\n",
        "\n",
        "# Binarize the output for multi-class ROC-AUC calculation\n",
        "y_binarized = label_binarize(y, classes=np.arange(n_classes))\n",
        "\n",
        "# Split dataset into training (80%) and testing (20%) sets\n",
        "X_train, X_test, y_train, y_test = train_test_split(X, y_binarized, test_size=0.2, random_state=42)\n",
        "\n",
        "# Train a Random Forest Classifier\n",
        "rf_clf = RandomForestClassifier(n_estimators=100, random_state=42)\n",
        "rf_clf.fit(X_train, y_train.argmax(axis=1))  # Convert binarized labels back to class labels\n",
        "\n",
        "# Predict probabilities for ROC-AUC calculation\n",
        "y_pred_prob = rf_clf.predict_proba(X_test)\n",
        "\n",
        "# Compute ROC-AUC Score using the One-vs-Rest (OvR) method\n",
        "roc_auc = roc_auc_score(y_test, y_pred_prob, average=\"weighted\", multi_class=\"ovr\")\n",
        "\n",
        "# Print ROC-AUC Score\n",
        "print(f\"Random Forest Classifier ROC-AUC Score: {roc_auc:.4f}\")\n"
      ],
      "metadata": {
        "colab": {
          "base_uri": "https://localhost:8080/"
        },
        "id": "i89xLUMX-_84",
        "outputId": "731924dc-d79b-4faf-cde5-6ea25649e494"
      },
      "execution_count": 10,
      "outputs": [
        {
          "output_type": "stream",
          "name": "stdout",
          "text": [
            "Random Forest Classifier ROC-AUC Score: 1.0000\n"
          ]
        }
      ]
    },
    {
      "cell_type": "markdown",
      "source": [
        "# 42. Train a Bagging Classifier and evaluate its performance using cross-validation."
      ],
      "metadata": {
        "id": "MtoBucMa_CdG"
      }
    },
    {
      "cell_type": "code",
      "source": [
        "import numpy as np\n",
        "from sklearn.ensemble import BaggingClassifier\n",
        "from sklearn.tree import DecisionTreeClassifier\n",
        "from sklearn.datasets import load_iris\n",
        "from sklearn.model_selection import cross_val_score\n",
        "\n",
        "# Load a dataset (Iris)\n",
        "data = load_iris()\n",
        "X, y = data.data, data.target\n",
        "\n",
        "# Define Bagging Classifier with a Decision Tree base estimator\n",
        "bagging_clf = BaggingClassifier(estimator=DecisionTreeClassifier(), n_estimators=50, random_state=42)\n",
        "\n",
        "# Perform 5-fold cross-validation\n",
        "cv_scores = cross_val_score(bagging_clf, X, y, cv=5, scoring='accuracy')\n",
        "\n",
        "# Print results\n",
        "print(f\"Cross-Validation Accuracy Scores: {cv_scores}\")\n",
        "print(f\"Mean Accuracy: {np.mean(cv_scores):.4f}\")\n"
      ],
      "metadata": {
        "colab": {
          "base_uri": "https://localhost:8080/"
        },
        "id": "S6nNmHqT_Yo4",
        "outputId": "44e77d9c-0563-4c9a-f102-5ca25f266479"
      },
      "execution_count": 12,
      "outputs": [
        {
          "output_type": "stream",
          "name": "stdout",
          "text": [
            "Cross-Validation Accuracy Scores: [0.96666667 0.96666667 0.93333333 0.96666667 1.        ]\n",
            "Mean Accuracy: 0.9667\n"
          ]
        }
      ]
    },
    {
      "cell_type": "markdown",
      "source": [
        "# 43. Train a Random Forest Classifier and plot the Precision-Recall curv."
      ],
      "metadata": {
        "id": "dNcqiVlu_bp5"
      }
    },
    {
      "cell_type": "code",
      "source": [
        "import numpy as np\n",
        "import matplotlib.pyplot as plt\n",
        "from sklearn.ensemble import RandomForestClassifier\n",
        "from sklearn.datasets import load_breast_cancer\n",
        "from sklearn.model_selection import train_test_split\n",
        "from sklearn.metrics import precision_recall_curve, auc\n",
        "\n",
        "# Load a binary classification dataset (Breast Cancer)\n",
        "data = load_breast_cancer()\n",
        "X, y = data.data, data.target\n",
        "\n",
        "# Split dataset into training (80%) and testing (20%) sets\n",
        "X_train, X_test, y_train, y_test = train_test_split(X, y, test_size=0.2, random_state=42)\n",
        "\n",
        "# Train a Random Forest Classifier\n",
        "rf_clf = RandomForestClassifier(n_estimators=100, random_state=42)\n",
        "rf_clf.fit(X_train, y_train)\n",
        "\n",
        "# Predict probabilities for the positive class\n",
        "y_scores = rf_clf.predict_proba(X_test)[:, 1]  # Get probabilities for class 1\n",
        "\n",
        "# Compute Precision-Recall curve values\n",
        "precision, recall, _ = precision_recall_curve(y_test, y_scores)\n",
        "\n",
        "# Compute the AUC (area under the Precision-Recall curve)\n",
        "pr_auc = auc(recall, precision)\n",
        "\n",
        "# Plot Precision-Recall Curve\n",
        "plt.figure(figsize=(8, 6))\n",
        "plt.plot(recall, precision, marker='.', label=f'Random Forest (AUC = {pr_auc:.2f})')\n",
        "plt.xlabel('Recall')\n",
        "plt.ylabel('Precision')\n",
        "plt.title('Precision-Recall Curve')\n",
        "plt.legend()\n",
        "plt.grid()\n",
        "plt.show()\n"
      ],
      "metadata": {
        "colab": {
          "base_uri": "https://localhost:8080/",
          "height": 564
        },
        "id": "RwfHZzT2_hYU",
        "outputId": "3dde29b0-40c5-4902-8b4f-cee30c1102c0"
      },
      "execution_count": 13,
      "outputs": [
        {
          "output_type": "display_data",
          "data": {
            "text/plain": [
              "<Figure size 800x600 with 1 Axes>"
            ],
            "image/png": "[encoded data removed]"
          },
          "metadata": {}
        }
      ]
    },
    {
      "cell_type": "markdown",
      "source": [
        "# 44. Train a Stacking Classifier with Random Forest and Logistic Regression and compare accuracy."
      ],
      "metadata": {
        "id": "j-3Sx9SI_ua0"
      }
    },
    {
      "cell_type": "code",
      "source": [
        "import numpy as np\n",
        "from sklearn.ensemble import StackingClassifier, RandomForestClassifier\n",
        "from sklearn.linear_model import LogisticRegression\n",
        "from sklearn.datasets import load_iris\n",
        "from sklearn.model_selection import train_test_split\n",
        "from sklearn.metrics import accuracy_score\n",
        "\n",
        "# Load a dataset (Iris)\n",
        "data = load_iris()\n",
        "X, y = data.data, data.target\n",
        "\n",
        "# Split dataset into training (80%) and testing (20%) sets\n",
        "X_train, X_test, y_train, y_test = train_test_split(X, y, test_size=0.2, random_state=42)\n",
        "\n",
        "# Define base models\n",
        "rf_clf = RandomForestClassifier(n_estimators=100, random_state=42)\n",
        "log_reg = LogisticRegression(max_iter=200)\n",
        "\n",
        "# Train base models separately\n",
        "rf_clf.fit(X_train, y_train)\n",
        "log_reg.fit(X_train, y_train)\n",
        "\n",
        "# Define a Stacking Classifier with Logistic Regression as the meta-classifier\n",
        "stacking_clf = StackingClassifier(estimators=[('rf', rf_clf), ('lr', log_reg)], final_estimator=LogisticRegression())\n",
        "\n",
        "# Train Stacking Classifier\n",
        "stacking_clf.fit(X_train, y_train)\n",
        "\n",
        "# Make predictions\n",
        "rf_pred = rf_clf.predict(X_test)\n",
        "log_reg_pred = log_reg.predict(X_test)\n",
        "stacking_pred = stacking_clf.predict(X_test)\n",
        "\n",
        "# Compute accuracy scores\n",
        "rf_acc = accuracy_score(y_test, rf_pred)\n",
        "log_reg_acc = accuracy_score(y_test, log_reg_pred)\n",
        "stacking_acc = accuracy_score(y_test, stacking_pred)\n",
        "\n",
        "# Print accuracy results\n",
        "print(f\"Random Forest Accuracy: {rf_acc:.4f}\")\n",
        "print(f\"Logistic Regression Accuracy: {log_reg_acc:.4f}\")\n",
        "print(f\"Stacking Classifier Accuracy: {stacking_acc:.4f}\")\n"
      ],
      "metadata": {
        "colab": {
          "base_uri": "https://localhost:8080/"
        },
        "id": "hLinbl3L_3QJ",
        "outputId": "ce96cf51-f57f-47c7-b9cc-3c32b18b8f09"
      },
      "execution_count": 14,
      "outputs": [
        {
          "output_type": "stream",
          "name": "stdout",
          "text": [
            "Random Forest Accuracy: 1.0000\n",
            "Logistic Regression Accuracy: 1.0000\n",
            "Stacking Classifier Accuracy: 1.0000\n"
          ]
        }
      ]
    },
    {
      "cell_type": "markdown",
      "source": [
        "# 45. Train a Bagging Regressor with different levels of bootstrap samples and compare performance."
      ],
      "metadata": {
        "id": "_RratLgwADJ8"
      }
    },
    {
      "cell_type": "code",
      "source": [
        "import numpy as np\n",
        "import matplotlib.pyplot as plt\n",
        "from sklearn.ensemble import BaggingRegressor\n",
        "from sklearn.tree import DecisionTreeRegressor\n",
        "from sklearn.datasets import fetch_california_housing\n",
        "from sklearn.model_selection import train_test_split\n",
        "from sklearn.metrics import mean_squared_error\n",
        "\n",
        "# Load a regression dataset (California Housing)\n",
        "data = fetch_california_housing()\n",
        "X, y = data.data, data.target\n",
        "\n",
        "# Split dataset into training (80%) and testing (20%) sets\n",
        "X_train, X_test, y_train, y_test = train_test_split(X, y, test_size=0.2, random_state=42)\n",
        "\n",
        "# Different bootstrap sample sizes\n",
        "bootstrap_samples = [0.5, 0.75, 1.0]\n",
        "\n",
        "# Store results\n",
        "mse_scores = {}\n",
        "\n",
        "# Train Bagging Regressors with different bootstrap sample sizes\n",
        "for sample_size in bootstrap_samples:\n",
        "    bagging_reg = BaggingRegressor(\n",
        "        estimator=DecisionTreeRegressor(),\n",
        "        n_estimators=50,\n",
        "        max_samples=sample_size,  # Adjusting bootstrap sample size\n",
        "        random_state=42\n",
        "    )\n",
        "\n",
        "    bagging_reg.fit(X_train, y_train)\n",
        "    y_pred = bagging_reg.predict(X_test)\n",
        "\n",
        "    mse = mean_squared_error(y_test, y_pred)\n",
        "    mse_scores[sample_size] = mse\n",
        "\n",
        "# Print results\n",
        "for sample_size, mse in mse_scores.items():\n",
        "    print(f\"Bootstrap Sample Size: {sample_size*100:.0f}% | MSE: {mse:.4f}\")\n",
        "\n",
        "# Plot results\n",
        "plt.figure(figsize=(8, 5))\n",
        "plt.plot([s*100 for s in bootstrap_samples], list(mse_scores.values()), marker='o', linestyle='--', color='b')\n",
        "plt.xlabel(\"Bootstrap Sample Size (%)\")\n",
        "plt.ylabel(\"Mean Squared Error (MSE)\")\n",
        "plt.title(\"Effect of Bootstrap Sample Size on Bagging Regressor Performance\")\n",
        "plt.grid()\n",
        "plt.show()\n"
      ],
      "metadata": {
        "colab": {
          "base_uri": "https://localhost:8080/",
          "height": 539
        },
        "id": "jhLG2IsDAKsS",
        "outputId": "202cf359-e997-4bf8-a2ca-62c8ba07c662"
      },
      "execution_count": 15,
      "outputs": [
        {
          "output_type": "stream",
          "name": "stdout",
          "text": [
            "Bootstrap Sample Size: 50% | MSE: 0.2664\n",
            "Bootstrap Sample Size: 75% | MSE: 0.2604\n",
            "Bootstrap Sample Size: 100% | MSE: 0.2573\n"
          ]
        },
        {
          "output_type": "display_data",
          "data": {
            "text/plain": [
              "<Figure size 800x500 with 1 Axes>"
            ],
            "image/png": "[encoded data removed]"
          },
          "metadata": {}
        }
      ]
    }
  ]
}