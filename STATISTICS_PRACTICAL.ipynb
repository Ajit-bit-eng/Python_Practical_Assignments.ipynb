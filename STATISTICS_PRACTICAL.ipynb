{
  "nbformat": 4,
  "nbformat_minor": 0,
  "metadata": {
    "colab": {
      "provenance": [],
      "authorship_tag": "ABX9TyPgGvyQ1IUEtWgxmqvAjYJv",
      "include_colab_link": true
    },
    "kernelspec": {
      "name": "python3",
      "display_name": "Python 3"
    },
    "language_info": {
      "name": "python"
    }
  },
  "cells": [
    {
      "cell_type": "markdown",
      "metadata": {
        "id": "view-in-github",
        "colab_type": "text"
      },
      "source": [
        "<a href=\"https://colab.research.google.com/github/Ajit-bit-eng/Python_Practical_Assignments.ipynb/blob/main/STATISTICS_PRACTICAL.ipynb\" target=\"_parent\"><img src=\"https://colab.research.google.com/assets/colab-badge.svg\" alt=\"Open In Colab\"/></a>"
      ]
    },
    {
      "cell_type": "markdown",
      "source": [
        "**STATISTICS PRACTICAL **\n",
        "\n"
      ],
      "metadata": {
        "id": "MAINl3OJhSCS"
      }
    },
    {
      "cell_type": "markdown",
      "source": [
        "8. Question: You have two sets of data representing the incomes of two different professions\n",
        "\n",
        "Profession A: [48, 52, 55, 60, 62]\n",
        "\n",
        "Profession B: [45, 50, 55, 52, 47]\n",
        "\n",
        "Perform an F-test to determine if the variances of the two professions'\n",
        "incomes are equal. What are your conclusions based on the F-test?\n",
        "\n",
        "Task: Use Python to calculate the F-statistic and p-value for the given data.\n",
        "\n",
        "Objective: Gain experience in performing F-tests and interpreting the results in terms of variance comparison."
      ],
      "metadata": {
        "id": "P9PNNASlc85k"
      }
    },
    {
      "cell_type": "markdown",
      "source": [
        "ANS.\n",
        "\n",
        "To perform an F-test to compare the variances of the two professions' incomes, we can follow these steps in Python:\n",
        "\n",
        "Calculate the variances of both datasets.\n",
        "\n",
        "Compute the F-statistic, which is the ratio of the larger variance to the smaller variance.\n",
        "\n",
        "Calculate the p-value based on the F-distribution.\n",
        "\n",
        "Let’s implement this in Python."
      ],
      "metadata": {
        "id": "Kkf1JhFvdsYp"
      }
    },
    {
      "cell_type": "code",
      "source": [
        "import numpy as np\n",
        "from scipy.stats import f\n",
        "\n",
        "# Given data\n",
        "profession_a = [48, 52, 55, 60, 62]\n",
        "profession_b = [45, 50, 55, 52, 47]\n",
        "\n",
        "# Step 1: Calculate the sample variances\n",
        "var_a = np.var(profession_a, ddof=1)  # variance of Profession A\n",
        "var_b = np.var(profession_b, ddof=1)  # variance of Profession B\n",
        "\n",
        "# Step 2: Calculate the F-statistic (larger variance / smaller variance)\n",
        "if var_a > var_b:\n",
        "    f_statistic = var_a / var_b\n",
        "    dfn, dfd = len(profession_a) - 1, len(profession_b) - 1  # degrees of freedom for A and B\n",
        "else:\n",
        "    f_statistic = var_b / var_a\n",
        "    dfn, dfd = len(profession_b) - 1, len(profession_a) - 1\n",
        "\n",
        "# Step 3: Calculate the p-value\n",
        "p_value = 2 * (1 - f.cdf(f_statistic, dfn, dfd))  # two-tailed p-value\n",
        "\n",
        "# Display the results\n",
        "print(\"F-statistic:\", f_statistic)\n",
        "print(\"p-value:\", p_value)\n"
      ],
      "metadata": {
        "colab": {
          "base_uri": "https://localhost:8080/"
        },
        "id": "J5b28GJFdz7t",
        "outputId": "74839e5a-894f-45de-e481-8bd96523fe93"
      },
      "execution_count": 1,
      "outputs": [
        {
          "output_type": "stream",
          "name": "stdout",
          "text": [
            "F-statistic: 2.089171974522293\n",
            "p-value: 0.49304859900533904\n"
          ]
        }
      ]
    },
    {
      "cell_type": "markdown",
      "source": [
        "The F-statistic for comparing the variances of the two professions' incomes is approximately 2.09, and the p-value is approximately 0.493.\n",
        "\n",
        "Interpretation:\n",
        "Since the p-value (0.493) is much greater than a typical significance level (e.g., 0.05), we fail to reject the null hypothesis that the variances of the two professions' incomes are equal. This suggests that there is no statistically significant difference in the income variances of the two professions based on this test."
      ],
      "metadata": {
        "id": "0HhuJiEyeiqz"
      }
    },
    {
      "cell_type": "markdown",
      "source": [
        "9. Question: Conduct a one-way ANOVA to test whether there are any statistically significant differences in\n",
        "average heights between three different regions with the following data:\n",
        "\n",
        "Region A: [160, 162, 165, 158, 164]\n",
        "Region B: [172, 175, 170, 168, 174]\n",
        "Region C: [180, 182, 179, 185, 183]\n",
        "\n",
        "Task: Write Python code to perform the one-way ANOVA and interpret the results.\n",
        "Objective: Learn how to perform one-way ANOVA using Python and interpret F-statistic and p-value"
      ],
      "metadata": {
        "id": "ODHQ99vqe6M7"
      }
    },
    {
      "cell_type": "markdown",
      "source": [
        "ANS."
      ],
      "metadata": {
        "id": "UCrlx9UXhAyb"
      }
    },
    {
      "cell_type": "code",
      "source": [
        "from scipy.stats import f_oneway\n",
        "\n",
        "# Given data for each region\n",
        "region_a = [160, 162, 165, 158, 164]\n",
        "region_b = [172, 175, 170, 168, 174]\n",
        "region_c = [180, 182, 179, 185, 183]\n",
        "\n",
        "# Perform one-way ANOVA\n",
        "f_statistic, p_value = f_oneway(region_a, region_b, region_c)\n",
        "\n",
        "f_statistic, p_value\n"
      ],
      "metadata": {
        "colab": {
          "base_uri": "https://localhost:8080/"
        },
        "id": "ebbvwFubfu95",
        "outputId": "8c3d96e5-8973-4ba6-e5cb-65799a734dfa"
      },
      "execution_count": 2,
      "outputs": [
        {
          "output_type": "execute_result",
          "data": {
            "text/plain": [
              "(67.87330316742101, 2.870664187937026e-07)"
            ]
          },
          "metadata": {},
          "execution_count": 2
        }
      ]
    },
    {
      "cell_type": "markdown",
      "source": [
        "Interpretation:\n",
        "\n",
        "Since the p-value is much smaller than a typical significance level (e.g., 0.05), we reject the null hypothesis. This indicates that there are statistically significant differences in average heights between the three regions."
      ],
      "metadata": {
        "id": "5At5mBsbg-n4"
      }
    }
  ]
}