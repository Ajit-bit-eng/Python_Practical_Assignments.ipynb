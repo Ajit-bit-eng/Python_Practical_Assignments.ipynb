{
  "nbformat": 4,
  "nbformat_minor": 0,
  "metadata": {
    "colab": {
      "provenance": [],
      "authorship_tag": "ABX9TyOffuUpPvpQc7015ltWH8nn",
      "include_colab_link": true
    },
    "kernelspec": {
      "name": "python3",
      "display_name": "Python 3"
    },
    "language_info": {
      "name": "python"
    }
  },
  "cells": [
    {
      "cell_type": "markdown",
      "metadata": {
        "id": "view-in-github",
        "colab_type": "text"
      },
      "source": [
        "<a href=\"https://colab.research.google.com/github/Ajit-bit-eng/Python_Practical_Assignments.ipynb/blob/main/Logistics_Regression_Assignment.ipynb\" target=\"_parent\"><img src=\"https://colab.research.google.com/assets/colab-badge.svg\" alt=\"Open In Colab\"/></a>"
      ]
    },
    {
      "cell_type": "markdown",
      "source": [
        "# **Logistic** **Regression** **Theory Questions**"
      ],
      "metadata": {
        "id": "dF3lKqjh54jS"
      }
    },
    {
      "cell_type": "markdown",
      "source": [
        "# 1. What is Logistic Regression, and how does it differ from Linear Regression.\n"
      ],
      "metadata": {
        "id": "kOHDglad6UGO"
      }
    },
    {
      "cell_type": "markdown",
      "source": [
        "Ans.\n",
        "\n",
        "Logistic Regression is a statistical method used for classification problems, primarily when the target variable is binary (e.g., Yes/No, 0/1). It estimates the probability that a given input belongs to a particular class using the sigmoid function to map outputs between 0 and 1.\n",
        "\n",
        "Logistic Regression vs Linear Regression\n",
        "\n",
        "Logistic Regression :\n",
        "\n",
        "Used for classification problems (e.g., Yes/No, Spam/Not Spam).\n",
        "\n",
        "Predicts probability values between 0 and 1 using the sigmoid function.\n",
        "\n",
        "Decision boundary: If probability > 0.5 → Class 1, else Class 0.\n",
        "\n",
        "Commonly used for binary classification, but can be extended to multiple\n",
        "\n",
        "classes (multinomial logistic regression).\n",
        "\n",
        "Uses Log Loss (Cross-Entropy) as the loss function.\n",
        "\n",
        "Linear Regression :\n",
        "\n",
        "Used for regression problems (predicting continuous values like price, temperature, sales).\n",
        "\n",
        "Fits a straight line equation: y=mx+b.\n",
        "\n",
        "Output can be any real number (not limited to 0 or 1).\n",
        "\n",
        "Uses Mean Squared Error (MSE) as the loss function."
      ],
      "metadata": {
        "id": "0nnBnXOe6c7A"
      }
    },
    {
      "cell_type": "markdown",
      "source": [
        "# 2. What is the mathematical equation of Logistic Regression."
      ],
      "metadata": {
        "id": "hC11m-pK8eUT"
      }
    },
    {
      "cell_type": "markdown",
      "source": [
        "Ans.\n",
        "\n",
        "# **Mathematical Equation of Logistic Regression**\n",
        "\n",
        "Logistic Regression predicts the probability that a given input **X** belongs to a particular class **(Y = 1 or Y = 0)**.\n",
        "\n",
        "The equation is:  \n",
        "\n",
        "\\[\n",
        "P(Y=1 | X) = \\frac{1}{1 + e^{-(wX + b)}}\n",
        "\\]\n",
        "\n",
        "Where:  \n",
        "- \\( P(Y=1 | X) \\) → Probability of class **1** given input **X**  \n",
        "- \\( w \\) → Weight (coefficient)  \n",
        "- \\( X \\) → Input feature(s)  \n",
        "- \\( b \\) → Bias (intercept)  \n",
        "- \\( e \\) → Euler’s number (~2.718)  \n",
        "- The function used is the **sigmoid function**:  \n",
        "\n",
        "\\[\n",
        "\\sigma(z) = \\frac{1}{1 + e^{-z}}\n",
        "\\]\n",
        "\n",
        "where \\( z = wX + b \\).\n",
        "\n",
        "The decision rule for classification:  \n",
        "- If \\( P(Y=1 | X) > 0.5 \\), predict **Class 1**  \n",
        "- Otherwise, predict **Class 0**  \n",
        "\n",
        "This equation helps transform linear regression output into a probability value between **0 and 1**."
      ],
      "metadata": {
        "id": "X5NP4M1R8sXQ"
      }
    },
    {
      "cell_type": "markdown",
      "source": [
        "# 3. Why do we use the Sigmoid function in Logistic Regression."
      ],
      "metadata": {
        "id": "mq_e7JZe9FvL"
      }
    },
    {
      "cell_type": "markdown",
      "source": [
        "Ans.  \n",
        "\n",
        "In **Logistic Regression**, we use the **Sigmoid function** because it converts any input into a **probability value (0 to 1)**, making it ideal for classification problems.  \n",
        "\n",
        "## **1. Sigmoid Function Equation**  \n",
        "\\[\n",
        "\\sigma(z) = \\frac{1}{1 + e^{-z}}\n",
        "\\]  \n",
        "where \\( z = wX + b \\).  \n",
        "\n",
        "## **2. Why is it Used?**  \n",
        "\n",
        "**Maps Any Value to a Probability**  \n",
        "- Ensures output is always between **0 and 1** (interpretable as probability).  \n",
        "\n",
        "**Introduces Non-Linearity**  \n",
        "- Helps classify data that isn't linearly separable.  \n",
        "\n",
        "**Smooth Decision Boundary**  \n",
        "- If \\( P(Y=1 | X) > 0.5 \\), predict **Class 1**, otherwise **Class 0**.  \n",
        "\n",
        "**Differentiable**  \n",
        "- Allows the use of **Gradient Descent** for optimization.  \n",
        "\n",
        "## **3. Visualization of Sigmoid Function**  \n",
        "The Sigmoid function has an **S-shaped curve**, making it ideal for classification.  \n",
        "\n",
        "\\[\n",
        "\\begin{array}{c|c}\n",
        "z & \\sigma(z) \\\\\n",
        "\\hline\n",
        "- \\infty & 0 \\\\\n",
        "0 & 0.5 \\\\\n",
        "+ \\infty & 1 \\\\\n",
        "\\end{array}\n",
        "\\]  \n",
        "\n",
        "Thus, the **Sigmoid function** is essential for converting raw model outputs into meaningful **probabilities** for classification tasks."
      ],
      "metadata": {
        "id": "brwfaWzN9KHG"
      }
    },
    {
      "cell_type": "markdown",
      "source": [
        "# 4. What is the cost function of Logistic Regression."
      ],
      "metadata": {
        "id": "nM4aVPJ79rUN"
      }
    },
    {
      "cell_type": "markdown",
      "source": [
        "Ans.\n",
        "\n",
        "# **Cost Function of Logistic Regression**  \n",
        "\n",
        "In **Logistic Regression**, we use the **Log Loss (Cross-Entropy Loss)** as the cost function instead of Mean Squared Error (MSE).  \n",
        "\n",
        "## **1. Cost Function Equation**  \n",
        "\\[\n",
        "J(w, b) = - \\frac{1}{m} \\sum_{i=1}^{m} \\left[ y^{(i)} \\log(h^{(i)}) + (1 - y^{(i)}) \\log(1 - h^{(i)}) \\right]\n",
        "\\]  \n",
        "\n",
        "where:  \n",
        "- \\( m \\) → Number of training examples  \n",
        "- \\( y^{(i)} \\) → Actual class label (0 or 1)  \n",
        "- \\( h^{(i)} \\) → Predicted probability from the sigmoid function  \n",
        "- \\( J(w, b) \\) → Cost function to minimize  \n",
        "\n",
        "**2. Why Not Use Mean Squared Error (MSE)?**  \n",
        "- MSE leads to **non-convex loss** in logistic regression, making optimization difficult.  \n",
        "- **Log Loss** is convex, ensuring that **Gradient Descent** converges properly.  \n",
        "\n",
        "**3. Intuition of Log Loss**  \n",
        "- If the prediction is **correct** (closer to actual value), the loss is **small**.  \n",
        "- If the prediction is **wrong**, the loss is **large**.  \n",
        "- Encourages confident correct predictions (probabilities near 0 or 1).  \n",
        "\n",
        "Thus, the **Log Loss function** ensures that the model improves by minimizing incorrect classifications."
      ],
      "metadata": {
        "id": "a8bF28yz9yNr"
      }
    },
    {
      "cell_type": "markdown",
      "source": [
        "# 5. What is Regularization in Logistic Regression? Why is it needed."
      ],
      "metadata": {
        "id": "c0CJGTO4-xz5"
      }
    },
    {
      "cell_type": "markdown",
      "source": [
        "Ans.\n",
        "  \n",
        "\n",
        "## **1. What is Regularization?**  \n",
        "Regularization is a technique used to **prevent overfitting** by adding a penalty term to the cost function. It discourages overly complex models that fit noise in the training data.  \n",
        "\n",
        "In **Logistic Regression**, the most common types of regularization are:  \n",
        "- **L1 Regularization (Lasso)**\n",
        "- **L2 Regularization (Ridge)**  \n",
        "\n",
        "## **2. Regularized Cost Function**  \n",
        "\n",
        "The regularized cost function for **L2 (Ridge) Regularization** is:  \n",
        "\n",
        "\\[\n",
        "J(w, b) = - \\frac{1}{m} \\sum_{i=1}^{m} \\left[ y^{(i)} \\log(h^{(i)}) + (1 - y^{(i)}) \\log(1 - h^{(i)}) \\right] + \\lambda \\sum_{j=1}^{n} w_j^2\n",
        "\\]\n",
        "\n",
        "where:  \n",
        "- \\( \\lambda \\) → Regularization parameter (controls penalty strength)  \n",
        "- \\( \\sum w_j^2 \\) → Sum of squared weights (for L2)  \n",
        "\n",
        "For **L1 (Lasso) Regularization**, the penalty term is:  \n",
        "\n",
        "\\[\n",
        "\\lambda \\sum_{j=1}^{n} |w_j|\n",
        "\\]\n",
        "\n",
        "## **3. Why is Regularization Needed?**  \n",
        "**Prevents Overfitting**: Helps the model generalize better to unseen data.  \n",
        "**Controls Model Complexity**: Reduces large weights, making the model simpler.  \n",
        "**Improves Stability**: Avoids high variance in predictions.  \n",
        "**Feature Selection (L1 Regularization)**: Shrinks some coefficients to **zero**, automatically selecting important features.  \n",
        "\n",
        "## **4. Choosing the Right Regularization**  \n",
        "- **L1 (Lasso)**: Used when we want **feature selection** (eliminates irrelevant features).  \n",
        "- **L2 (Ridge)**: Used when we want **small, non-zero weights** for all features.  \n",
        "- **ElasticNet**: A combination of both L1 and L2.  \n",
        "\n",
        "Thus, **regularization is crucial** in logistic regression to improve model performance and generalization."
      ],
      "metadata": {
        "id": "k88hsnfj-zjq"
      }
    },
    {
      "cell_type": "markdown",
      "source": [
        "# 6.  Explain the difference between Lasso, Ridge, and Elastic Net regression.\n"
      ],
      "metadata": {
        "id": "rqPJxE9L_O_I"
      }
    },
    {
      "cell_type": "markdown",
      "source": [
        "Ans.\n",
        "\n",
        "# **Difference Between Lasso, Ridge, and Elastic Net Regression**  \n",
        "\n",
        "Regularization techniques help prevent **overfitting** in regression models by adding a penalty term to the cost function. The three common types are:  \n",
        "\n",
        "- **Lasso Regression (L1 Regularization)**  \n",
        "- **Ridge Regression (L2 Regularization)**  \n",
        "- **Elastic Net Regression (Combination of L1 & L2)**  \n",
        "\n",
        "## **1. Ridge Regression (L2 Regularization)**  \n",
        "Ridge regression adds a **penalty on the sum of squared coefficients** to reduce model complexity.  \n",
        "\n",
        "### **Cost Function with L2 Regularization:**  \n",
        "\\[\n",
        "J(w, b) = \\text{MSE} + \\lambda \\sum_{j=1}^{n} w_j^2\n",
        "\\]  \n",
        "\n",
        "### **Key Features:**  \n",
        "Shrinks coefficients but **never reduces them to zero**.  \n",
        "Works well when **all features are important**.  \n",
        "Helps prevent overfitting by reducing large weights.  \n",
        "\n",
        "---\n",
        "\n",
        "## **2. Lasso Regression (L1 Regularization)**  \n",
        "Lasso regression adds a **penalty on the absolute values of coefficients**, which leads to feature selection.  \n",
        "\n",
        "### **Cost Function with L1 Regularization:**  \n",
        "\\[\n",
        "J(w, b) = \\text{MSE} + \\lambda \\sum_{j=1}^{n} |w_j|\n",
        "\\]  \n",
        "\n",
        "### **Key Features:**  \n",
        "Can **reduce some coefficients to exactly zero**, performing **automatic feature selection**.  \n",
        "Works well when **only a few features are important**.  \n",
        "Helps remove irrelevant features, making the model simpler.  \n",
        "\n",
        "---\n",
        "\n",
        "## **3. Elastic Net Regression (L1 + L2 Regularization)**  \n",
        "Elastic Net is a **combination of Ridge and Lasso**, balancing their advantages.  \n",
        "\n",
        "### **Cost Function with L1 + L2 Regularization:**  \n",
        "\\[\n",
        "J(w, b) = \\text{MSE} + \\lambda_1 \\sum_{j=1}^{n} |w_j| + \\lambda_2 \\sum_{j=1}^{n} w_j^2\n",
        "\\]  \n",
        "\n",
        "### **Key Features:**  \n",
        "Useful when there are **highly correlated features**.  \n",
        "Combines **feature selection (L1) with coefficient shrinkage (L2)**.  \n",
        "More flexible than Lasso or Ridge alone.  \n",
        "\n",
        "---\n",
        "\n",
        "## **4. Key Differences**  \n",
        "\n",
        "| Feature | Ridge Regression (L2) | Lasso Regression (L1) | Elastic Net (L1 + L2) |\n",
        "|---------|-----------------|-----------------|------------------|\n",
        "| **Penalty Term** | \\( \\lambda \\sum w_j^2 \\) | \\( \\lambda \\sum |w_j| \\) | \\( \\lambda_1 \\sum |w_j| + \\lambda_2 \\sum w_j^2 \\) |\n",
        "| **Effect on Coefficients** | Shrinks but **does not make zero** | Can make some **zero (feature selection)** | Shrinks and can make some zero |\n",
        "| **Feature Selection** | No | Yes | Yes (but controlled) |\n",
        "| **Best Used When** | All features are important | Some features are irrelevant | Features are correlated |\n",
        "\n",
        "---\n",
        "\n",
        "## **5. Choosing the Right Regularization**\n",
        "Use Ridge when you want to keep all features but reduce their impact.  \n",
        "Use Lasso when you want to remove irrelevant features.  \n",
        "Use Elastic Net when you need both feature selection and coefficient shrinkage.  \n",
        "\n",
        "Elastic Net is a more generalized version, balancing the strengths of both Lasso and Ridge.  \n"
      ],
      "metadata": {
        "id": "8mKQ8_po_TK4"
      }
    },
    {
      "cell_type": "markdown",
      "source": [
        "# 7. When should we use Elastic Net instead of Lasso or Ridge."
      ],
      "metadata": {
        "id": "wQehtV3rIKGQ"
      }
    },
    {
      "cell_type": "markdown",
      "source": [
        "Ans.\n",
        "\n",
        "# **When to Use Elastic Net Instead of Lasso or Ridge**  \n",
        "\n",
        "Elastic Net combines the strengths of **Lasso (L1 Regularization)** and **Ridge (L2 Regularization)**. It is particularly useful in the following scenarios:  \n",
        "\n",
        "## **1. When Features Are Highly Correlated**  \n",
        "- Ridge regression can handle correlated features, but Lasso may randomly select one feature and ignore the others.  \n",
        "- Elastic Net **balances this** by keeping a mix of important correlated features.  \n",
        "\n",
        "## **2. When There Are Many Features (High-Dimensional Data)**  \n",
        "- Lasso tends to select a small number of features by setting others to zero, which might **remove important correlated variables**.  \n",
        "- Elastic Net prevents excessive feature elimination while still performing feature selection.  \n",
        "\n",
        "## **3. When You Need Both Shrinkage and Feature Selection**  \n",
        "- Ridge **shrinks** coefficients but does not remove any features.  \n",
        "- Lasso **removes** some features entirely but may be unstable when features are correlated.  \n",
        "- Elastic Net **shrinks some coefficients and removes others**, making it more flexible.  \n",
        "\n",
        "## **4. When Lasso Performs Poorly Due to Multicollinearity**  \n",
        "- If Lasso struggles with selecting features due to **multicollinearity**, Elastic Net provides a more stable selection process.  \n",
        "\n",
        "## **Conclusion**  \n",
        "Use **Elastic Net** when:  \n",
        "- You have **many correlated features**.  \n",
        "- You need a model that **selects features but does not eliminate too many**.  \n",
        "- Lasso is too aggressive in feature selection, and Ridge is too mild.  \n",
        "\n",
        "Elastic Net is a balanced approach that **improves stability and predictive performance** in real-world datasets.  \n"
      ],
      "metadata": {
        "id": "PDrFyEt5IUzY"
      }
    },
    {
      "cell_type": "markdown",
      "source": [
        "# 8. What is the impact of the regularization parameter (λ) in Logistic Regression."
      ],
      "metadata": {
        "id": "YQATp6tyIs11"
      }
    },
    {
      "cell_type": "markdown",
      "source": [
        "Ans.\n",
        "\n",
        "# **Impact of the Regularization Parameter (λ) in Logistic Regression**  \n",
        "\n",
        "The **regularization parameter (λ)** in Logistic Regression controls the balance between **model complexity** and **overfitting** by penalizing large coefficients.  \n",
        "\n",
        "## **1. Effect of λ on Model Complexity**  \n",
        "- **Large λ (Strong Regularization):**  \n",
        "  - Shrinks coefficient values towards zero.  \n",
        "  - Reduces overfitting and improves generalization.  \n",
        "  - Can lead to underfitting if too high.  \n",
        "\n",
        "- **Small λ (Weak Regularization):**  \n",
        "  - Allows coefficients to take larger values.  \n",
        "  - Fits the training data better but increases the risk of overfitting.  \n",
        "\n",
        "## **2. Impact on Model Performance**  \n",
        "- **If λ is too small:**  \n",
        "  - Model becomes more flexible but may overfit.  \n",
        "- **If λ is too large:**  \n",
        "  - Model becomes too simple and may underfit.  \n",
        "- **Optimal λ:**  \n",
        "  - Chosen using techniques like **cross-validation** to balance bias and variance.  \n",
        "\n",
        "## **3. Effect on Different Regularization Types**  \n",
        "- **L1 Regularization (Lasso in Logistic Regression):**  \n",
        "  - Encourages sparsity by setting some coefficients to zero.  \n",
        "  - Useful for feature selection.  \n",
        "\n",
        "- **L2 Regularization (Ridge in Logistic Regression):**  \n",
        "  - Shrinks coefficients but does not set them to zero.  \n",
        "  - Helps when features are correlated.  \n",
        "\n",
        "- **Elastic Net Regularization (Combination of L1 & L2):**  \n",
        "  - Balances feature selection (L1) and coefficient shrinkage (L2).  \n",
        "  - Suitable when features are correlated and some should be eliminated.  \n",
        "\n",
        "## **Conclusion**  \n",
        "The **regularization parameter (λ) controls the trade-off between bias and variance**. Choosing the right value is crucial for achieving a well-generalized model.  "
      ],
      "metadata": {
        "id": "PkTWAZ1qIybi"
      }
    },
    {
      "cell_type": "markdown",
      "source": [
        "# 9. What are the key assumptions of Logistic Regression."
      ],
      "metadata": {
        "id": "dPGlFaTKJDPi"
      }
    },
    {
      "cell_type": "markdown",
      "source": [
        "Ans.\n",
        "\n",
        "# **Key Assumptions of Logistic Regression**  \n",
        "\n",
        "Logistic Regression is a widely used classification algorithm. While it does not require strict assumptions like Linear Regression, it still has some important conditions for accurate performance.  \n",
        "\n",
        "## **1. The Dependent Variable is Binary or Multiclass**  \n",
        "- Logistic Regression assumes the target variable is **binary (0 or 1)** or **multiclass** in the case of multinomial logistic regression.  \n",
        "- Example: Predicting **yes/no**, **spam/not spam**, or **disease/no disease**.  \n",
        "\n",
        "## **2. Independent Variables Are Linearly Related to the Log-Odds**  \n",
        "- Unlike Linear Regression, Logistic Regression models the **log-odds** (logit transformation) of the dependent variable as a **linear function** of the independent variables.  \n",
        "- The equation follows:  \n",
        "  \\[\n",
        "  \\log \\left( \\frac{P(Y=1)}{1 - P(Y=1)} \\right) = \\beta_0 + \\beta_1X_1 + \\beta_2X_2 + ... + \\beta_nX_n\n",
        "  \\]  \n",
        "- This means that while the **features themselves do not need to be linear**, their **relationship with log-odds must be linear**.  \n",
        "\n",
        "## **3. No Perfect Multicollinearity**  \n",
        "- The model assumes that independent variables are **not highly correlated** with each other.  \n",
        "- High correlation (multicollinearity) can cause unstable estimates and unreliable predictions.  \n",
        "- Solution: **Variance Inflation Factor (VIF)** or **removing correlated features**.  \n",
        "\n",
        "## **4. Independent Observations (No Autocorrelation)**  \n",
        "- The observations should be **independent** of each other.  \n",
        "- Logistic Regression does not perform well with **time-series data** or datasets with **sequential dependencies**.  \n",
        "- Solution: If dealing with time-dependent data, consider using **Time-Series models** instead.  \n",
        "\n",
        "## **5. Large Sample Size**  \n",
        "- Logistic Regression requires a **sufficiently large dataset** to make reliable predictions.  \n",
        "- If the dataset is too small, the model may not generalize well.  \n",
        "\n",
        "## **6. Absence of Extreme Outliers**  \n",
        "- Outliers can disproportionately influence Logistic Regression coefficients.  \n",
        "- Solution: Use techniques like **box plots** or **Z-scores** to detect and handle outliers.  \n",
        "\n",
        "## **Conclusion**  \n",
        "Logistic Regression is a flexible model, but it performs best when its key assumptions are met. Ensuring **independent variables**, **linear log-odds relationships**, and **no extreme multicollinearity** improves model reliability.  \n"
      ],
      "metadata": {
        "id": "ozvYHS9zJJ4w"
      }
    },
    {
      "cell_type": "markdown",
      "source": [
        "# 10. What are some alternatives to Logistic Regression for classification tasks."
      ],
      "metadata": {
        "id": "gKEi4nEUJbPe"
      }
    },
    {
      "cell_type": "markdown",
      "source": [
        "Ans.\n",
        "\n",
        "# **Alternatives to Logistic Regression for Classification Tasks**  \n",
        "\n",
        "While Logistic Regression is a popular classification algorithm, other models may perform better depending on the dataset. Some alternatives include:  \n",
        "\n",
        "## **1. Decision Trees**  \n",
        "- Creates a tree-like model based on feature splits.  \n",
        "- Handles both **linear and non-linear** relationships.  \n",
        "- Can suffer from overfitting but is interpretable.  \n",
        "\n",
        "## **2. Random Forest**  \n",
        "- An ensemble of multiple Decision Trees.  \n",
        "- Reduces overfitting by averaging multiple models.  \n",
        "- Performs well on complex datasets but can be slower.  \n",
        "\n",
        "## **3. Support Vector Machines (SVM)**  \n",
        "- Finds the **optimal hyperplane** that separates classes.  \n",
        "- Works well in **high-dimensional spaces**.  \n",
        "- Kernel trick allows handling **non-linear relationships**.  \n",
        "\n",
        "## **4. k-Nearest Neighbors (k-NN)**  \n",
        "- Classifies based on the **majority class of nearest neighbors**.  \n",
        "- Simple and effective for small datasets.  \n",
        "- Computationally expensive for large datasets.  \n",
        "\n",
        "## **5. Naïve Bayes**  \n",
        "- Based on **Bayes’ theorem**, assumes feature independence.  \n",
        "- Works well for **text classification and spam detection**.  \n",
        "- Fast and efficient, but assumptions may not always hold.  \n",
        "\n",
        "## **6. Gradient Boosting (XGBoost, LightGBM, CatBoost)**  \n",
        "- Ensemble learning method that improves weak classifiers iteratively.  \n",
        "- **XGBoost**: Highly efficient and used in Kaggle competitions.  \n",
        "- **LightGBM**: Faster on large datasets with many features.  \n",
        "- **CatBoost**: Handles categorical data efficiently.  \n",
        "\n",
        "## **7. Neural Networks (Deep Learning)**  \n",
        "- Works well with **large and complex datasets**.  \n",
        "- Can model highly **non-linear relationships**.  \n",
        "- Requires significant computing power and tuning.  \n",
        "\n",
        "## **Choosing the Right Algorithm**  \n",
        "| **Algorithm** | **Best For** |\n",
        "|--------------|-------------|\n",
        "| Logistic Regression | Simple, interpretable models |\n",
        "| Decision Trees | Interpretable but may overfit |\n",
        "| Random Forest | Reduces overfitting, good for tabular data |\n",
        "| SVM | Works well in high dimensions |\n",
        "| k-NN | Small datasets, simple implementation |\n",
        "| Naïve Bayes | Text classification, spam filtering |\n",
        "| Gradient Boosting | High accuracy, large datasets |\n",
        "| Neural Networks | Complex patterns, deep learning tasks |\n",
        "\n",
        "Each algorithm has its own strengths, and the best choice depends on factors like **dataset size, complexity, and interpretability needs**.  \n"
      ],
      "metadata": {
        "id": "hE8aZkLOJhUW"
      }
    },
    {
      "cell_type": "markdown",
      "source": [
        "# 11. What are Classification Evaluation Metrics."
      ],
      "metadata": {
        "id": "cXVlmPdLJ5Kv"
      }
    },
    {
      "cell_type": "markdown",
      "source": [
        "Ans.\n",
        "\n",
        "# **Classification Evaluation Metrics**  \n",
        "\n",
        "When evaluating a classification model, we use various metrics to measure its **accuracy, precision, recall, and overall performance**. Below are the key evaluation metrics:  \n",
        "\n",
        "## **1. Accuracy**  \n",
        "- Measures the percentage of correctly classified instances.\n",
        "\n",
        "- Formula:\n",
        "\n",
        "  $$\\[\n",
        "  \\text{Accuracy} = \\frac{\\text{TP} + \\text{TN}}{\\text{TP} + \\text{TN} + \\text{FP} + \\text{FN}}\n",
        "  \\]$$\n",
        "\n",
        "- Works well for balanced datasets but **misleading for imbalanced data**.  \n",
        "\n",
        "## **2. Precision (Positive Predictive Value)**  \n",
        "- Measures how many predicted positives are actually correct.  \n",
        "- Formula:\n",
        "\n",
        "  $$\\[\n",
        "  \\text{Precision} = \\frac{\\text{TP}}{\\text{TP} + \\text{FP}}\n",
        "  \\]$$\n",
        "\n",
        "- High precision means **fewer false positives**.  \n",
        "- Important in cases like **spam detection**, where false positives are costly.  \n",
        "\n",
        "## **3. Recall (Sensitivity or True Positive Rate)**  \n",
        "- Measures how many actual positives were correctly predicted.  \n",
        "- Formula:\n",
        "\n",
        "  $$\\[\n",
        "  \\text{Recall} = \\frac{\\text{TP}}{\\text{TP} + \\text{FN}}\n",
        "  \\]$$\n",
        "\n",
        "- High recall means **fewer false negatives**.  \n",
        "- Important in medical diagnosis where missing a disease is critical.  \n",
        "\n",
        "## **4. F1-Score (Harmonic Mean of Precision & Recall)**  \n",
        "- Balances precision and recall, useful for imbalanced datasets.  \n",
        "- Formula:  \n",
        "  \n",
        "  $$\\[\n",
        "  \\text{F1-Score} = 2 \\times \\frac{\\text{Precision} \\times \\text{Recall}}{\\text{Precision} + \\text{Recall}}\n",
        "  \\]$$\n",
        "\n",
        "- High F1-score indicates a good balance between precision and recall.  \n",
        "\n",
        "## **5. ROC Curve (Receiver Operating Characteristic Curve)**  \n",
        "\n",
        "- Plots **True Positive Rate (Recall) vs. False Positive Rate (FPR)**.  \n",
        "- Helps visualize how well a classifier separates classes.  \n",
        "\n",
        "## **6. AUC (Area Under the Curve)**  \n",
        "\n",
        "- Measures the area under the **ROC curve**.  \n",
        "- **AUC = 1** means perfect classification, **AUC = 0.5** means random\n",
        "guessing.  \n",
        "\n",
        "## **7. Log Loss (Logarithmic Loss)**  \n",
        "- Measures the uncertainty of predictions.  \n",
        "- Formula:  \n",
        "  \n",
        "  $$\\[\n",
        "  \\text{Log Loss} = - \\frac{1}{N} \\sum_{i=1}^{N} [y_i \\log(p_i) + (1 - y_i) \\log(1 - p_i)]\n",
        "  \\]$$  \n",
        "-\n",
        "Lower Log Loss indicates **better probabilistic predictions**.  \n",
        "\n",
        "## **8. Confusion Matrix**  \n",
        "- A table showing **True Positives (TP), False Positives (FP), True Negatives (TN), and False Negatives (FN)**.  \n",
        "- Helps visualize classification errors.  \n",
        "\n",
        "---\n",
        "\n",
        "## **Choosing the Right Metric**  \n",
        "| **Metric** | **Use Case** |\n",
        "|-----------|-------------|\n",
        "| **Accuracy** | Works well for balanced datasets |\n",
        "| **Precision** | When **false positives** are costly (spam detection, fraud detection) |\n",
        "| **Recall** | When **false negatives** are costly (medical diagnosis, safety systems) |\n",
        "| **F1-Score** | When balancing **precision and recall** is important |\n",
        "| **AUC-ROC** | Measures overall classification performance |\n",
        "| **Log Loss** | Used for **probabilistic models** |\n",
        "\n",
        "Choosing the right metric depends on the **problem type, data imbalance, and business needs**.  \n"
      ],
      "metadata": {
        "id": "kIPN_-2TJ-W5"
      }
    },
    {
      "cell_type": "markdown",
      "source": [
        "# 12.  How does class imbalance affect Logistic Regression."
      ],
      "metadata": {
        "id": "0lcyJLd1Mijm"
      }
    },
    {
      "cell_type": "markdown",
      "source": [
        "Ans.\n",
        "\n",
        "Class imbalance occurs when one class significantly outnumbers the other in a dataset. This can negatively impact Logistic Regression in several ways.\n",
        "\n",
        "## **1. Biased Model Predictions**  \n",
        "- Logistic Regression **assumes equal class distribution**, so it tends to favor the majority class.  \n",
        "- The model may **predict the majority class most of the time**, leading to misleading accuracy.  \n",
        "\n",
        "## **2. Misleading Accuracy**  \n",
        "- If 95% of the data belongs to Class A and 5% to Class B, a model predicting **only Class A** will still be 95% accurate.  \n",
        "- However, the model is **useless** for detecting Class B.  \n",
        "\n",
        "## **3. Poor Recall for Minority Class**  \n",
        "- The model may have **low recall (high false negatives)** for the minority class, meaning it fails to detect it.  \n",
        "- This is problematic in **fraud detection, medical diagnosis, and rare event prediction**.  "
      ],
      "metadata": {
        "id": "cTdiFT9IMoPq"
      }
    },
    {
      "cell_type": "markdown",
      "source": [
        "# 13. What is Hyperparameter Tuning in Logistic Regression."
      ],
      "metadata": {
        "id": "WKcdlIi9NPDx"
      }
    },
    {
      "cell_type": "markdown",
      "source": [
        "Ans.\n",
        "\n",
        "# **Hyperparameter Tuning in Logistic Regression**  \n",
        "\n",
        "\n",
        "Hyperparameter tuning is the process of **optimizing the settings** of a machine learning model to improve its performance. Unlike model parameters (learned from data), **hyperparameters are set before training** and control how the model learns."
      ],
      "metadata": {
        "id": "h9uiRx-tNVqb"
      }
    },
    {
      "cell_type": "markdown",
      "source": [
        "# 14. What are different solvers in Logistic Regression? Which one should be used."
      ],
      "metadata": {
        "id": "A9xdKKHHOkxe"
      }
    },
    {
      "cell_type": "markdown",
      "source": [
        "Ans.\n",
        "\n",
        "Logistic Regression in **scikit-learn** provides multiple solvers for optimization. The choice of solver impacts speed, memory, and regularization support.\n",
        "\n",
        "\n",
        "Use lbfgs if unsure (default and works well for most cases).\n",
        "\n",
        "Use liblinear for small datasets & L1 regularization.\n",
        "\n",
        "Use saga for large datasets or Elastic Net regularization.\n",
        "\n",
        "Use newton-cg or sag for large datasets with L2 regularization."
      ],
      "metadata": {
        "id": "CWo5dIbcOqYX"
      }
    },
    {
      "cell_type": "markdown",
      "source": [
        "# 15. How is Logistic Regression extended for multiclass classification."
      ],
      "metadata": {
        "id": "kFbxstfFP03n"
      }
    },
    {
      "cell_type": "markdown",
      "source": [
        "Ans.\n",
        "\n",
        "# **Extending Logistic Regression for Multiclass Classification**\n",
        "\n",
        "Logistic Regression is primarily used for **binary classification** (0 or 1). However, it can be extended to **multiclass classification** using two main approaches:\n",
        "\n",
        "---\n",
        "\n",
        "## **1. One-vs-Rest (OvR) Approach**\n",
        "- Trains **multiple binary classifiers**  \n",
        "- Each class is treated as **\"one\" vs. \"all others\"**  \n",
        "- **Computationally efficient** for many classes  \n",
        "- May result in **overlapping decision boundaries**  \n",
        "\n",
        "### **Mathematical Formula**\n",
        "For each class \\( k \\), the probability is given by:\n",
        "\n",
        "\\[\n",
        "P(y = k | x) = \\frac{e^{\\theta_k^T x}}{1 + e^{\\theta_k^T x}}\n",
        "\\]\n",
        "\n",
        "### **When to Use?**\n",
        "- If **classes are imbalanced**  \n",
        "- If **speed** is more important than accuracy  \n",
        "\n",
        "---\n",
        "\n",
        "## **2. Softmax Regression (Multinomial Logistic Regression)**\n",
        "- Uses a **single model** for all classes  \n",
        "- Predicts the **class with the highest probability**  \n",
        "- Provides **better decision boundaries**  \n",
        "- **Computationally expensive** for large datasets  \n",
        "\n",
        "### **Mathematical Formula**\n",
        "The **Softmax function** converts raw scores into probabilities:\n",
        "\n",
        "$$\\[\n",
        "P(y = k | x) = \\frac{e^{\\theta_k^T x}}{\\sum_{j=1}^{K} e^{\\theta_j^T x}}\n",
        "\\]$$\n",
        "\n",
        "### **When to Use?**\n",
        "- If **classes are balanced**  \n",
        "- If **higher accuracy** is needed over speed  \n",
        "\n",
        "---\n",
        "\n",
        "## **Comparison: OvR vs. Softmax**\n",
        "| **Method** | **Pros** | **Cons** | **Best For** |\n",
        "|------------|---------|---------|-------------|\n",
        "| **One-vs-Rest (OvR)** | Faster, works well for many classes | May have inconsistent decision boundaries | **Imbalanced classes, fast training** |\n",
        "| **Softmax (Multinomial)** | More accurate, considers all classes at once | Slower, computationally expensive | **Balanced classes, better decision-making** |"
      ],
      "metadata": {
        "id": "caK1BxJlQM4P"
      }
    },
    {
      "cell_type": "markdown",
      "source": [
        "# 16. What are the advantages and disadvantages of Logistic Regression."
      ],
      "metadata": {
        "id": "wTknBXZCRzuv"
      }
    },
    {
      "cell_type": "markdown",
      "source": [
        "Ans.\n",
        "\n",
        "# **Advantages and Disadvantages of Logistic Regression**\n",
        "\n",
        "Logistic Regression is one of the simplest and most widely used algorithms for **binary classification** problems. Let's explore its **advantages** and **disadvantages**.\n",
        "\n",
        "---\n",
        "\n",
        "## **Advantages of Logistic Regression**\n",
        "\n",
        "1. **Simple and Easy to Implement**  \n",
        "   Logistic Regression is a straightforward model that is easy to implement and interpret.\n",
        "\n",
        "2. **Less Prone to Overfitting (for Linearly Separable Data)**  \n",
        "   Logistic Regression has a simpler structure compared to more complex algorithms, making it less prone to overfitting when data is linearly separable.\n",
        "\n",
        "3. **Works Well with Linearly Separable Data**  \n",
        "   It performs well when the decision boundary between classes is linear.\n",
        "\n",
        "4. **Probabilistic Output**  \n",
        "   Logistic Regression outputs probabilities that can be interpreted directly. This is useful in applications like risk estimation.\n",
        "\n",
        "5. **Efficient for Small Datasets**  \n",
        "   Logistic Regression is computationally efficient, especially for small to medium-sized datasets.\n",
        "\n",
        "6. **Requires Less Training Time**  \n",
        "   Compared to more complex models like Neural Networks, Logistic Regression generally requires less computational time for training.\n",
        "\n",
        "7. **Can be Regularized**  \n",
        "   It can be regularized to avoid overfitting using L1 or L2 regularization, making it more flexible in handling different datasets.\n",
        "\n",
        "---\n",
        "\n",
        "## **Disadvantages of Logistic Regression**\n",
        "\n",
        "1. **Assumes Linearity**  \n",
        "   Logistic Regression assumes a linear decision boundary, which may not work well if the relationship between features and target variable is non-linear.\n",
        "\n",
        "2. **Not Suitable for Complex Problems**  \n",
        "   For problems with complex relationships between features, Logistic Regression may not perform well compared to more sophisticated models (e.g., Decision Trees, Random Forests, or SVM).\n",
        "\n",
        "3. **Sensitive to Outliers**  \n",
        "   Logistic Regression can be sensitive to outliers, which may distort the model's predictions.\n",
        "\n",
        "4. **Not Suitable for Multicollinearity**  \n",
        "   Logistic Regression can struggle if there is high multicollinearity among features, as it assumes that all predictors are independent.\n",
        "\n",
        "5. **Binary Output for Binary Classification**  \n",
        "   It is naturally suited for binary classification. While extensions like OvR and Softmax exist for multiclass classification, they can be computationally expensive and less effective in some cases.\n",
        "\n",
        "6. **Requires Feature Engineering**  \n",
        "   Logistic Regression may require additional preprocessing steps like feature scaling, especially when using gradient-based optimization methods.\n",
        "\n",
        "---\n",
        "\n",
        "## **Conclusion**\n",
        "- **Advantages**: Logistic Regression is simple, interpretable, efficient for small datasets, and works well with linearly separable data.\n",
        "- **Disadvantages**: It assumes linearity, may not handle complex relationships well, and can be sensitive to outliers and multicollinearity.\n",
        "\n"
      ],
      "metadata": {
        "id": "VVV1zvkUR55I"
      }
    },
    {
      "cell_type": "markdown",
      "source": [
        "# 17. What are some use cases of Logistic Regression."
      ],
      "metadata": {
        "id": "o9vMn2_pSVyR"
      }
    },
    {
      "cell_type": "markdown",
      "source": [
        "Ans.\n",
        "\n",
        "# **Use Cases of Logistic Regression**\n",
        "\n",
        "Logistic Regression is a versatile and widely used algorithm for classification tasks, particularly when the output is binary or involves multiple classes. Below are some key use cases:\n",
        "\n",
        "---\n",
        "\n",
        "## **1. Binary Classification Problems**\n",
        "\n",
        "### **Spam Detection**\n",
        "Logistic Regression can be used to classify emails as **spam** or **not spam** based on features such as content, subject, and sender.\n",
        "\n",
        "### **Credit Scoring**\n",
        "In finance, it is used to predict whether a customer will default on a loan or not (yes/no), using variables like income, credit history, and other financial data.\n",
        "\n",
        "### **Customer Churn Prediction**\n",
        "Logistic Regression can predict whether a customer will leave (churn) or stay with a service based on features like usage patterns, customer service interactions, and subscription details.\n",
        "\n",
        "---\n",
        "\n",
        "## **2. Multiclass Classification Problems**\n",
        "\n",
        "### **Multi-class Classification for Product Categorization**\n",
        "For e-commerce platforms, Logistic Regression can be extended to handle multiclass classification to categorize products into different categories (e.g., electronics, clothing, books).\n",
        "\n",
        "### **Disease Diagnosis**\n",
        "It can be used in healthcare to predict the presence of multiple types of diseases (e.g., predicting different types of cancers) using patient features like age, medical history, and lab results.\n",
        "\n",
        "---\n",
        "\n",
        "## **3. Medical Field Applications**\n",
        "\n",
        "### **Heart Disease Prediction**\n",
        "Logistic Regression is commonly used to predict the likelihood of a patient having heart disease based on factors like cholesterol levels, blood pressure, age, and other health indicators.\n",
        "\n",
        "### **Diabetes Prediction**\n",
        "It is used to predict whether a person will develop diabetes based on factors such as BMI, age, and family medical history.\n",
        "\n",
        "---\n",
        "\n",
        "## **4. Marketing and Business Analytics**\n",
        "\n",
        "### **Lead Scoring**\n",
        "In marketing, Logistic Regression can help predict whether a lead (potential customer) will convert into a paying customer based on features like lead source, past interactions, and demographic data.\n",
        "\n",
        "### **A/B Testing Analysis**\n",
        "Logistic Regression can be used to evaluate the outcomes of A/B tests by predicting the likelihood of success for different variants of a marketing campaign, website design, or product feature.\n",
        "\n",
        "---\n",
        "\n",
        "## **5. Social Media and Web Analytics**\n",
        "\n",
        "### **Sentiment Analysis**\n",
        "It can be applied to classify social media posts or reviews into different categories (e.g., positive, negative, or neutral sentiment) based on the text content.\n",
        "\n",
        "### **Click-through Rate (CTR) Prediction**\n",
        "Logistic Regression can be used to predict whether a user will click on an ad or not, based on features like the user’s browsing history, ad placement, and content.\n",
        "\n",
        "---\n",
        "\n",
        "## **6. Fraud Detection**\n",
        "\n",
        "### **Banking Fraud Detection**\n",
        "Logistic Regression is often used in banking to detect fraudulent transactions by classifying them as legitimate or fraudulent based on transaction details like amount, location, and time.\n",
        "\n",
        "---\n",
        "\n",
        "## **Conclusion**\n",
        "Logistic Regression is widely applicable in scenarios where binary or multiclass classification is required, particularly when the relationships between features are approximately linear. Some of the common use cases include spam detection, customer churn prediction, disease diagnosis, marketing, and fraud detection.\n"
      ],
      "metadata": {
        "id": "gCai65YlSaWv"
      }
    },
    {
      "cell_type": "markdown",
      "source": [
        "# 18.  What is the difference between Softmax Regression and Logistic Regression."
      ],
      "metadata": {
        "id": "TkIqK0xLSriG"
      }
    },
    {
      "cell_type": "markdown",
      "source": [
        "Ans.\n",
        "\n",
        "# **Difference Between Softmax Regression and Logistic Regression**\n",
        "\n",
        "Logistic Regression and Softmax Regression are both used for classification problems, but they differ in their use cases and the way they handle classification tasks. Here's a breakdown of the key differences:\n",
        "\n",
        "---\n",
        "\n",
        "## **1. Type of Classification**\n",
        "\n",
        "- **Logistic Regression**  \n",
        "  Logistic Regression is used for **binary classification**, where the target variable has only two possible outcomes (e.g., 0 or 1, yes or no).\n",
        "\n",
        "- **Softmax Regression**  \n",
        "  Softmax Regression, also known as **Multinomial Logistic Regression**, is an extension of logistic regression used for **multiclass classification**. It handles problems where the target variable has more than two categories (e.g., classifying an image into 3 or more categories).\n",
        "\n",
        "---\n",
        "\n",
        "## **2. Output Probability**\n",
        "\n",
        "- **Logistic Regression**  \n",
        "  Logistic Regression outputs a probability for each instance that belongs to the **positive class** (1). The probability is calculated using the **sigmoid function**, which maps the input to a value between 0 and 1.\n",
        "\n",
        "  $$\\[\n",
        "  P(y = 1 | x) = \\frac{1}{1 + e^{-(\\theta^T x)}}\n",
        "  \\]$$\n",
        "\n",
        "- **Softmax Regression**  \n",
        "  Softmax Regression outputs a probability distribution across **multiple classes**. It calculates the probability for each class using the **Softmax function**.\n",
        "\n",
        "  $$\\[\n",
        "  P(y = k | x) = \\frac{e^{\\theta_k^T x}}{\\sum_{j=1}^{K} e^{\\theta_j^T x}}\n",
        "  \\]$$\n",
        "\n",
        "  Here, \\( K \\) is the number of classes.\n",
        "\n",
        "---\n",
        "\n",
        "## **3. Model Architecture**\n",
        "\n",
        "- **Logistic Regression**  \n",
        "  Logistic Regression involves a single **logistic function** to predict the probability for the binary outcome.\n",
        "\n",
        "- **Softmax Regression**  \n",
        "  Softmax Regression uses **multiple logistic functions**, one for each class, and applies the Softmax function to convert raw class scores into probabilities.\n",
        "\n",
        "---\n",
        "\n",
        "## **4. Decision Boundary**\n",
        "\n",
        "- **Logistic Regression**  \n",
        "  Logistic Regression creates a **linear decision boundary** between the two classes, as it assumes the data is linearly separable.\n",
        "\n",
        "- **Softmax Regression**  \n",
        "  Softmax Regression also creates a decision boundary, but it can handle multiple classes and will find **separate decision boundaries** for each class when there are more than two classes.\n",
        "\n",
        "---\n",
        "\n",
        "## **5. Use Cases**\n",
        "\n",
        "- **Logistic Regression**  \n",
        "  - Best suited for binary classification problems.  \n",
        "  - Examples: Spam detection, disease diagnosis (binary outcome), credit approval.\n",
        "\n",
        "- **Softmax Regression**  \n",
        "  - Used for multiclass classification problems.  \n",
        "  - Examples: Image classification (more than two categories), multi-class sentiment analysis, multi-category product classification.\n",
        "\n",
        "---\n",
        "\n",
        "## **6. Computational Complexity**\n",
        "\n",
        "- **Logistic Regression**  \n",
        "  - Faster to compute for binary classification problems.  \n",
        "  - Computational complexity is **lower** compared to Softmax Regression.\n",
        "\n",
        "- **Softmax Regression**  \n",
        "  - More computationally expensive because it deals with multiple classes.  \n",
        "  - Requires more resources and time for training as it needs to compute probabilities for each class.\n",
        "\n",
        "---\n",
        "\n",
        "## **Conclusion**\n",
        "- **Use Logistic Regression** for **binary classification** problems where the target variable has only two classes.\n",
        "- **Use Softmax Regression** for **multiclass classification** problems where the target variable has more than two classes.\n",
        "\n"
      ],
      "metadata": {
        "id": "kPa2N-sOSrYS"
      }
    },
    {
      "cell_type": "markdown",
      "source": [
        "# 19. How do we choose between One-vs-Rest (OvR) and Softmax for multiclass classification."
      ],
      "metadata": {
        "id": "EWnE-JykTRO0"
      }
    },
    {
      "cell_type": "markdown",
      "source": [
        "Ans.\n",
        "\n",
        "# **Choosing Between One-vs-Rest (OvR) and Softmax for Multiclass Classification**\n",
        "\n",
        "When dealing with multiclass classification problems, you may encounter two primary strategies: **One-vs-Rest (OvR)** and **Softmax Regression**. The choice between these methods depends on the nature of your data and the specific problem you're solving. Below is a comparison to help you decide which approach is better suited for your needs.\n",
        "\n",
        "---\n",
        "\n",
        "## **1. One-vs-Rest (OvR)**\n",
        "\n",
        "### **How It Works**\n",
        "- In the **One-vs-Rest** (OvR) approach, a separate binary classifier is trained for each class.  \n",
        "- For each class, the model predicts whether a sample belongs to that class or not (i.e., \"class vs. the rest\").\n",
        "- The final prediction is made by selecting the class with the highest probability across all classifiers.\n",
        "\n",
        "### **When to Use OvR**\n",
        "- **Number of classes** is large, and you want a simpler, more interpretable approach.  \n",
        "- The classes are **not heavily imbalanced** (or you can deal with class imbalance using techniques like class weighting).  \n",
        "- The decision boundaries between classes are **independent** (i.e., there is no need for a complex interaction between classes).\n",
        "- You want to **avoid the computational complexity** of Softmax for large datasets with many classes.\n",
        "\n",
        "### **Advantages**\n",
        "- Simpler and faster to implement for multiclass problems.\n",
        "- Works well when classes are **linearly separable**.\n",
        "- Can be applied to models that inherently support binary classification (e.g., logistic regression).\n",
        "\n",
        "### **Disadvantages**\n",
        "- **Inter-class dependencies** are not considered, which may not work well if the classes are highly related.\n",
        "- Can be computationally expensive when the number of classes is very large.\n",
        "- The model may misclassify samples if the decision boundaries are not well defined between classes.\n",
        "\n",
        "---\n",
        "\n",
        "## **2. Softmax Regression (Multinomial Logistic Regression)**\n",
        "\n",
        "### **How It Works**\n",
        "- Softmax Regression directly extends logistic regression to multiclass classification by computing a **probability distribution** across all classes.\n",
        "- The model assigns probabilities to all classes simultaneously, and the class with the highest probability is chosen as the predicted label.\n",
        "\n",
        "### **When to Use Softmax**\n",
        "- If you need a **probabilistic interpretation** for each class, where the sum of probabilities equals 1.\n",
        "- The **classes are mutually exclusive**, and you want to model the relationships between them.\n",
        "- The number of classes is **relatively small** to avoid computational complexity.\n",
        "- If you want **better decision boundaries** and a more **cohesive model** where all classes are taken into account together.\n",
        "\n",
        "### **Advantages**\n",
        "- Considers the **relationships** between classes (better for non-independent classes).\n",
        "- **One model** is trained, and there is no need for multiple binary classifiers.\n",
        "- **More efficient** for problems with a smaller number of classes, as all classes are handled together.\n",
        "\n",
        "### **Disadvantages**\n",
        "- More computationally intensive, especially for large datasets or a large number of classes.\n",
        "- May **overfit** if the number of classes is too large and the data is insufficient to train a robust model.\n",
        "\n",
        "---\n",
        "\n",
        "## **3. Comparison Table**\n",
        "\n",
        "| **Feature**             | **One-vs-Rest (OvR)**                 | **Softmax Regression**             |\n",
        "|-------------------------|---------------------------------------|------------------------------------|\n",
        "| **Number of Classifiers**| Multiple binary classifiers           | Single classifier                  |\n",
        "| **Training Approach**    | One binary classifier for each class  | One model handles all classes      |\n",
        "| **Class Interdependence**| Ignores inter-class relationships     | Models inter-class relationships   |\n",
        "| **Performance with Large Classes** | May be inefficient for many classes | More efficient for fewer classes   |\n",
        "| **Interpretability**     | Easier to interpret (separate classifiers) | More complex but provides better decision boundaries |\n",
        "| **Use Case**             | Works well when classes are linearly separable and independent | Best for classes with complex relationships |\n",
        "\n",
        "---\n",
        "\n",
        "## **Conclusion**\n",
        "\n",
        "- **Use OvR** when you have a large number of classes, especially if the relationships between the classes are not complex and you need a simpler, faster model.\n",
        "- **Use Softmax** if the classes are mutually exclusive, and you want to model the relationships between classes directly. It's also suitable for when you need a more accurate model with better decision boundaries, though it can be more computationally expensive.\n",
        "\n"
      ],
      "metadata": {
        "id": "xOvdz-moTTCV"
      }
    },
    {
      "cell_type": "markdown",
      "source": [
        "# 20.  How do we interpret coefficients in Logistic Regression?"
      ],
      "metadata": {
        "id": "f3S4P9MCTlTw"
      }
    },
    {
      "cell_type": "markdown",
      "source": [
        "Ans.\n",
        "\n",
        "# **How to Interpret Coefficients in Logistic Regression**\n",
        "\n",
        "In Logistic Regression, the **coefficients** represent the relationship between each feature (input variable) and the **log-odds** of the target variable. Understanding these coefficients helps in interpreting the influence of each feature on the prediction.\n",
        "\n",
        "---\n",
        "\n",
        "## **1. The Logistic Regression Model**\n",
        "\n",
        "The logistic regression model predicts the probability of the target class \\( P(y = 1 | X) \\) using the following formula:\n",
        "\n",
        "$$\\[\n",
        "P(y = 1 | X) = \\frac{1}{1 + e^{-(\\theta_0 + \\theta_1 X_1 + \\theta_2 X_2 + ... + \\theta_n X_n)}}\n",
        "\\]$$\n",
        "\n",
        "Where:\n",
        "- \\( \\theta_0 \\) is the **intercept** or **bias** term.\n",
        "- \\( \\theta_1, \\theta_2, ..., \\theta_n \\) are the **coefficients** (weights) for the features \\( X_1, X_2, ..., X_n \\).\n",
        "- The expression inside the exponential, \\( \\theta_0 + \\theta_1 X_1 + \\theta_2 X_2 + ... + \\theta_n X_n \\), is called the **logit** or **log-odds**.\n",
        "\n",
        "---\n",
        "\n",
        "## **2. Interpreting the Coefficients**\n",
        "\n",
        "### **a) Coefficients and Log-Odds**\n",
        "\n",
        "- The coefficient \\( \\theta_i \\) represents the **change in the log-odds** of the target variable (the probability of the event occurring) for a **one-unit change** in feature \\( X_i \\), holding all other features constant.\n",
        "- The **log-odds** are the natural logarithm of the odds, where odds are the ratio of the probability of an event to the probability of it not occurring.\n",
        "\n",
        "For example, if the coefficient for \\( X_1 \\) (say, the feature \"age\") is 0.5, it means that for every one-unit increase in age, the log-odds of the event (e.g., \"having a disease\") increase by 0.5.\n",
        "\n",
        "### **b) Exponentiating the Coefficients**\n",
        "\n",
        "- To make the interpretation more intuitive, we often **exponentiate the coefficients** to convert them from log-odds to **odds ratios**.\n",
        "  \n",
        "The **odds ratio** for a feature is calculated as:\n",
        "\n",
        "\\[\n",
        "\\text{Odds Ratio} = e^{\\theta_i}\n",
        "\\]\n",
        "\n",
        "- An **odds ratio greater than 1** indicates that as the feature value increases, the odds of the target event occurring increase (positive correlation).\n",
        "- An **odds ratio less than 1** indicates that as the feature value increases, the odds of the target event occurring decrease (negative correlation).\n",
        "- An **odds ratio equal to 1** suggests that the feature has no effect on the odds.\n",
        "\n",
        "### **Example:**\n",
        "If the coefficient for \"age\" is \\( \\theta_1 = 0.5 \\), then:\n",
        "\n",
        "\\[\n",
        "\\text{Odds Ratio for age} = e^{0.5} \\approx 1.65\n",
        "\\]\n",
        "\n",
        "This means that for each one-unit increase in age, the odds of the event (e.g., \"having the disease\") increase by 65%.\n",
        "\n",
        "---\n",
        "\n",
        "## **3. Intercept (Bias Term)**\n",
        "\n",
        "The **intercept \\( \\theta_0 \\)** represents the log-odds of the target event occurring when all features are set to zero. The interpretation is based on the log-odds scale."
      ],
      "metadata": {
        "id": "KZuiujuqTpgC"
      }
    },
    {
      "cell_type": "markdown",
      "source": [
        "# **Logistic** **Regression** **Practical Questions**"
      ],
      "metadata": {
        "id": "-gkK-C3IiPQO"
      }
    },
    {
      "cell_type": "markdown",
      "source": [
        "# 1. Write a Python program that loads a dataset, splits it into training and testing sets, applies Logistic Regression, and prints the model accuracy"
      ],
      "metadata": {
        "id": "OWQo7i1aiT-i"
      }
    },
    {
      "cell_type": "code",
      "source": [
        "from sklearn.datasets import load_iris\n",
        "from sklearn.model_selection import train_test_split\n",
        "from sklearn.linear_model import LogisticRegression\n",
        "from sklearn.metrics import accuracy_score\n",
        "\n",
        "# Step 1: Load dataset\n",
        "iris = load_iris()\n",
        "X, y = iris.data, iris.target  # Features and target\n",
        "\n",
        "# Step 2: Split dataset into training (80%) and testing (20%) sets\n",
        "X_train, X_test, y_train, y_test = train_test_split(X, y, test_size=0.2, random_state=42)\n",
        "\n",
        "# Step 3: Train Logistic Regression model\n",
        "model = LogisticRegression(max_iter=200)\n",
        "model.fit(X_train, y_train)\n",
        "\n",
        "# Step 4: Make predictions on the test set\n",
        "y_pred = model.predict(X_test)\n",
        "\n",
        "# Step 5: Print model accuracy\n",
        "accuracy = accuracy_score(y_test, y_pred)\n",
        "print(f\"Model Accuracy: {accuracy:.2f}\")\n"
      ],
      "metadata": {
        "colab": {
          "base_uri": "https://localhost:8080/"
        },
        "id": "9LEAusVMih5b",
        "outputId": "453ba059-ad3a-4501-de50-23e6fefe5583"
      },
      "execution_count": 1,
      "outputs": [
        {
          "output_type": "stream",
          "name": "stdout",
          "text": [
            "Model Accuracy: 1.00\n"
          ]
        }
      ]
    },
    {
      "cell_type": "markdown",
      "source": [
        "# 2. Write a Python program to apply L1 regularization (Lasso) on a dataset using LogisticRegression(penalty='l1') and print the model accuracy"
      ],
      "metadata": {
        "id": "u7qJ1yjji269"
      }
    },
    {
      "cell_type": "code",
      "source": [
        "from sklearn.datasets import load_iris\n",
        "from sklearn.model_selection import train_test_split\n",
        "from sklearn.linear_model import LogisticRegression\n",
        "from sklearn.metrics import accuracy_score\n",
        "\n",
        "# Step 1: Load dataset\n",
        "iris = load_iris()\n",
        "X, y = iris.data, iris.target  # Features and target\n",
        "\n",
        "# Step 2: Split dataset into training (80%) and testing (20%) sets\n",
        "X_train, X_test, y_train, y_test = train_test_split(X, y, test_size=0.2, random_state=42)\n",
        "\n",
        "# Step 3: Train Logistic Regression model\n",
        "model = LogisticRegression(max_iter=200)\n",
        "model.fit(X_train, y_train)\n",
        "\n",
        "# Step 4: Make predictions on the test set\n",
        "y_pred = model.predict(X_test)\n",
        "\n",
        "# Step 5: Print model accuracy\n",
        "accuracy = accuracy_score(y_test, y_pred)\n",
        "print(f\"Model Accuracy: {accuracy:.2f}\")\n"
      ],
      "metadata": {
        "colab": {
          "base_uri": "https://localhost:8080/"
        },
        "id": "pTv1UJPyjA5C",
        "outputId": "a93fc6fb-9728-4814-c65f-4c8561267901"
      },
      "execution_count": 2,
      "outputs": [
        {
          "output_type": "stream",
          "name": "stdout",
          "text": [
            "Model Accuracy: 1.00\n"
          ]
        }
      ]
    },
    {
      "cell_type": "markdown",
      "source": [
        "# 3. Write a Python program to train Logistic Regression with L2 regularization (Ridge) using LogisticRegression(penalty='l2'). Print model accuracy and coefficients"
      ],
      "metadata": {
        "id": "e47e9WZ6jLpm"
      }
    },
    {
      "cell_type": "code",
      "source": [
        "from sklearn.datasets import load_iris\n",
        "from sklearn.model_selection import train_test_split\n",
        "from sklearn.linear_model import LogisticRegression\n",
        "from sklearn.metrics import accuracy_score\n",
        "\n",
        "# Step 1: Load dataset\n",
        "iris = load_iris()\n",
        "X, y = iris.data, iris.target  # Features and target\n",
        "\n",
        "# Step 2: Split dataset into training (80%) and testing (20%) sets\n",
        "X_train, X_test, y_train, y_test = train_test_split(X, y, test_size=0.2, random_state=42)\n",
        "\n",
        "# Step 3: Train Logistic Regression model with L2 regularization (Ridge)\n",
        "model = LogisticRegression(penalty='l2', solver='lbfgs', max_iter=200)\n",
        "model.fit(X_train, y_train)\n",
        "\n",
        "# Step 4: Make predictions on the test set\n",
        "y_pred = model.predict(X_test)\n",
        "\n",
        "# Step 5: Print model accuracy\n",
        "accuracy = accuracy_score(y_test, y_pred)\n",
        "print(f\"Model Accuracy with L2 Regularization: {accuracy:.2f}\")\n",
        "\n",
        "# Step 6: Print model coefficients\n",
        "print(\"Model Coefficients:\")\n",
        "print(model.coef_)\n"
      ],
      "metadata": {
        "colab": {
          "base_uri": "https://localhost:8080/"
        },
        "id": "rr7He7SBjTxw",
        "outputId": "941464a6-6ca3-4c71-e9d0-5d3ed9ce6b0e"
      },
      "execution_count": 3,
      "outputs": [
        {
          "output_type": "stream",
          "name": "stdout",
          "text": [
            "Model Accuracy with L2 Regularization: 1.00\n",
            "Model Coefficients:\n",
            "[[-0.39340204  0.96258576 -2.37510761 -0.99874603]\n",
            " [ 0.50840364 -0.25486503 -0.21301366 -0.77575487]\n",
            " [-0.1150016  -0.70772072  2.58812127  1.77450091]]\n"
          ]
        }
      ]
    },
    {
      "cell_type": "markdown",
      "source": [
        "# 4. Write a Python program to train Logistic Regression with Elastic Net Regularization (penalty='elasticnet')"
      ],
      "metadata": {
        "id": "HieeQGqTjbbJ"
      }
    },
    {
      "cell_type": "code",
      "source": [
        "from sklearn.datasets import load_iris\n",
        "from sklearn.model_selection import train_test_split\n",
        "from sklearn.linear_model import LogisticRegression\n",
        "from sklearn.metrics import accuracy_score\n",
        "\n",
        "# Step 1: Load dataset\n",
        "iris = load_iris()\n",
        "X, y = iris.data, iris.target  # Features and target\n",
        "\n",
        "# Step 2: Split dataset into training (80%) and testing (20%) sets\n",
        "X_train, X_test, y_train, y_test = train_test_split(X, y, test_size=0.2, random_state=42)\n",
        "\n",
        "# Step 3: Train Logistic Regression model with Elastic Net Regularization\n",
        "model = LogisticRegression(penalty='elasticnet', solver='saga', l1_ratio=0.5, max_iter=200)\n",
        "model.fit(X_train, y_train)\n",
        "\n",
        "# Step 4: Make predictions on the test set\n",
        "y_pred = model.predict(X_test)\n",
        "\n",
        "# Step 5: Print model accuracy\n",
        "accuracy = accuracy_score(y_test, y_pred)\n",
        "print(f\"Model Accuracy with Elastic Net Regularization: {accuracy:.2f}\")\n",
        "\n",
        "# Step 6: Print model coefficients\n",
        "print(\"Model Coefficients:\")\n",
        "print(model.coef_)\n"
      ],
      "metadata": {
        "colab": {
          "base_uri": "https://localhost:8080/"
        },
        "id": "2QB0Azn8jvAx",
        "outputId": "aa8a9b94-ac28-4fb0-df51-4c346fa72cae"
      },
      "execution_count": 4,
      "outputs": [
        {
          "output_type": "stream",
          "name": "stdout",
          "text": [
            "Model Accuracy with Elastic Net Regularization: 1.00\n",
            "Model Coefficients:\n",
            "[[ 0.38584583  1.77954151 -2.41982379 -0.70589727]\n",
            " [ 0.07831297  0.          0.         -0.58202316]\n",
            " [-1.2561745  -1.53142739  2.59464177  2.08101027]]\n"
          ]
        },
        {
          "output_type": "stream",
          "name": "stderr",
          "text": [
            "/usr/local/lib/python3.11/dist-packages/sklearn/linear_model/_sag.py:348: ConvergenceWarning: The max_iter was reached which means the coef_ did not converge\n",
            "  warnings.warn(\n"
          ]
        }
      ]
    },
    {
      "cell_type": "markdown",
      "source": [
        "# 5. Write a Python program to train a Logistic Regression model for multiclass classification using multi_class='ovr'."
      ],
      "metadata": {
        "id": "ykeJPWhjj1C_"
      }
    },
    {
      "cell_type": "code",
      "source": [
        "from sklearn.datasets import load_iris\n",
        "from sklearn.model_selection import train_test_split\n",
        "from sklearn.linear_model import LogisticRegression\n",
        "from sklearn.metrics import accuracy_score\n",
        "\n",
        "# Step 1: Load dataset\n",
        "iris = load_iris()\n",
        "X, y = iris.data, iris.target  # Features and target\n",
        "\n",
        "# Step 2: Split dataset into training (80%) and testing (20%) sets\n",
        "X_train, X_test, y_train, y_test = train_test_split(X, y, test_size=0.2, random_state=42)\n",
        "\n",
        "# Step 3: Train Logistic Regression model for multiclass classification using OvR\n",
        "model = LogisticRegression(multi_class='ovr', solver='lbfgs', max_iter=200)\n",
        "model.fit(X_train, y_train)\n",
        "\n",
        "# Step 4: Make predictions on the test set\n",
        "y_pred = model.predict(X_test)\n",
        "\n",
        "# Step 5: Print model accuracy\n",
        "accuracy = accuracy_score(y_test, y_pred)\n",
        "print(f\"Model Accuracy with One-vs-Rest (OvR): {accuracy:.2f}\")\n",
        "\n",
        "# Step 6: Print model coefficients\n",
        "print(\"Model Coefficients:\")\n",
        "print(model.coef_)\n"
      ],
      "metadata": {
        "colab": {
          "base_uri": "https://localhost:8080/"
        },
        "id": "dzS_BY-7kzjN",
        "outputId": "f0b667f6-58c5-4b6a-c627-aa186ee9461c"
      },
      "execution_count": 5,
      "outputs": [
        {
          "output_type": "stream",
          "name": "stdout",
          "text": [
            "Model Accuracy with One-vs-Rest (OvR): 0.97\n",
            "Model Coefficients:\n",
            "[[-0.42762216  0.88771927 -2.21471658 -0.91610036]\n",
            " [-0.03387836 -2.0442989   0.54266011 -1.0179372 ]\n",
            " [-0.38904645 -0.62147609  2.7762982   2.09067085]]\n"
          ]
        },
        {
          "output_type": "stream",
          "name": "stderr",
          "text": [
            "/usr/local/lib/python3.11/dist-packages/sklearn/linear_model/_logistic.py:1256: FutureWarning: 'multi_class' was deprecated in version 1.5 and will be removed in 1.7. Use OneVsRestClassifier(LogisticRegression(..)) instead. Leave it to its default value to avoid this warning.\n",
            "  warnings.warn(\n"
          ]
        }
      ]
    },
    {
      "cell_type": "markdown",
      "source": [
        "# 6. Write a Python program to apply GridSearchCV to tune the hyperparameters (C and penalty) of Logistic Regression. Print the best parameters and accuracy"
      ],
      "metadata": {
        "id": "28gFBr_Uk30l"
      }
    },
    {
      "cell_type": "code",
      "source": [
        "from sklearn.datasets import load_iris\n",
        "from sklearn.model_selection import train_test_split, GridSearchCV\n",
        "from sklearn.linear_model import LogisticRegression\n",
        "from sklearn.metrics import accuracy_score\n",
        "\n",
        "# Step 1: Load dataset\n",
        "iris = load_iris()\n",
        "X, y = iris.data, iris.target  # Features and target\n",
        "\n",
        "# Step 2: Split dataset into training (80%) and testing (20%) sets\n",
        "X_train, X_test, y_train, y_test = train_test_split(X, y, test_size=0.2, random_state=42)\n",
        "\n",
        "# Step 3: Define hyperparameter grid\n",
        "param_grid = {\n",
        "    'C': [0.01, 0.1, 1, 10, 100],  # Different values of regularization strength\n",
        "    'penalty': ['l1', 'l2'],       # L1 (Lasso) and L2 (Ridge) regularization\n",
        "    'solver': ['liblinear']         # 'liblinear' supports both L1 and L2\n",
        "}\n",
        "\n",
        "# Step 4: Apply GridSearchCV\n",
        "grid_search = GridSearchCV(LogisticRegression(max_iter=200), param_grid, cv=5, scoring='accuracy')\n",
        "grid_search.fit(X_train, y_train)\n",
        "\n",
        "# Step 5: Print best parameters\n",
        "print(f\"Best Parameters: {grid_search.best_params_}\")\n",
        "\n",
        "# Step 6: Evaluate on test data\n",
        "best_model = grid_search.best_estimator_\n",
        "y_pred = best_model.predict(X_test)\n",
        "accuracy = accuracy_score(y_test, y_pred)\n",
        "print(f\"Model Accuracy with Best Parameters: {accuracy:.2f}\")\n"
      ],
      "metadata": {
        "colab": {
          "base_uri": "https://localhost:8080/"
        },
        "id": "kRqxww7llBdf",
        "outputId": "d40b10f7-1a24-4382-c38b-ad1588df6be8"
      },
      "execution_count": 6,
      "outputs": [
        {
          "output_type": "stream",
          "name": "stdout",
          "text": [
            "Best Parameters: {'C': 10, 'penalty': 'l1', 'solver': 'liblinear'}\n",
            "Model Accuracy with Best Parameters: 1.00\n"
          ]
        }
      ]
    },
    {
      "cell_type": "markdown",
      "source": [
        "# 7. Write a Python program to evaluate Logistic Regression using Stratified K-Fold Cross-Validation. Print the average accuracy"
      ],
      "metadata": {
        "id": "nCtsxVm3lYoX"
      }
    },
    {
      "cell_type": "code",
      "source": [
        "from sklearn.datasets import load_iris\n",
        "from sklearn.model_selection import StratifiedKFold, cross_val_score\n",
        "from sklearn.linear_model import LogisticRegression\n",
        "import numpy as np\n",
        "\n",
        "# Step 1: Load dataset\n",
        "iris = load_iris()\n",
        "X, y = iris.data, iris.target  # Features and target\n",
        "\n",
        "# Step 2: Define Stratified K-Fold Cross-Validation\n",
        "skf = StratifiedKFold(n_splits=5, shuffle=True, random_state=42)\n",
        "\n",
        "# Step 3: Define Logistic Regression model\n",
        "model = LogisticRegression(max_iter=200)\n",
        "\n",
        "# Step 4: Perform Cross-Validation\n",
        "scores = cross_val_score(model, X, y, cv=skf, scoring='accuracy')\n",
        "\n",
        "# Step 5: Print accuracy for each fold\n",
        "print(\"Accuracy for each fold:\", scores)\n",
        "\n",
        "# Step 6: Print average accuracy\n",
        "print(f\"Average Accuracy: {np.mean(scores):.2f}\")\n"
      ],
      "metadata": {
        "colab": {
          "base_uri": "https://localhost:8080/"
        },
        "id": "bKJWsHvNlnlj",
        "outputId": "99ccd1e4-161a-434c-84b2-0fdfad22af4a"
      },
      "execution_count": 7,
      "outputs": [
        {
          "output_type": "stream",
          "name": "stdout",
          "text": [
            "Accuracy for each fold: [1.         0.96666667 0.93333333 1.         0.93333333]\n",
            "Average Accuracy: 0.97\n"
          ]
        }
      ]
    },
    {
      "cell_type": "markdown",
      "source": [
        "# 8.  Write a Python program to load a dataset from a CSV file, apply Logistic Regression, and evaluate its accuracy."
      ],
      "metadata": {
        "id": "xc47QB-olryn"
      }
    },
    {
      "cell_type": "code",
      "source": [
        "import pandas as pd\n",
        "from sklearn.model_selection import train_test_split\n",
        "from sklearn.linear_model import LogisticRegression\n",
        "from sklearn.metrics import accuracy_score\n",
        "\n",
        "# Step 1: Load dataset from CSV file\n",
        "file_path = \"sky_dataset.csv\"\n",
        "df = pd.read_csv(file_path)\n",
        "\n",
        "# Step 2: Define features (X) and target (y)\n",
        "X = df.iloc[:, :-1]  # All columns except the last as features\n",
        "y = df.iloc[:, -1]   # Last column as target\n",
        "\n",
        "# Step 3: Split dataset into training (80%) and testing (20%) sets\n",
        "X_train, X_test, y_train, y_test = train_test_split(X, y, test_size=0.2, random_state=42)\n",
        "\n",
        "# Step 4: Train Logistic Regression model\n",
        "model = LogisticRegression(max_iter=200)\n",
        "model.fit(X_train, y_train)\n",
        "\n",
        "# Step 5: Make predictions on the test set\n",
        "y_pred = model.predict(X_test)\n",
        "\n",
        "# Step 6: Evaluate model accuracy\n",
        "accuracy = accuracy_score(y_test, y_pred)\n",
        "print(f\"Model Accuracy: {accuracy:.2f}\")\n"
      ],
      "metadata": {
        "id": "pTC00_g6mZTU"
      },
      "execution_count": null,
      "outputs": []
    },
    {
      "cell_type": "markdown",
      "source": [
        "# 9. Write a Python program to apply RandomizedSearchCV for tuning hyperparameters (C, penalty, solver) in Logistic Regression. Print the best parameters and accuracy"
      ],
      "metadata": {
        "id": "g0Qw3ilHmi-F"
      }
    },
    {
      "cell_type": "code",
      "source": [
        "import numpy as np\n",
        "import pandas as pd\n",
        "from sklearn.datasets import load_iris\n",
        "from sklearn.model_selection import train_test_split, RandomizedSearchCV\n",
        "from sklearn.linear_model import LogisticRegression\n",
        "from sklearn.metrics import accuracy_score\n",
        "\n",
        "# Step 1: Load dataset\n",
        "iris = load_iris()\n",
        "X, y = iris.data, iris.target  # Features and target\n",
        "\n",
        "# Step 2: Split dataset into training (80%) and testing (20%) sets\n",
        "X_train, X_test, y_train, y_test = train_test_split(X, y, test_size=0.2, random_state=42)\n",
        "\n",
        "# Step 3: Define hyperparameter search space\n",
        "param_dist = {\n",
        "    'C': np.logspace(-3, 3, 10),  # Values from 0.001 to 1000\n",
        "    'penalty': ['l1', 'l2'],       # L1 (Lasso) and L2 (Ridge)\n",
        "    'solver': ['liblinear', 'saga'] # Solvers that support L1 and L2\n",
        "}\n",
        "\n",
        "# Step 4: Apply RandomizedSearchCV\n",
        "random_search = RandomizedSearchCV(LogisticRegression(max_iter=200), param_dist,\n",
        "                                   n_iter=10, cv=5, scoring='accuracy', random_state=42)\n",
        "random_search.fit(X_train, y_train)\n",
        "\n",
        "# Step 5: Print best parameters\n",
        "print(f\"Best Parameters: {random_search.best_params_}\")\n",
        "\n",
        "# Step 6: Evaluate best model on test data\n",
        "best_model = random_search.best_estimator_\n",
        "y_pred = best_model.predict(X_test)\n",
        "accuracy = accuracy_score(y_test, y_pred)\n",
        "print(f\"Model Accuracy with Best Parameters: {accuracy:.2f}\")\n"
      ],
      "metadata": {
        "colab": {
          "base_uri": "https://localhost:8080/"
        },
        "id": "HX8kaRvmmtnv",
        "outputId": "bfd9d5d4-997b-4d73-ea44-554e4df88e8f"
      },
      "execution_count": 11,
      "outputs": [
        {
          "output_type": "stream",
          "name": "stderr",
          "text": [
            "/usr/local/lib/python3.11/dist-packages/sklearn/linear_model/_sag.py:348: ConvergenceWarning: The max_iter was reached which means the coef_ did not converge\n",
            "  warnings.warn(\n",
            "/usr/local/lib/python3.11/dist-packages/sklearn/linear_model/_sag.py:348: ConvergenceWarning: The max_iter was reached which means the coef_ did not converge\n",
            "  warnings.warn(\n",
            "/usr/local/lib/python3.11/dist-packages/sklearn/linear_model/_sag.py:348: ConvergenceWarning: The max_iter was reached which means the coef_ did not converge\n",
            "  warnings.warn(\n",
            "/usr/local/lib/python3.11/dist-packages/sklearn/linear_model/_sag.py:348: ConvergenceWarning: The max_iter was reached which means the coef_ did not converge\n",
            "  warnings.warn(\n",
            "/usr/local/lib/python3.11/dist-packages/sklearn/linear_model/_sag.py:348: ConvergenceWarning: The max_iter was reached which means the coef_ did not converge\n",
            "  warnings.warn(\n",
            "/usr/local/lib/python3.11/dist-packages/sklearn/linear_model/_sag.py:348: ConvergenceWarning: The max_iter was reached which means the coef_ did not converge\n",
            "  warnings.warn(\n",
            "/usr/local/lib/python3.11/dist-packages/sklearn/linear_model/_sag.py:348: ConvergenceWarning: The max_iter was reached which means the coef_ did not converge\n",
            "  warnings.warn(\n",
            "/usr/local/lib/python3.11/dist-packages/sklearn/linear_model/_sag.py:348: ConvergenceWarning: The max_iter was reached which means the coef_ did not converge\n",
            "  warnings.warn(\n",
            "/usr/local/lib/python3.11/dist-packages/sklearn/linear_model/_sag.py:348: ConvergenceWarning: The max_iter was reached which means the coef_ did not converge\n",
            "  warnings.warn(\n",
            "/usr/local/lib/python3.11/dist-packages/sklearn/linear_model/_sag.py:348: ConvergenceWarning: The max_iter was reached which means the coef_ did not converge\n",
            "  warnings.warn(\n",
            "/usr/local/lib/python3.11/dist-packages/sklearn/linear_model/_sag.py:348: ConvergenceWarning: The max_iter was reached which means the coef_ did not converge\n",
            "  warnings.warn(\n",
            "/usr/local/lib/python3.11/dist-packages/sklearn/linear_model/_sag.py:348: ConvergenceWarning: The max_iter was reached which means the coef_ did not converge\n",
            "  warnings.warn(\n",
            "/usr/local/lib/python3.11/dist-packages/sklearn/linear_model/_sag.py:348: ConvergenceWarning: The max_iter was reached which means the coef_ did not converge\n",
            "  warnings.warn(\n",
            "/usr/local/lib/python3.11/dist-packages/sklearn/linear_model/_sag.py:348: ConvergenceWarning: The max_iter was reached which means the coef_ did not converge\n",
            "  warnings.warn(\n",
            "/usr/local/lib/python3.11/dist-packages/sklearn/linear_model/_sag.py:348: ConvergenceWarning: The max_iter was reached which means the coef_ did not converge\n",
            "  warnings.warn(\n",
            "/usr/local/lib/python3.11/dist-packages/sklearn/linear_model/_sag.py:348: ConvergenceWarning: The max_iter was reached which means the coef_ did not converge\n",
            "  warnings.warn(\n"
          ]
        },
        {
          "output_type": "stream",
          "name": "stdout",
          "text": [
            "Best Parameters: {'solver': 'saga', 'penalty': 'l2', 'C': 0.46415888336127775}\n",
            "Model Accuracy with Best Parameters: 1.00\n"
          ]
        },
        {
          "output_type": "stream",
          "name": "stderr",
          "text": [
            "/usr/local/lib/python3.11/dist-packages/sklearn/linear_model/_sag.py:348: ConvergenceWarning: The max_iter was reached which means the coef_ did not converge\n",
            "  warnings.warn(\n",
            "/usr/local/lib/python3.11/dist-packages/sklearn/linear_model/_sag.py:348: ConvergenceWarning: The max_iter was reached which means the coef_ did not converge\n",
            "  warnings.warn(\n",
            "/usr/local/lib/python3.11/dist-packages/sklearn/linear_model/_sag.py:348: ConvergenceWarning: The max_iter was reached which means the coef_ did not converge\n",
            "  warnings.warn(\n",
            "/usr/local/lib/python3.11/dist-packages/sklearn/linear_model/_sag.py:348: ConvergenceWarning: The max_iter was reached which means the coef_ did not converge\n",
            "  warnings.warn(\n",
            "/usr/local/lib/python3.11/dist-packages/sklearn/linear_model/_sag.py:348: ConvergenceWarning: The max_iter was reached which means the coef_ did not converge\n",
            "  warnings.warn(\n",
            "/usr/local/lib/python3.11/dist-packages/sklearn/linear_model/_sag.py:348: ConvergenceWarning: The max_iter was reached which means the coef_ did not converge\n",
            "  warnings.warn(\n",
            "/usr/local/lib/python3.11/dist-packages/sklearn/linear_model/_sag.py:348: ConvergenceWarning: The max_iter was reached which means the coef_ did not converge\n",
            "  warnings.warn(\n",
            "/usr/local/lib/python3.11/dist-packages/sklearn/linear_model/_sag.py:348: ConvergenceWarning: The max_iter was reached which means the coef_ did not converge\n",
            "  warnings.warn(\n",
            "/usr/local/lib/python3.11/dist-packages/sklearn/linear_model/_sag.py:348: ConvergenceWarning: The max_iter was reached which means the coef_ did not converge\n",
            "  warnings.warn(\n",
            "/usr/local/lib/python3.11/dist-packages/sklearn/linear_model/_sag.py:348: ConvergenceWarning: The max_iter was reached which means the coef_ did not converge\n",
            "  warnings.warn(\n"
          ]
        }
      ]
    },
    {
      "cell_type": "markdown",
      "source": [
        "# 10. Write a Python program to implement One-vs-One (OvO) Multiclass Logistic Regression and print accuracy"
      ],
      "metadata": {
        "id": "goEI5jGYnI1O"
      }
    },
    {
      "cell_type": "code",
      "source": [
        "from sklearn.datasets import load_iris\n",
        "from sklearn.model_selection import train_test_split\n",
        "from sklearn.linear_model import LogisticRegression\n",
        "from sklearn.multiclass import OneVsOneClassifier\n",
        "from sklearn.metrics import accuracy_score\n",
        "\n",
        "# Step 1: Load dataset\n",
        "iris = load_iris()\n",
        "X, y = iris.data, iris.target  # Features and target\n",
        "\n",
        "# Step 2: Split dataset into training (80%) and testing (20%) sets\n",
        "X_train, X_test, y_train, y_test = train_test_split(X, y, test_size=0.2, random_state=42)\n",
        "\n",
        "# Step 3: Train Logistic Regression using One-vs-One (OvO) strategy\n",
        "model = OneVsOneClassifier(LogisticRegression(solver='lbfgs', max_iter=200))\n",
        "model.fit(X_train, y_train)\n",
        "\n",
        "# Step 4: Make predictions on the test set\n",
        "y_pred = model.predict(X_test)\n",
        "\n",
        "# Step 5: Evaluate model accuracy\n",
        "accuracy = accuracy_score(y_test, y_pred)\n",
        "print(f\"Model Accuracy (One-vs-One): {accuracy:.2f}\")\n"
      ],
      "metadata": {
        "colab": {
          "base_uri": "https://localhost:8080/"
        },
        "id": "DCCKfdNOn8w6",
        "outputId": "24408be8-7a88-4e43-f830-b65b76474fa1"
      },
      "execution_count": 13,
      "outputs": [
        {
          "output_type": "stream",
          "name": "stdout",
          "text": [
            "Model Accuracy (One-vs-One): 1.00\n"
          ]
        }
      ]
    },
    {
      "cell_type": "markdown",
      "source": [
        "# 11. Write a Python program to train a Logistic Regression model and visualize the confusion matrix for binary classification"
      ],
      "metadata": {
        "id": "LX6lm5ZKoB4n"
      }
    },
    {
      "cell_type": "code",
      "source": [
        "import numpy as np\n",
        "import pandas as pd\n",
        "import matplotlib.pyplot as plt\n",
        "import seaborn as sns\n",
        "from sklearn.datasets import make_classification\n",
        "from sklearn.model_selection import train_test_split\n",
        "from sklearn.linear_model import LogisticRegression\n",
        "from sklearn.metrics import confusion_matrix, accuracy_score\n",
        "\n",
        "# Step 1: Generate a synthetic binary classification dataset\n",
        "X, y = make_classification(n_samples=500, n_features=5, random_state=42)\n",
        "\n",
        "# Step 2: Split dataset into training (80%) and testing (20%) sets\n",
        "X_train, X_test, y_train, y_test = train_test_split(X, y, test_size=0.2, random_state=42)\n",
        "\n",
        "# Step 3: Train Logistic Regression model\n",
        "model = LogisticRegression()\n",
        "model.fit(X_train, y_train)\n",
        "\n",
        "# Step 4: Make predictions\n",
        "y_pred = model.predict(X_test)\n",
        "\n",
        "# Step 5: Compute and print model accuracy\n",
        "accuracy = accuracy_score(y_test, y_pred)\n",
        "print(f\"Model Accuracy: {accuracy:.2f}\")\n",
        "\n",
        "# Step 6: Compute confusion matrix\n",
        "conf_matrix = confusion_matrix(y_test, y_pred)\n",
        "\n",
        "# Step 7: Visualize confusion matrix using heatmap\n",
        "plt.figure(figsize=(5,4))\n",
        "sns.heatmap(conf_matrix, annot=True, fmt='d', cmap='Blues', xticklabels=['Negative', 'Positive'], yticklabels=['Negative', 'Positive'])\n",
        "plt.xlabel(\"Predicted Label\")\n",
        "plt.ylabel(\"True Label\")\n",
        "plt.title(\"Confusion Matrix\")\n",
        "plt.show()\n"
      ],
      "metadata": {
        "colab": {
          "base_uri": "https://localhost:8080/",
          "height": 427
        },
        "id": "S5NSg0droNBD",
        "outputId": "789a701e-e4cc-44af-c967-457df0e28af5"
      },
      "execution_count": 14,
      "outputs": [
        {
          "output_type": "stream",
          "name": "stdout",
          "text": [
            "Model Accuracy: 0.89\n"
          ]
        },
        {
          "output_type": "display_data",
          "data": {
            "text/plain": [
              "<Figure size 500x400 with 2 Axes>"
            ],
            "image/png": "[encoded data removed]"
          },
          "metadata": {}
        }
      ]
    },
    {
      "cell_type": "markdown",
      "source": [
        "# 12. Write a Python program to train a Logistic Regression model and evaluate its performance using Precision, Recall, and F1-Score"
      ],
      "metadata": {
        "id": "RrKUSvpgoSJz"
      }
    },
    {
      "cell_type": "code",
      "source": [
        "import numpy as np\n",
        "import pandas as pd\n",
        "from sklearn.datasets import make_classification\n",
        "from sklearn.model_selection import train_test_split\n",
        "from sklearn.linear_model import LogisticRegression\n",
        "from sklearn.metrics import classification_report, accuracy_score\n",
        "\n",
        "# Step 1: Generate a synthetic binary classification dataset\n",
        "X, y = make_classification(n_samples=500, n_features=5, random_state=42)\n",
        "\n",
        "# Step 2: Split dataset into training (80%) and testing (20%) sets\n",
        "X_train, X_test, y_train, y_test = train_test_split(X, y, test_size=0.2, random_state=42)\n",
        "\n",
        "# Step 3: Train Logistic Regression model\n",
        "model = LogisticRegression()\n",
        "model.fit(X_train, y_train)\n",
        "\n",
        "# Step 4: Make predictions\n",
        "y_pred = model.predict(X_test)\n",
        "\n",
        "# Step 5: Compute and print model accuracy\n",
        "accuracy = accuracy_score(y_test, y_pred)\n",
        "print(f\"Model Accuracy: {accuracy:.2f}\")\n",
        "\n",
        "# Step 6: Evaluate performance using Precision, Recall, and F1-Score\n",
        "report = classification_report(y_test, y_pred)\n",
        "print(\"\\nClassification Report:\\n\", report)\n"
      ],
      "metadata": {
        "colab": {
          "base_uri": "https://localhost:8080/"
        },
        "id": "HI204QrEohMV",
        "outputId": "cb7c21d6-1a81-4026-a14d-760bc932eabf"
      },
      "execution_count": 15,
      "outputs": [
        {
          "output_type": "stream",
          "name": "stdout",
          "text": [
            "Model Accuracy: 0.89\n",
            "\n",
            "Classification Report:\n",
            "               precision    recall  f1-score   support\n",
            "\n",
            "           0       0.92      0.87      0.89        53\n",
            "           1       0.86      0.91      0.89        47\n",
            "\n",
            "    accuracy                           0.89       100\n",
            "   macro avg       0.89      0.89      0.89       100\n",
            "weighted avg       0.89      0.89      0.89       100\n",
            "\n"
          ]
        }
      ]
    },
    {
      "cell_type": "markdown",
      "source": [
        "# 13. Write a Python program to train a Logistic Regression model on imbalanced data and apply class weights to improve model performance"
      ],
      "metadata": {
        "id": "C1uu_wLkotKg"
      }
    },
    {
      "cell_type": "code",
      "source": [
        "import numpy as np\n",
        "import pandas as pd\n",
        "import matplotlib.pyplot as plt\n",
        "import seaborn as sns\n",
        "from sklearn.datasets import make_classification\n",
        "from sklearn.model_selection import train_test_split\n",
        "from sklearn.linear_model import LogisticRegression\n",
        "from sklearn.metrics import classification_report, confusion_matrix\n",
        "\n",
        "# Step 1: Generate an imbalanced dataset\n",
        "X, y = make_classification(n_samples=5000, n_features=5, weights=[0.90, 0.10], random_state=42)\n",
        "\n",
        "# Step 2: Split dataset into training (80%) and testing (20%) sets\n",
        "X_train, X_test, y_train, y_test = train_test_split(X, y, test_size=0.2, random_state=42, stratify=y)\n",
        "\n",
        "# Step 3: Train Logistic Regression model with class weights\n",
        "model = LogisticRegression(class_weight='balanced', solver='liblinear')\n",
        "model.fit(X_train, y_train)\n",
        "\n",
        "# Step 4: Make predictions\n",
        "y_pred = model.predict(X_test)\n",
        "\n",
        "# Step 5: Evaluate model performance\n",
        "print(\"Classification Report:\\n\", classification_report(y_test, y_pred))\n",
        "\n",
        "# Step 6: Compute confusion matrix\n",
        "conf_matrix = confusion_matrix(y_test, y_pred)\n",
        "\n",
        "# Step 7: Visualize confusion matrix\n",
        "plt.figure(figsize=(5,4))\n",
        "sns.heatmap(conf_matrix, annot=True, fmt='d', cmap='Blues', xticklabels=['Negative', 'Positive'], yticklabels=['Negative', 'Positive'])\n",
        "plt.xlabel(\"Predicted Label\")\n",
        "plt.ylabel(\"True Label\")\n",
        "plt.title(\"Confusion Matrix\")\n",
        "plt.show()\n"
      ],
      "metadata": {
        "colab": {
          "base_uri": "https://localhost:8080/",
          "height": 584
        },
        "id": "uVn9FI3dozM_",
        "outputId": "b31504cb-14a9-4aee-d42a-c8605c8e2686"
      },
      "execution_count": 16,
      "outputs": [
        {
          "output_type": "stream",
          "name": "stdout",
          "text": [
            "Classification Report:\n",
            "               precision    recall  f1-score   support\n",
            "\n",
            "           0       0.98      0.86      0.92       895\n",
            "           1       0.42      0.85      0.56       105\n",
            "\n",
            "    accuracy                           0.86      1000\n",
            "   macro avg       0.70      0.85      0.74      1000\n",
            "weighted avg       0.92      0.86      0.88      1000\n",
            "\n"
          ]
        },
        {
          "output_type": "display_data",
          "data": {
            "text/plain": [
              "<Figure size 500x400 with 2 Axes>"
            ],
            "image/png": "[encoded data removed]"
          },
          "metadata": {}
        }
      ]
    },
    {
      "cell_type": "markdown",
      "source": [
        "# 14. Write a Python program to train Logistic Regression on the Titanic dataset, handle missing values, and evaluate performance"
      ],
      "metadata": {
        "id": "bbb2mUOgpCOW"
      }
    },
    {
      "cell_type": "code",
      "source": [
        "import pandas as pd\n",
        "import numpy as np\n",
        "import seaborn as sns\n",
        "import matplotlib.pyplot as plt\n",
        "from sklearn.model_selection import train_test_split\n",
        "from sklearn.linear_model import LogisticRegression\n",
        "from sklearn.impute import SimpleImputer\n",
        "from sklearn.preprocessing import StandardScaler, OneHotEncoder\n",
        "from sklearn.pipeline import Pipeline\n",
        "from sklearn.compose import ColumnTransformer\n",
        "from sklearn.metrics import classification_report, accuracy_score, confusion_matrix\n",
        "\n",
        "# Step 1: Load the Titanic dataset\n",
        "url = \"https://raw.githubusercontent.com/datasciencedojo/datasets/master/titanic.csv\"\n",
        "df = pd.read_csv(url)\n",
        "\n",
        "# Step 2: Select relevant features and target variable\n",
        "features = [\"Pclass\", \"Sex\", \"Age\", \"SibSp\", \"Parch\", \"Fare\", \"Embarked\"]\n",
        "target = \"Survived\"\n",
        "df = df[features + [target]]\n",
        "\n",
        "# Step 3: Handle missing values\n",
        "df[\"Embarked\"].fillna(df[\"Embarked\"].mode()[0], inplace=True)  # Fill missing Embarked with mode\n",
        "\n",
        "# Step 4: Define preprocessing for numerical and categorical features\n",
        "numeric_features = [\"Age\", \"SibSp\", \"Parch\", \"Fare\"]\n",
        "categorical_features = [\"Pclass\", \"Sex\", \"Embarked\"]\n",
        "\n",
        "numeric_transformer = Pipeline(steps=[\n",
        "    (\"imputer\", SimpleImputer(strategy=\"mean\")),  # Fill missing Age with mean\n",
        "    (\"scaler\", StandardScaler())  # Standardize numeric values\n",
        "])\n",
        "\n",
        "categorical_transformer = Pipeline(steps=[\n",
        "    (\"encoder\", OneHotEncoder(drop=\"first\"))  # One-hot encode categorical variables\n",
        "])\n",
        "\n",
        "preprocessor = ColumnTransformer(transformers=[\n",
        "    (\"num\", numeric_transformer, numeric_features),\n",
        "    (\"cat\", categorical_transformer, categorical_features)\n",
        "])\n",
        "\n",
        "# Step 5: Split data into training (80%) and testing (20%) sets\n",
        "X = df.drop(columns=[target])\n",
        "y = df[target]\n",
        "X_train, X_test, y_train, y_test = train_test_split(X, y, test_size=0.2, random_state=42, stratify=y)\n",
        "\n",
        "# Step 6: Train Logistic Regression model with preprocessing\n",
        "model = Pipeline(steps=[\n",
        "    (\"preprocessor\", preprocessor),\n",
        "    (\"classifier\", LogisticRegression(max_iter=200))\n",
        "])\n",
        "\n",
        "model.fit(X_train, y_train)\n",
        "\n",
        "# Step 7: Make predictions\n",
        "y_pred = model.predict(X_test)\n",
        "\n",
        "# Step 8: Evaluate model performance\n",
        "accuracy = accuracy_score(y_test, y_pred)\n",
        "print(f\"Model Accuracy: {accuracy:.2f}\")\n",
        "\n",
        "print(\"\\nClassification Report:\\n\", classification_report(y_test, y_pred))\n",
        "\n",
        "# Step 9: Compute and visualize confusion matrix\n",
        "conf_matrix = confusion_matrix(y_test, y_pred)\n",
        "plt.figure(figsize=(5,4))\n",
        "sns.heatmap(conf_matrix, annot=True, fmt='d', cmap='Blues', xticklabels=['Not Survived', 'Survived'], yticklabels=['Not Survived', 'Survived'])\n",
        "plt.xlabel(\"Predicted Label\")\n",
        "plt.ylabel(\"True Label\")\n",
        "plt.title(\"Confusion Matrix\")\n",
        "plt.show()\n"
      ],
      "metadata": {
        "colab": {
          "base_uri": "https://localhost:8080/",
          "height": 760
        },
        "id": "N6HQMqKvpLoc",
        "outputId": "f7870c5e-50eb-4fbb-c4ba-8f7115c587ff"
      },
      "execution_count": 17,
      "outputs": [
        {
          "output_type": "stream",
          "name": "stderr",
          "text": [
            "<ipython-input-17-d6cfd86a8cbd>:23: FutureWarning: A value is trying to be set on a copy of a DataFrame or Series through chained assignment using an inplace method.\n",
            "The behavior will change in pandas 3.0. This inplace method will never work because the intermediate object on which we are setting values always behaves as a copy.\n",
            "\n",
            "For example, when doing 'df[col].method(value, inplace=True)', try using 'df.method({col: value}, inplace=True)' or df[col] = df[col].method(value) instead, to perform the operation inplace on the original object.\n",
            "\n",
            "\n",
            "  df[\"Embarked\"].fillna(df[\"Embarked\"].mode()[0], inplace=True)  # Fill missing Embarked with mode\n"
          ]
        },
        {
          "output_type": "stream",
          "name": "stdout",
          "text": [
            "Model Accuracy: 0.79\n",
            "\n",
            "Classification Report:\n",
            "               precision    recall  f1-score   support\n",
            "\n",
            "           0       0.80      0.88      0.84       110\n",
            "           1       0.78      0.65      0.71        69\n",
            "\n",
            "    accuracy                           0.79       179\n",
            "   macro avg       0.79      0.77      0.77       179\n",
            "weighted avg       0.79      0.79      0.79       179\n",
            "\n"
          ]
        },
        {
          "output_type": "display_data",
          "data": {
            "text/plain": [
              "<Figure size 500x400 with 2 Axes>"
            ],
            "image/png": "[encoded data removed]"
          },
          "metadata": {}
        }
      ]
    },
    {
      "cell_type": "markdown",
      "source": [
        "# 15. Write a Python program to apply feature scaling (Standardization) before training a Logistic Regression model. Evaluate its accuracy and compare results with and without scaling"
      ],
      "metadata": {
        "id": "tJZBc2t-rE8x"
      }
    },
    {
      "cell_type": "code",
      "source": [
        "import numpy as np\n",
        "import pandas as pd\n",
        "from sklearn.model_selection import train_test_split\n",
        "from sklearn.preprocessing import StandardScaler\n",
        "from sklearn.linear_model import LogisticRegression\n",
        "from sklearn.metrics import accuracy_score\n",
        "\n",
        "# Step 1: Generate a synthetic dataset\n",
        "from sklearn.datasets import make_classification\n",
        "X, y = make_classification(n_samples=1000, n_features=5, random_state=42)\n",
        "\n",
        "# Step 2: Split dataset into training (80%) and testing (20%) sets\n",
        "X_train, X_test, y_train, y_test = train_test_split(X, y, test_size=0.2, random_state=42, stratify=y)\n",
        "\n",
        "# Step 3: Train Logistic Regression WITHOUT Scaling\n",
        "model_no_scaling = LogisticRegression()\n",
        "model_no_scaling.fit(X_train, y_train)\n",
        "y_pred_no_scaling = model_no_scaling.predict(X_test)\n",
        "accuracy_no_scaling = accuracy_score(y_test, y_pred_no_scaling)\n",
        "\n",
        "# Step 4: Apply Feature Scaling (Standardization)\n",
        "scaler = StandardScaler()\n",
        "X_train_scaled = scaler.fit_transform(X_train)\n",
        "X_test_scaled = scaler.transform(X_test)\n",
        "\n",
        "# Step 5: Train Logistic Regression WITH Scaling\n",
        "model_with_scaling = LogisticRegression()\n",
        "model_with_scaling.fit(X_train_scaled, y_train)\n",
        "y_pred_with_scaling = model_with_scaling.predict(X_test_scaled)\n",
        "accuracy_with_scaling = accuracy_score(y_test, y_pred_with_scaling)\n",
        "\n",
        "# Step 6: Print Accuracy Results\n",
        "print(f\"Accuracy WITHOUT Scaling: {accuracy_no_scaling:.4f}\")\n",
        "print(f\"Accuracy WITH Scaling: {accuracy_with_scaling:.4f}\")\n"
      ],
      "metadata": {
        "colab": {
          "base_uri": "https://localhost:8080/"
        },
        "id": "mJtBciNHrLZ0",
        "outputId": "8aab0046-2adf-4302-aa5f-6fbd9b132fd2"
      },
      "execution_count": 18,
      "outputs": [
        {
          "output_type": "stream",
          "name": "stdout",
          "text": [
            "Accuracy WITHOUT Scaling: 0.8400\n",
            "Accuracy WITH Scaling: 0.8350\n"
          ]
        }
      ]
    },
    {
      "cell_type": "markdown",
      "source": [
        "# 16. Write a Python program to train Logistic Regression and evaluate its performance using ROC-AUC score"
      ],
      "metadata": {
        "id": "NSumKqE4sKtl"
      }
    },
    {
      "cell_type": "code",
      "source": [
        "import numpy as np\n",
        "import pandas as pd\n",
        "import matplotlib.pyplot as plt\n",
        "from sklearn.model_selection import train_test_split\n",
        "from sklearn.linear_model import LogisticRegression\n",
        "from sklearn.datasets import make_classification\n",
        "from sklearn.metrics import roc_auc_score, roc_curve\n",
        "\n",
        "# Step 1: Generate a synthetic dataset\n",
        "X, y = make_classification(n_samples=1000, n_features=5, random_state=42)\n",
        "\n",
        "# Step 2: Split dataset into training (80%) and testing (20%) sets\n",
        "X_train, X_test, y_train, y_test = train_test_split(X, y, test_size=0.2, random_state=42, stratify=y)\n",
        "\n",
        "# Step 3: Train Logistic Regression model\n",
        "model = LogisticRegression()\n",
        "model.fit(X_train, y_train)\n",
        "\n",
        "# Step 4: Predict probabilities\n",
        "y_prob = model.predict_proba(X_test)[:, 1]  # Probability of positive class\n",
        "\n",
        "# Step 5: Compute ROC-AUC score\n",
        "auc_score = roc_auc_score(y_test, y_prob)\n",
        "print(f\"ROC-AUC Score: {auc_score:.4f}\")\n",
        "\n",
        "# Step 6: Compute ROC Curve\n",
        "fpr, tpr, _ = roc_curve(y_test, y_prob)\n",
        "\n",
        "# Step 7: Plot ROC Curve\n",
        "plt.figure(figsize=(6,5))\n",
        "plt.plot(fpr, tpr, label=f'ROC Curve (AUC = {auc_score:.4f})', color='blue')\n",
        "plt.plot([0, 1], [0, 1], linestyle='--', color='gray')  # Diagonal reference line\n",
        "plt.xlabel(\"False Positive Rate\")\n",
        "plt.ylabel(\"True Positive Rate\")\n",
        "plt.title(\"ROC Curve\")\n",
        "plt.legend()\n",
        "plt.show()\n"
      ],
      "metadata": {
        "colab": {
          "base_uri": "https://localhost:8080/",
          "height": 504
        },
        "id": "gYm4PTJqsZUr",
        "outputId": "8dba8ef2-54cc-41bb-b597-1161ebf34322"
      },
      "execution_count": 19,
      "outputs": [
        {
          "output_type": "stream",
          "name": "stdout",
          "text": [
            "ROC-AUC Score: 0.9174\n"
          ]
        },
        {
          "output_type": "display_data",
          "data": {
            "text/plain": [
              "<Figure size 600x500 with 1 Axes>"
            ],
            "image/png": "[encoded data removed]"
          },
          "metadata": {}
        }
      ]
    },
    {
      "cell_type": "markdown",
      "source": [
        "# 17. Write a Python program to train Logistic Regression using a custom learning rate (C=0.5) and evaluate accuracy"
      ],
      "metadata": {
        "id": "7TO6UpizsoiL"
      }
    },
    {
      "cell_type": "code",
      "source": [
        "import numpy as np\n",
        "import pandas as pd\n",
        "from sklearn.model_selection import train_test_split\n",
        "from sklearn.linear_model import LogisticRegression\n",
        "from sklearn.metrics import accuracy_score\n",
        "from sklearn.datasets import make_classification\n",
        "\n",
        "# Step 1: Generate a synthetic dataset\n",
        "X, y = make_classification(n_samples=1000, n_features=5, random_state=42)\n",
        "\n",
        "# Step 2: Split dataset into training (80%) and testing (20%) sets\n",
        "X_train, X_test, y_train, y_test = train_test_split(X, y, test_size=0.2, random_state=42, stratify=y)\n",
        "\n",
        "# Step 3: Train Logistic Regression model with custom learning rate (C=0.5)\n",
        "model = LogisticRegression(C=0.5, solver='lbfgs', max_iter=200)\n",
        "model.fit(X_train, y_train)\n",
        "\n",
        "# Step 4: Make predictions\n",
        "y_pred = model.predict(X_test)\n",
        "\n",
        "# Step 5: Evaluate accuracy\n",
        "accuracy = accuracy_score(y_test, y_pred)\n",
        "print(f\"Model Accuracy with C=0.5: {accuracy:.4f}\")\n"
      ],
      "metadata": {
        "colab": {
          "base_uri": "https://localhost:8080/"
        },
        "id": "8dtGNzRBs3Kj",
        "outputId": "968e9145-57dc-4a72-cbe6-216d6beff2dc"
      },
      "execution_count": 21,
      "outputs": [
        {
          "output_type": "stream",
          "name": "stdout",
          "text": [
            "Model Accuracy with C=0.5: 0.8350\n"
          ]
        }
      ]
    },
    {
      "cell_type": "markdown",
      "source": [
        "# 18. Write a Python program to train Logistic Regression and identify important features based on model coefficients"
      ],
      "metadata": {
        "id": "mZyW0Xhvs6Io"
      }
    },
    {
      "cell_type": "code",
      "source": [
        "import numpy as np\n",
        "import pandas as pd\n",
        "import matplotlib.pyplot as plt\n",
        "from sklearn.model_selection import train_test_split\n",
        "from sklearn.linear_model import LogisticRegression\n",
        "from sklearn.datasets import make_classification\n",
        "\n",
        "# Step 1: Generate a synthetic dataset with feature names\n",
        "X, y = make_classification(n_samples=1000, n_features=10, random_state=42)\n",
        "feature_names = [f'Feature {i+1}' for i in range(X.shape[1])]\n",
        "\n",
        "# Step 2: Split dataset into training (80%) and testing (20%) sets\n",
        "X_train, X_test, y_train, y_test = train_test_split(X, y, test_size=0.2, random_state=42, stratify=y)\n",
        "\n",
        "# Step 3: Train Logistic Regression model\n",
        "model = LogisticRegression()\n",
        "model.fit(X_train, y_train)\n",
        "\n",
        "# Step 4: Get feature importance (absolute coefficient values)\n",
        "feature_importance = np.abs(model.coef_[0])\n",
        "\n",
        "# Step 5: Sort features by importance\n",
        "sorted_indices = np.argsort(feature_importance)[::-1]\n",
        "sorted_features = [feature_names[i] for i in sorted_indices]\n",
        "sorted_importance = feature_importance[sorted_indices]\n",
        "\n",
        "# Step 6: Plot feature importance\n",
        "plt.figure(figsize=(8,5))\n",
        "plt.barh(sorted_features, sorted_importance, color='blue')\n",
        "plt.xlabel(\"Importance (|Coefficient|)\")\n",
        "plt.ylabel(\"Feature\")\n",
        "plt.title(\"Feature Importance in Logistic Regression\")\n",
        "plt.gca().invert_yaxis()\n",
        "plt.show()"
      ],
      "metadata": {
        "colab": {
          "base_uri": "https://localhost:8080/",
          "height": 488
        },
        "id": "vi0dOzEcs_yd",
        "outputId": "85a249db-ede0-4dce-df04-445400fbf2b0"
      },
      "execution_count": 22,
      "outputs": [
        {
          "output_type": "display_data",
          "data": {
            "text/plain": [
              "<Figure size 800x500 with 1 Axes>"
            ],
            "image/png": "[encoded data removed]"
          },
          "metadata": {}
        }
      ]
    },
    {
      "cell_type": "markdown",
      "source": [
        "# 19. Write a Python program to train Logistic Regression and evaluate its performance using Cohen’s Kappa Score"
      ],
      "metadata": {
        "id": "Z6zDk2MrtQOR"
      }
    },
    {
      "cell_type": "code",
      "source": [
        "import numpy as np\n",
        "import pandas as pd\n",
        "from sklearn.model_selection import train_test_split\n",
        "from sklearn.linear_model import LogisticRegression\n",
        "from sklearn.metrics import cohen_kappa_score, accuracy_score\n",
        "from sklearn.datasets import make_classification\n",
        "\n",
        "# Step 1: Generate a synthetic dataset\n",
        "X, y = make_classification(n_samples=1000, n_features=5, random_state=42)\n",
        "\n",
        "# Step 2: Split dataset into training (80%) and testing (20%) sets\n",
        "X_train, X_test, y_train, y_test = train_test_split(X, y, test_size=0.2, random_state=42, stratify=y)\n",
        "\n",
        "# Step 3: Train Logistic Regression model\n",
        "model = LogisticRegression()\n",
        "model.fit(X_train, y_train)\n",
        "\n",
        "# Step 4: Make predictions\n",
        "y_pred = model.predict(X_test)\n",
        "\n",
        "# Step 5: Evaluate accuracy and Cohen’s Kappa Score\n",
        "accuracy = accuracy_score(y_test, y_pred)\n",
        "kappa_score = cohen_kappa_score(y_test, y_pred)\n",
        "\n",
        "print(f\"Model Accuracy: {accuracy:.4f}\")\n",
        "print(f\"Cohen’s Kappa Score: {kappa_score:.4f}\")\n"
      ],
      "metadata": {
        "colab": {
          "base_uri": "https://localhost:8080/"
        },
        "id": "1IGLuTKTtnsv",
        "outputId": "babb1f0a-c63b-4757-f5cb-82481af8dbf8"
      },
      "execution_count": 23,
      "outputs": [
        {
          "output_type": "stream",
          "name": "stdout",
          "text": [
            "Model Accuracy: 0.8400\n",
            "Cohen’s Kappa Score: 0.6800\n"
          ]
        }
      ]
    },
    {
      "cell_type": "markdown",
      "source": [
        "# 20. Write a Python program to train Logistic Regression and visualize the Precision-Recall Curve for binary classification"
      ],
      "metadata": {
        "id": "9JPoSGAbtu2W"
      }
    },
    {
      "cell_type": "code",
      "source": [
        "import numpy as np\n",
        "import matplotlib.pyplot as plt\n",
        "from sklearn.model_selection import train_test_split\n",
        "from sklearn.linear_model import LogisticRegression\n",
        "from sklearn.metrics import precision_recall_curve, auc\n",
        "from sklearn.datasets import make_classification\n",
        "\n",
        "# Step 1: Generate a synthetic dataset\n",
        "X, y = make_classification(n_samples=1000, n_features=5, random_state=42)\n",
        "\n",
        "# Step 2: Split dataset into training (80%) and testing (20%) sets\n",
        "X_train, X_test, y_train, y_test = train_test_split(X, y, test_size=0.2, random_state=42, stratify=y)\n",
        "\n",
        "# Step 3: Train Logistic Regression model\n",
        "model = LogisticRegression()\n",
        "model.fit(X_train, y_train)\n",
        "\n",
        "# Step 4: Get predicted probabilities\n",
        "y_scores = model.predict_proba(X_test)[:, 1]  # Probability for positive class\n",
        "\n",
        "# Step 5: Compute Precision-Recall values\n",
        "precision, recall, _ = precision_recall_curve(y_test, y_scores)\n",
        "\n",
        "# Step 6: Compute AUC (Area Under Curve)\n",
        "pr_auc = auc(recall, precision)\n",
        "\n",
        "# Step 7: Plot Precision-Recall Curve\n",
        "plt.figure(figsize=(7,5))\n",
        "plt.plot(recall, precision, marker='.', label=f'PR AUC = {pr_auc:.4f}')\n",
        "plt.xlabel('Recall')\n",
        "plt.ylabel('Precision')\n",
        "plt.title('Precision-Recall Curve')\n",
        "plt.legend()\n",
        "plt.grid()\n",
        "plt.show()\n"
      ],
      "metadata": {
        "colab": {
          "base_uri": "https://localhost:8080/",
          "height": 487
        },
        "id": "uYhqySdUt3ka",
        "outputId": "32d3f01c-d1a8-45df-f6a8-2ff02a6d2a87"
      },
      "execution_count": 24,
      "outputs": [
        {
          "output_type": "display_data",
          "data": {
            "text/plain": [
              "<Figure size 700x500 with 1 Axes>"
            ],
            "image/png": "[encoded data removed]"
          },
          "metadata": {}
        }
      ]
    },
    {
      "cell_type": "markdown",
      "source": [
        "# 21. Write a Python program to train Logistic Regression with different solvers (liblinear, saga, lbfgs) and compare their accuracy"
      ],
      "metadata": {
        "id": "HOTJAhtIt8b4"
      }
    },
    {
      "cell_type": "code",
      "source": [
        "import numpy as np\n",
        "import pandas as pd\n",
        "from sklearn.model_selection import train_test_split\n",
        "from sklearn.linear_model import LogisticRegression\n",
        "from sklearn.metrics import accuracy_score\n",
        "from sklearn.datasets import make_classification\n",
        "\n",
        "# Step 1: Generate a synthetic dataset\n",
        "X, y = make_classification(n_samples=1000, n_features=5, random_state=42)\n",
        "\n",
        "# Step 2: Split dataset into training (80%) and testing (20%) sets\n",
        "X_train, X_test, y_train, y_test = train_test_split(X, y, test_size=0.2, random_state=42, stratify=y)\n",
        "\n",
        "# Step 3: Define solvers to compare\n",
        "solvers = ['liblinear', 'saga', 'lbfgs']\n",
        "results = {}\n",
        "\n",
        "# Step 4: Train and evaluate models with different solvers\n",
        "for solver in solvers:\n",
        "    model = LogisticRegression(solver=solver, max_iter=200)\n",
        "    model.fit(X_train, y_train)\n",
        "    y_pred = model.predict(X_test)\n",
        "    accuracy = accuracy_score(y_test, y_pred)\n",
        "    results[solver] = accuracy\n",
        "    print(f\"Solver: {solver} -> Accuracy: {accuracy:.4f}\")\n",
        "\n",
        "# Step 5: Display results\n",
        "print(\"\\nComparison of Solvers:\")\n",
        "for solver, acc in results.items():\n",
        "    print(f\"{solver}: {acc:.4f}\")\n"
      ],
      "metadata": {
        "colab": {
          "base_uri": "https://localhost:8080/"
        },
        "id": "9iiLMCNmuE4r",
        "outputId": "66924340-b5d9-4c17-a517-e4aa4cce682a"
      },
      "execution_count": 25,
      "outputs": [
        {
          "output_type": "stream",
          "name": "stdout",
          "text": [
            "Solver: liblinear -> Accuracy: 0.8350\n",
            "Solver: saga -> Accuracy: 0.8350\n",
            "Solver: lbfgs -> Accuracy: 0.8400\n",
            "\n",
            "Comparison of Solvers:\n",
            "liblinear: 0.8350\n",
            "saga: 0.8350\n",
            "lbfgs: 0.8400\n"
          ]
        }
      ]
    },
    {
      "cell_type": "markdown",
      "source": [
        "# 22. Write a Python program to train Logistic Regression and evaluate its performance using Matthews Correlation Coefficient (MCC)"
      ],
      "metadata": {
        "id": "_0ct-uETuJ8a"
      }
    },
    {
      "cell_type": "code",
      "source": [
        "import numpy as np\n",
        "from sklearn.model_selection import train_test_split\n",
        "from sklearn.linear_model import LogisticRegression\n",
        "from sklearn.metrics import matthews_corrcoef\n",
        "from sklearn.datasets import make_classification\n",
        "\n",
        "# Step 1: Generate a synthetic dataset\n",
        "X, y = make_classification(n_samples=1000, n_features=5, random_state=42)\n",
        "\n",
        "# Step 2: Split dataset into training (80%) and testing (20%) sets\n",
        "X_train, X_test, y_train, y_test = train_test_split(X, y, test_size=0.2, random_state=42, stratify=y)\n",
        "\n",
        "# Step 3: Train Logistic Regression model\n",
        "model = LogisticRegression(solver='lbfgs', max_iter=200)\n",
        "model.fit(X_train, y_train)\n",
        "\n",
        "# Step 4: Make predictions\n",
        "y_pred = model.predict(X_test)\n",
        "\n",
        "# Step 5: Compute Matthews Correlation Coefficient (MCC)\n",
        "mcc = matthews_corrcoef(y_test, y_pred)\n",
        "\n",
        "# Step 6: Print MCC Score\n",
        "print(f\"Matthews Correlation Coefficient (MCC): {mcc:.4f}\")\n"
      ],
      "metadata": {
        "colab": {
          "base_uri": "https://localhost:8080/"
        },
        "id": "C-ISjjg1uQ_6",
        "outputId": "56a8803e-586d-4f9c-a05e-283d921c99b8"
      },
      "execution_count": 26,
      "outputs": [
        {
          "output_type": "stream",
          "name": "stdout",
          "text": [
            "Matthews Correlation Coefficient (MCC): 0.6834\n"
          ]
        }
      ]
    },
    {
      "cell_type": "markdown",
      "source": [
        "# 23. Write a Python program to train Logistic Regression on both raw and standardized data. Compare their accuracy to see the impact of feature scaling"
      ],
      "metadata": {
        "id": "HttT00GRuVrc"
      }
    },
    {
      "cell_type": "code",
      "source": [
        "import numpy as np\n",
        "from sklearn.model_selection import train_test_split\n",
        "from sklearn.linear_model import LogisticRegression\n",
        "from sklearn.preprocessing import StandardScaler\n",
        "from sklearn.metrics import accuracy_score\n",
        "from sklearn.datasets import make_classification\n",
        "\n",
        "# Step 1: Generate a synthetic dataset\n",
        "X, y = make_classification(n_samples=1000, n_features=5, random_state=42)\n",
        "\n",
        "# Step 2: Split dataset into training (80%) and testing (20%) sets\n",
        "X_train, X_test, y_train, y_test = train_test_split(X, y, test_size=0.2, random_state=42, stratify=y)\n",
        "\n",
        "# Step 3: Train Logistic Regression on raw data\n",
        "model_raw = LogisticRegression(solver='lbfgs', max_iter=200)\n",
        "model_raw.fit(X_train, y_train)\n",
        "y_pred_raw = model_raw.predict(X_test)\n",
        "accuracy_raw = accuracy_score(y_test, y_pred_raw)\n",
        "\n",
        "# Step 4: Standardize the features\n",
        "scaler = StandardScaler()\n",
        "X_train_scaled = scaler.fit_transform(X_train)\n",
        "X_test_scaled = scaler.transform(X_test)\n",
        "\n",
        "# Step 5: Train Logistic Regression on standardized data\n",
        "model_scaled = LogisticRegression(solver='lbfgs', max_iter=200)\n",
        "model_scaled.fit(X_train_scaled, y_train)\n",
        "y_pred_scaled = model_scaled.predict(X_test_scaled)\n",
        "accuracy_scaled = accuracy_score(y_test, y_pred_scaled)\n",
        "\n",
        "# Step 6: Print accuracy comparison\n",
        "print(f\"Accuracy on Raw Data: {accuracy_raw:.4f}\")\n",
        "print(f\"Accuracy on Standardized Data: {accuracy_scaled:.4f}\")\n"
      ],
      "metadata": {
        "colab": {
          "base_uri": "https://localhost:8080/"
        },
        "id": "FzVIxqsIuf4k",
        "outputId": "2e2198b3-e4fe-44b3-d29a-27f6db4bf083"
      },
      "execution_count": 27,
      "outputs": [
        {
          "output_type": "stream",
          "name": "stdout",
          "text": [
            "Accuracy on Raw Data: 0.8400\n",
            "Accuracy on Standardized Data: 0.8350\n"
          ]
        }
      ]
    },
    {
      "cell_type": "markdown",
      "source": [
        "# 24. Write a Python program to train Logistic Regression and find the optimal C (regularization strength) using cross-validation"
      ],
      "metadata": {
        "id": "SDpUZbIGulv2"
      }
    },
    {
      "cell_type": "code",
      "source": [
        "import numpy as np\n",
        "from sklearn.model_selection import GridSearchCV\n",
        "from sklearn.linear_model import LogisticRegression\n",
        "from sklearn.datasets import make_classification\n",
        "\n",
        "# Step 1: Generate a synthetic dataset\n",
        "X, y = make_classification(n_samples=1000, n_features=5, random_state=42)\n",
        "\n",
        "# Step 2: Define the Logistic Regression model\n",
        "model = LogisticRegression(solver='liblinear', max_iter=200)\n",
        "\n",
        "# Step 3: Define the hyperparameter grid for C values\n",
        "param_grid = {'C': np.logspace(-3, 3, 10)}  # C values from 0.001 to 1000\n",
        "\n",
        "# Step 4: Perform GridSearchCV for cross-validation\n",
        "grid_search = GridSearchCV(model, param_grid, cv=5, scoring='accuracy', n_jobs=-1)\n",
        "grid_search.fit(X, y)\n",
        "\n",
        "# Step 5: Print the best hyperparameter and accuracy\n",
        "print(f\"Optimal C: {grid_search.best_params_['C']}\")\n",
        "print(f\"Best Accuracy: {grid_search.best_score_:.4f}\")\n"
      ],
      "metadata": {
        "colab": {
          "base_uri": "https://localhost:8080/"
        },
        "id": "qWQ_87TGutUN",
        "outputId": "efe1bdde-db7d-4501-ba94-9e8c9c2eb146"
      },
      "execution_count": 28,
      "outputs": [
        {
          "output_type": "stream",
          "name": "stdout",
          "text": [
            "Optimal C: 0.1\n",
            "Best Accuracy: 0.8630\n"
          ]
        }
      ]
    },
    {
      "cell_type": "markdown",
      "source": [
        "# 25. Write a Python program to train Logistic Regression, save the trained model using joblib, and load it again to make predictions."
      ],
      "metadata": {
        "id": "ubFAsejXu0VH"
      }
    },
    {
      "cell_type": "code",
      "source": [
        "import numpy as np\n",
        "import joblib\n",
        "from sklearn.model_selection import train_test_split\n",
        "from sklearn.linear_model import LogisticRegression\n",
        "from sklearn.datasets import make_classification\n",
        "from sklearn.metrics import accuracy_score\n",
        "\n",
        "# Step 1: Generate a synthetic dataset\n",
        "X, y = make_classification(n_samples=1000, n_features=5, random_state=42)\n",
        "\n",
        "# Step 2: Split dataset into training and testing sets\n",
        "X_train, X_test, y_train, y_test = train_test_split(X, y, test_size=0.2, random_state=42, stratify=y)\n",
        "\n",
        "# Step 3: Train Logistic Regression model\n",
        "model = LogisticRegression(solver='lbfgs', max_iter=200)\n",
        "model.fit(X_train, y_train)\n",
        "\n",
        "# Step 4: Save the trained model using joblib\n",
        "joblib.dump(model, 'logistic_model.pkl')\n",
        "print(\"Model saved successfully!\")\n",
        "\n",
        "# Step 5: Load the saved model\n",
        "loaded_model = joblib.load('logistic_model.pkl')\n",
        "print(\"Model loaded successfully!\")\n",
        "\n",
        "# Step 6: Make predictions using the loaded model\n",
        "y_pred = loaded_model.predict(X_test)\n",
        "\n",
        "# Step 7: Evaluate model accuracy\n",
        "accuracy = accuracy_score(y_test, y_pred)\n",
        "print(f\"Model Accuracy: {accuracy:.4f}\")\n"
      ],
      "metadata": {
        "colab": {
          "base_uri": "https://localhost:8080/"
        },
        "id": "AAPjHnYUu9IJ",
        "outputId": "7da326f3-9e02-45a2-a854-445b72b16a2d"
      },
      "execution_count": 29,
      "outputs": [
        {
          "output_type": "stream",
          "name": "stdout",
          "text": [
            "Model saved successfully!\n",
            "Model loaded successfully!\n",
            "Model Accuracy: 0.8400\n"
          ]
        }
      ]
    }
  ]
}